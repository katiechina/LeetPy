{
 "cells": [
  {
   "cell_type": "markdown",
   "metadata": {},
   "source": [
    "# 链表"
   ]
  },
  {
   "cell_type": "markdown",
   "metadata": {},
   "source": [
    "  定义与基础可参考 [链表基础知识](https://github.com/itcharge/LeetCode-Py/blob/main/Contents/02.Linked-List/01.Linked-List-Basic/01.Linked-List-Basic.md)"
   ]
  },
  {
   "cell_type": "markdown",
   "metadata": {},
   "source": [
    "链表解题的一般规律：\n",
    "\n",
    "‘=’左边的.next一般指的是该节点中存的next（链表节点包括两个部分组成，一个是val，一个是next用于指向下一个部分的）\n",
    "\n",
    "‘=’右边的.next一般来讲是next指向的某个具体节点（比如head.next指的是链表的第二个节点）"
   ]
  },
  {
   "cell_type": "markdown",
   "metadata": {},
   "source": [
    "### 第 01 天："
   ]
  },
  {
   "cell_type": "markdown",
   "metadata": {},
   "source": [
    "[0707. 设计链表](https://leetcode-cn.com/problems/design-linked-list/)"
   ]
  },
  {
   "cell_type": "code",
   "execution_count": 3,
   "metadata": {},
   "outputs": [],
   "source": [
    "from typing import List\n",
    "class ListNode:\n",
    "    def __init__(self, val=0, next=None):\n",
    "        self.val = val\n",
    "        self.next = next\n",
    "class MyLinkedList:\n",
    "\n",
    "    def __init__(self):\n",
    "        self.head = None\n",
    "        self.count = 0\n",
    "\n",
    "\n",
    "    def get(self, index: int) -> int:\n",
    "        cur = self.head\n",
    "        if index > self.count-1:\n",
    "            return -1\n",
    "        while index >0:\n",
    "            cur = cur.next\n",
    "            index -= 1\n",
    "        return cur.val\n",
    "\n",
    "\n",
    "    def addAtHead(self, val: int) -> None:\n",
    "        node = ListNode(val)\n",
    "        self.head , self.head.next = node, self.head\n",
    "        self.count += 1        \n",
    "\n",
    "\n",
    "    def addAtTail(self, val: int) -> None:\n",
    "        node = ListNode(val)\n",
    "        cur = self.head\n",
    "        self.count += 1\n",
    "        if not cur:\n",
    "            self.head = node\n",
    "            return \n",
    "        while cur and cur.next:\n",
    "            cur = cur.next\n",
    "        cur.next = node\n",
    "\n",
    "    def addAtIndex(self, index: int, val: int) -> None:\n",
    "        if index > self.count:\n",
    "            return\n",
    "        node = ListNode(val)\n",
    "        pre = None\n",
    "        cur = self.head\n",
    "        self.count += 1\n",
    "        while index >0:\n",
    "            pre, cur = cur, cur.next\n",
    "            index -= 1\n",
    "        if not pre:\n",
    "            self.head = node\n",
    "            node.next = cur\n",
    "            return\n",
    "        pre.next = node\n",
    "        node.next = cur\n",
    "        \n",
    "    def deleteAtIndex(self, index: int) -> None:\n",
    "        if self.count -1 <index:\n",
    "            return\n",
    "        pre = None\n",
    "        cur = self.head\n",
    "        if index == 0:\n",
    "            self.head = self.head.next\n",
    "            self.count -= 1\n",
    "            return\n",
    "        while index > 0:\n",
    "            pre , cur = cur, cur.next\n",
    "            index -= 1\n",
    "        if not cur:\n",
    "            return\n",
    "        pre.next = cur.next\n",
    "        self.count -= 1\n",
    "            \n",
    "        \n",
    "\n",
    "# Your MyLinkedList object will be instantiated and called as such:\n",
    "# obj = MyLinkedList()\n",
    "# param_1 = obj.get(index)\n",
    "# obj.addAtHead(val)\n",
    "# obj.addAtTail(val)\n",
    "# obj.addAtIndex(index,val)\n",
    "# obj.deleteAtIndex(index)"
   ]
  },
  {
   "cell_type": "markdown",
   "metadata": {},
   "source": [
    "这道题用了单向链表实现，大致思路有，但是细节比较多，最后改了很多次，算是面向测试用例编程"
   ]
  },
  {
   "cell_type": "markdown",
   "metadata": {},
   "source": [
    "[0206. 反转链表](https://leetcode-cn.com/problems/reverse-linked-list/)"
   ]
  },
  {
   "cell_type": "code",
   "execution_count": 8,
   "metadata": {},
   "outputs": [],
   "source": [
    "# Definition for singly-linked list.\n",
    "class ListNode:\n",
    "    def __init__(self, val=0, next=None):\n",
    "        self.val = val\n",
    "        self.next = next\n",
    "class Solution:\n",
    "    def reverseList(self, head: ListNode) -> ListNode:\n",
    "        pre, cur= None, head\n",
    "        while cur:\n",
    "            cur.next, pre, cur = pre, cur, cur.next \n",
    "        return pre"
   ]
  },
  {
   "cell_type": "markdown",
   "metadata": {},
   "source": [
    "反转链表这一题使用了双指针迭代：\n",
    "申请两个指针，第一个指针叫 pre，最初指向 None。\n",
    "第二个指针 cur 指向 head，然后不断遍历 cur。\n",
    "每次迭代到 cur，都将 cur 的 next 指向 pre，然后 pre 和 cur 前进一位。\n",
    "都迭代完了(cur 变成 None)，pre 就是最后一个节点了。\n",
    "返回pre即可。"
   ]
  },
  {
   "cell_type": "code",
   "execution_count": null,
   "metadata": {},
   "outputs": [],
   "source": [
    "cur.next, pre, cur = pre, cur, cur.next"
   ]
  },
  {
   "cell_type": "markdown",
   "metadata": {},
   "source": [
    "使用了python中的技巧，可扩展为"
   ]
  },
  {
   "cell_type": "code",
   "execution_count": null,
   "metadata": {},
   "outputs": [],
   "source": [
    "#记录当前节点的下一个节点\n",
    "tmp = cur.next\n",
    "#然后将当前节点指向pre\n",
    "cur.next = pre\n",
    "#pre和cur节点都前进一位\n",
    "pre = cur\n",
    "cur = tmp"
   ]
  },
  {
   "cell_type": "markdown",
   "metadata": {},
   "source": [
    "[0203. 移除链表元素](https://leetcode-cn.com/problems/remove-linked-list-elements/)"
   ]
  },
  {
   "cell_type": "code",
   "execution_count": 7,
   "metadata": {},
   "outputs": [],
   "source": [
    "# Definition for singly-linked list.\n",
    "class ListNode:\n",
    "    def __init__(self, val=0, next=None):\n",
    "        self.val = val\n",
    "        self.next = next\n",
    "        \n",
    "class Solution:\n",
    "    def removeElements(self, head: ListNode, val: int) -> ListNode:\n",
    "        if not head:\n",
    "            return head\n",
    "        pre = None\n",
    "        cur = head\n",
    "        while cur:\n",
    "            if cur.val == val:\n",
    "                if  not pre:\n",
    "                    head = head.next\n",
    "                else:\n",
    "                    pre.next = cur.next\n",
    "                cur = cur.next\n",
    "            else:\n",
    "                pre = cur\n",
    "                cur = cur.next          \n",
    "        return head"
   ]
  },
  {
   "cell_type": "markdown",
   "metadata": {},
   "source": [
    "这一题就是依次遍历每个节点，只有当前节点的值==val时，才跳过。\n",
    "需要注意的是首节点head的值==val，此时pre为None，需要特殊考虑"
   ]
  },
  {
   "cell_type": "markdown",
   "metadata": {},
   "source": [
    "### 第 02 天：\n",
    "[0328. 奇偶链表](https://leetcode-cn.com/problems/odd-even-linked-list/)"
   ]
  },
  {
   "cell_type": "code",
   "execution_count": 9,
   "metadata": {},
   "outputs": [],
   "source": [
    "# Definition for singly-linked list.\n",
    "# class ListNode:\n",
    "#     def __init__(self, val=0, next=None):\n",
    "#         self.val = val\n",
    "#         self.next = next\n",
    "class Solution:\n",
    "    def oddEvenList(self, head: ListNode) -> ListNode:\n",
    "        if not head or not head.next:\n",
    "            return head\n",
    "        odd, even = head, head.next\n",
    "        even_head = even\n",
    "        while odd.next and even.next:\n",
    "            odd.next = odd.next.next\n",
    "            even.next = even.next.next\n",
    "            odd = odd.next\n",
    "            even = even.next\n",
    "        odd.next = even_head\n",
    "        return head"
   ]
  },
  {
   "cell_type": "markdown",
   "metadata": {},
   "source": [
    "1. 这一题构造了双指针法，head是奇数链条的头节点，even_head是偶数链条的头节点。\n",
    "2. 在while循环中构造了完整的奇数链和完整的偶数链。\n",
    "3. 在while循环外将奇数链的下个节点指向偶数链的头节点，得到完整的奇偶链。\n",
    "4. 最后返回奇偶链的头节点head。"
   ]
  },
  {
   "cell_type": "markdown",
   "metadata": {},
   "source": [
    "[0234. 回文链表](https://leetcode-cn.com/problems/palindrome-linked-list/)"
   ]
  },
  {
   "cell_type": "code",
   "execution_count": 10,
   "metadata": {},
   "outputs": [],
   "source": [
    "#方法一，借助数组，如果数组与反转之后数组一致，返回True\n",
    "\n",
    "# Definition for singly-linked list.\n",
    "class ListNode(object):\n",
    "    def __init__(self, x):\n",
    "        self.val = x\n",
    "        self.next = None\n",
    "\n",
    "class Solution(object):\n",
    "    def isPalindrome(self, head):\n",
    "        \"\"\"\n",
    "        :type head: ListNode\n",
    "        :rtype: bool\n",
    "        \"\"\"\n",
    "        if not head: return True\n",
    "        res = [head.val]\n",
    "        new = head.next\n",
    "        while new:\n",
    "            res.append(new.val)\n",
    "            new = new.next\n",
    "        return res[::-1] == res"
   ]
  },
  {
   "cell_type": "code",
   "execution_count": 12,
   "metadata": {},
   "outputs": [],
   "source": [
    "#方法二，借助0206. 反转链表，首先将原链表的值储存在数组中，再遍历反转链表，如果两个链表每个节点的值一致，返回True\n",
    "class Solution:\n",
    "    def isPalindrome(self, head: ListNode) -> bool:\n",
    "        if not head:\n",
    "            return True\n",
    "        pre, cur= None, head\n",
    "        res = []\n",
    "        i = 0\n",
    "        while cur:\n",
    "            res.append(cur.val)\n",
    "            cur.next, pre, cur = pre, cur, cur.next\n",
    "        while pre:\n",
    "            if pre.val != res[i]:\n",
    "                return False\n",
    "            pre  =  pre.next\n",
    "            i += 1\n",
    "        return True "
   ]
  },
  {
   "cell_type": "markdown",
   "metadata": {},
   "source": [
    "方法二相对于方法一有些冗余，毕竟已经借助数组，直接利用数组倒序是否与原数组相等即可得到结果"
   ]
  },
  {
   "cell_type": "markdown",
   "metadata": {},
   "source": [
    "[0138. 复制带随机指针的链表](https://leetcode-cn.com/problems/copy-list-with-random-pointer/)"
   ]
  },
  {
   "cell_type": "markdown",
   "metadata": {},
   "source": [
    "最近刚好在做剑指offer的题目，这道题跟 [剑指 Offer 35. 复杂链表的复制](https://leetcode-cn.com/problems/fu-za-lian-biao-de-fu-zhi-lcof/)一样，当时没什么思路，就跳过了，现在刚好借这个机会研读了下社区的代码。以下参考社区题解：\n",
    "- [两种实现+图解 138. 复制带随机指针的链表](https://leetcode-cn.com/problems/copy-list-with-random-pointer/solution/liang-chong-shi-xian-tu-jie-138-fu-zhi-dai-sui-ji-/)\n",
    "- 这个题解超赞，配图食用清晰明了。"
   ]
  },
  {
   "cell_type": "code",
   "execution_count": 1,
   "metadata": {},
   "outputs": [],
   "source": [
    "# 方法一：\n",
    "# 第一步，根据遍历到的原节点创建对应的新节点，每个新创建的节点是在原节点后面\n",
    "# 第二步是最关键的一步，用来设置新链表的随机指针\n",
    "#   也就是，原节点i的随机指针(如果有的话)，指向的是原节点j，那么新节点i的随机指针，指向的是原节点j的next\n",
    "# 第三步就简单了，只要将两个链表分离开，再返回新链表就可以了\n",
    "class Solution(object):\n",
    "    def copyRandomList(self, head):\n",
    "        if not head:\n",
    "            return None\n",
    "        p = head\n",
    "        # 第一步，在每个原节点后面创建一个新节点\n",
    "        # 1->1'->2->2'->3->3'\n",
    "        while p:\n",
    "            new_node = Node(p.val,None,None)\n",
    "            new_node.next = p.next\n",
    "            p.next = new_node\n",
    "            p = new_node.next\n",
    "        p = head\n",
    "        # 第二步，设置新节点的随机节点\n",
    "        while p:\n",
    "            if p.random:\n",
    "                p.next.random = p.random.next\n",
    "            p = p.next.next\n",
    "        # 第三步，将两个链表分离\n",
    "        p = head\n",
    "        dummy = Node(-1,None,None)\n",
    "        cur = dummy\n",
    "        while p:\n",
    "            cur.next = p.next\n",
    "            cur = cur.next\n",
    "            p.next = cur.next\n",
    "            p = p.next\n",
    "        return dummy.next"
   ]
  },
  {
   "cell_type": "code",
   "execution_count": 2,
   "metadata": {},
   "outputs": [],
   "source": [
    "#解法二\n",
    "#我们用哈希表来解决这个问题\n",
    "#首先创建一个哈希表，再遍历原链表，遍历的同时再不断创建新节点\n",
    "#我们将原节点作为key，新节点作为value放入哈希表中\n",
    "class Solution(object):\n",
    "    def copyRandomList(self, head):\n",
    "        if not head:\n",
    "            return None\n",
    "        # 创建一个哈希表，key是原节点，value是新节点    \n",
    "        d = dict()\n",
    "        p = head\n",
    "        # 将原节点和新节点放入哈希表中\n",
    "        while p:\n",
    "            new_node = Node(p.val,None,None)\n",
    "            d[p] = new_node\n",
    "            p = p.next\n",
    "        p = head\n",
    "        # 遍历原链表，设置新节点的next和random\n",
    "        while p:\n",
    "            # p是原节点，d[p]是对应的新节点，p.next是原节点的下一个\n",
    "            # d[p.next]是原节点下一个对应的新节点\n",
    "            if p.next:\n",
    "                d[p].next = d[p.next]\n",
    "            # p.random是原节点随机指向\n",
    "            # d[p.random]是原节点随机指向  对应的新节点    \n",
    "            if p.random:\n",
    "                d[p].random = d[p.random]\n",
    "            p = p.next\n",
    "        # 返回头结点，即原节点对应的value(新节点)\n",
    "        return d[head]"
   ]
  },
  {
   "cell_type": "markdown",
   "metadata": {},
   "source": [
    "个人比较喜欢方法二，有了思路之后很容易复现。方法一有了思路不一定能马上写出来，比较需要对链表的基础理解。"
   ]
  },
  {
   "cell_type": "markdown",
   "metadata": {},
   "source": [
    "### 第 03 天："
   ]
  },
  {
   "cell_type": "markdown",
   "metadata": {},
   "source": [
    "[0148. 排序链表](https://leetcode-cn.com/problems/sort-list/)"
   ]
  },
  {
   "cell_type": "code",
   "execution_count": 8,
   "metadata": {},
   "outputs": [],
   "source": [
    "# 使用归并排序方法\n",
    "# 1 先将整条链在中间分隔\n",
    "# 2 将分开的两条子链排序好（递归调用归并排序方法）\n",
    "# 3 将已经排序好的两条子链按递增的顺序排列好（这一部分相当于下面一道题0021，可以复用代码）\n",
    "\n",
    "# Definition for singly-linked list.\n",
    "# class ListNode:\n",
    "#     def __init__(self, val=0, next=None):\n",
    "#         self.val = val\n",
    "#         self.next = next\n",
    "class Solution:\n",
    "    def merge(self, l1, l2):\n",
    "        if (not l1) and (not l2):\n",
    "            return None\n",
    "        head = ListNode(0)\n",
    "        new1 = head\n",
    "        while l1 and l2:\n",
    "            if l1.val <= l2.val:\n",
    "                new1.next = l1\n",
    "                l1 = l1.next\n",
    "            else:\n",
    "                new1.next = l2\n",
    "                l2 = l2.next\n",
    "            new1 = new1.next\n",
    "        if not l1:\n",
    "            new1.next = l2\n",
    "        if not l2:\n",
    "            new1.next = l1\n",
    "        return head.next        \n",
    "    def sortList(self, head: Optional[ListNode]) -> Optional[ListNode]:\n",
    "        if not head or not head.next:\n",
    "            return head\n",
    "        slow , fast = head, head.next\n",
    "        while fast and fast.next:\n",
    "            slow = slow.next\n",
    "            fast = fast.next.next\n",
    "        left_head, right_head = head, slow.next\n",
    "        slow.next = None\n",
    "        return self.merge(self.sortList(left_head), self.sortList(right_head))"
   ]
  },
  {
   "cell_type": "markdown",
   "metadata": {},
   "source": [
    "[0021. 合并两个有序链表](https://leetcode-cn.com/problems/merge-two-sorted-lists/)"
   ]
  },
  {
   "cell_type": "code",
   "execution_count": 6,
   "metadata": {},
   "outputs": [],
   "source": [
    "from typing import List, Optional"
   ]
  },
  {
   "cell_type": "code",
   "execution_count": 7,
   "metadata": {},
   "outputs": [],
   "source": [
    "# 方法一\n",
    "class Solution:\n",
    "    def mergeTwoLists(self, list1: Optional[ListNode], list2: Optional[ListNode]) -> Optional[ListNode]:\n",
    "        if not list2:\n",
    "            return list1 \n",
    "        if not list1:\n",
    "            return list2 \n",
    "        if list1.val <= list2.val:\n",
    "            list1.next = self.mergeTwoLists(list1.next, list2)\n",
    "            return list1\n",
    "        list2.next = self.mergeTwoLists(list1,list2.next)\n",
    "        return list2"
   ]
  },
  {
   "cell_type": "code",
   "execution_count": null,
   "metadata": {},
   "outputs": [],
   "source": [
    "#方法二\n",
    "class Solution:\n",
    "    def mergeTwoLists(self, l1: ListNode, l2: ListNode) -> ListNode:\n",
    "        if (not l1) and (not l2):\n",
    "            return None\n",
    "        cur1, cur2 = l1, l2\n",
    "        head = ListNode(0)\n",
    "        new1 = head\n",
    "        while cur1 and cur2:\n",
    "            if cur1.val <= cur2.val:\n",
    "                new1.next = cur1\n",
    "                cur1 = cur1.next\n",
    "            else:\n",
    "                new1.next = cur2\n",
    "                cur2 = cur2.next\n",
    "            new1 = new1.next\n",
    "        if not cur1:\n",
    "            new1.next = cur2\n",
    "        if not cur2:\n",
    "            new1.next = cur1\n",
    "        return head.next"
   ]
  },
  {
   "cell_type": "markdown",
   "metadata": {},
   "source": [
    "这道题与之前做过的[剑指 Offer 25. 合并两个排序的链表](https://leetcode-cn.com/problems/he-bing-liang-ge-pai-xu-de-lian-biao-lcof/)一样。\n",
    "方法一是用递归调用求解\n",
    "方法二是用双指针求解"
   ]
  },
  {
   "cell_type": "markdown",
   "metadata": {},
   "source": [
    "[0147. 对链表进行插入排序]()"
   ]
  },
  {
   "cell_type": "code",
   "execution_count": 9,
   "metadata": {},
   "outputs": [],
   "source": [
    "class Solution:\n",
    "    def insertionSortList(self, head: ListNode) -> ListNode:\n",
    "        if not head or not head.next : return new_head\n",
    "\n",
    "        #1 先使用哑节点 dummy_head 构造一个指向 head 的指针，使得可以从 head 开始遍历。\n",
    "        dummy_head = ListNode(0)\n",
    "        dummy_head.next = head\n",
    "\n",
    "        #2 维护 sorted_list 为链表的已排序部分的最后一个节点，初始时，sorted_list = head。\n",
    "        sorted_list = head\n",
    "\n",
    "        #3 维护 prev 为插入元素位置的前一个节点，维护 cur 为待插入元素。\n",
    "        #  初始时，prev = head，cur = head.next。\n",
    "        prev = head\n",
    "        cur  = head.next\n",
    "\n",
    "\n",
    "        while cur:\n",
    "            #4 比较 sorted_list 和 cur 的节点值。\n",
    "            #  如果 sorted_list.val <= cur.val，说明 cur 应该插入到 sorted_list 之后，\n",
    "            #  则将 sorted_list 后移一位。\n",
    "            if sorted_list.val <= cur.val:\n",
    "                sorted_list.next = cur\n",
    "                sorted_list = sorted_list.next\n",
    "\n",
    "            else:\n",
    "            #如果 sorted_list.val > cur.val，说明 cur 应该插入到 head 与 sorted_list 之间。\n",
    "            #  则使用 prev 从 head 开始遍历，直到找到插入 cur 的位置的前一个节点位置。然后将 cur 插入。\n",
    "                prev = dummy_head\n",
    "                while pre.next.val <= cur.val:\n",
    "                    prev = prev.next\n",
    "                sorted_list.next = cur.next\n",
    "                cur.next = prev.next\n",
    "                prev.next = cur\n",
    "\n",
    "            #5 令 cur = sorted_list.next，此时 cur 为下一个待插入元素。\n",
    "            cur = sorted_list.next\n",
    "\n",
    "        #6 重复 4、5 步骤，直到 cur 遍历结束为空。返回 dummy_head 的下一个节点。\n",
    "        return dummy_head.next"
   ]
  },
  {
   "cell_type": "markdown",
   "metadata": {},
   "source": [
    "开始：\n",
    "dummy_head -> sorted_list -> cur(unsoted_list)\n",
    "\n",
    "分支一：\n",
    "如果 cur 大 （即cur大于等于sorted_list末尾值，也是最大值，直接将cur加到sorted_list末尾）\n",
    "\n",
    "dummy_head -> sorted_list'(including cur at end ) -> cur'(cur.next)(unsorted_list)\n",
    "\n",
    "分支二：\n",
    "如果 cur 小 （即cur小于sorted_list末尾值）\n",
    "需要借助pre = dummy_head，从头开始遍历，找到 pre <= cur < pre.next 的位置，将cur插入pre之后， pre.next 之前\n",
    "\n",
    "dummy_head -> sorted_list'(including cur at middle, pre <= cur < pre.next ) -> cur'(cur.next)(unsorted_list)\n"
   ]
  },
  {
   "cell_type": "markdown",
   "metadata": {},
   "source": [
    "### 第 04 天："
   ]
  },
  {
   "cell_type": "markdown",
   "metadata": {},
   "source": [
    "[0141. 环形链表](https://leetcode-cn.com/problems/linked-list-cycle/)"
   ]
  },
  {
   "cell_type": "code",
   "execution_count": 12,
   "metadata": {},
   "outputs": [],
   "source": [
    "# Definition for singly-linked list.\n",
    "# class ListNode:\n",
    "#     def __init__(self, x):\n",
    "#         self.val = x\n",
    "#         self.next = None\n",
    "\n",
    "class Solution:\n",
    "    def hasCycle(self, head: ListNode) -> bool:\n",
    "        slow = head\n",
    "        fast = head\n",
    "        while slow and fast and fast.next:\n",
    "            fast = fast.next.next\n",
    "            slow = slow.next            \n",
    "            if fast == slow:\n",
    "                return True\n",
    "        return False"
   ]
  },
  {
   "cell_type": "markdown",
   "metadata": {},
   "source": [
    "用双指针法\n",
    "1. slow每次走一步，fast每次走两步\n",
    "2. 当fast走到跟slow一个节点时，说明肯定是环形\n",
    "3. 非环形肯定会碰到末尾节点，跳出循环"
   ]
  },
  {
   "cell_type": "markdown",
   "metadata": {},
   "source": [
    "[0142. 环形链表 II](https://leetcode-cn.com/problems/linked-list-cycle-ii/)"
   ]
  },
  {
   "cell_type": "code",
   "execution_count": 13,
   "metadata": {},
   "outputs": [],
   "source": [
    "# 方法一，借助hash表，第一个重复的元素即是 开始入环的第一个节点\n",
    "class Solution:\n",
    "    def detectCycle(self, head: ListNode) -> ListNode:\n",
    "        h = set()\n",
    "        temp = head\n",
    "        while temp:\n",
    "            if temp in h:\n",
    "                return temp\n",
    "            h.add(temp)\n",
    "            temp = temp.next\n",
    "        return None"
   ]
  },
  {
   "cell_type": "code",
   "execution_count": null,
   "metadata": {},
   "outputs": [],
   "source": [
    "# 方法二，双指针\n",
    "class Solution:\n",
    "    def detectCycle(self, head: ListNode) -> ListNode:\n",
    "        slow = head\n",
    "        fast = head\n",
    "        while slow and fast and fast.next:\n",
    "            fast = fast.next.next\n",
    "            slow = slow.next            \n",
    "            if fast == slow:\n",
    "                fast = head\n",
    "                while fast!= slow:\n",
    "                    fast = fast.next\n",
    "                    slow = slow.next\n",
    "                return fast\n",
    "        return None"
   ]
  },
  {
   "cell_type": "markdown",
   "metadata": {},
   "source": [
    "方法二在 0141.环形链表 的代码基础上修改了一下：\n",
    "1. 如果非环形，会直接跳出第一重循环，返回None即可\n",
    "2. 如果是环形，那么一定会找到一个节点 fast == slow，此时的关键是定位 开始入环的第一个节点\n",
    "    - 设链表共有 a+b 个节点，其中 链表头部到链表入口 有 a 个节点（不计链表入口节点）， 链表环 有 b 个节点\n",
    "    - fast 走了 f 步，slow 走了 s 步，f = 2 * s\n",
    "    - 因为 fast 与 slow 相遇了， f = s + n *b\n",
    "    - 上面两公式想减，得到 s = n * b ， f  =  2 * n * b\n",
    "    - 如果让指针从链表头部一直向前走并统计步数k，那么所有 走到链表入口节点时的步数 是：k=a+nb\n",
    "    - 只要 slow 再走 a 步，即可到达链表入口节点\n",
    "    - 从 头节点 到达 链表入口节点 恰好也是 a 步\n",
    "    - 可以将 fast 节点 设为 head， 与 slow 同时走 a 步， 即可同时抵达 链表入口节点\n",
    "    - 用内层循环走 a 步， 到 fast == slow 即可\n",
    "    "
   ]
  },
  {
   "cell_type": "markdown",
   "metadata": {},
   "source": [
    "[0019. 删除链表的倒数第 N 个结点](https://leetcode-cn.com/problems/remove-nth-node-from-end-of-list/)"
   ]
  },
  {
   "cell_type": "code",
   "execution_count": 11,
   "metadata": {},
   "outputs": [],
   "source": [
    "class Solution:\n",
    "    def removeNthFromEnd(self, head: ListNode, n: int) -> ListNode:\n",
    "        p1, p2 = head,head\n",
    "        while n>0:\n",
    "            p1 = p1.next \n",
    "            n -= 1\n",
    "        if p1 is None:\n",
    "            return head.next\n",
    "        while p1.next:\n",
    "            p2 = p2.next\n",
    "            p1 = p1.next\n",
    "        p2.next = p2.next.next\n",
    "        return head"
   ]
  },
  {
   "cell_type": "markdown",
   "metadata": {},
   "source": [
    "这道题运用双指针法\n",
    "1. 用循环遍历，将p1移动到正n个节点\n",
    "2. 链表中总节点数是sz\n",
    "3. 再次用循环遍历，将p1由 正n 移动到 末尾， 此时p1向前移动了 sz-1-n 步\n",
    "   同时，p2 也走了 sz-1-n 步， 所以p2 从head头处走到了 倒数n+1 的位置\n",
    "4. 只要删除p2.next节点即可"
   ]
  },
  {
   "cell_type": "code",
   "execution_count": null,
   "metadata": {},
   "outputs": [],
   "source": []
  }
 ],
 "metadata": {
  "kernelspec": {
   "display_name": "Python 3",
   "language": "python",
   "name": "python3"
  },
  "language_info": {
   "codemirror_mode": {
    "name": "ipython",
    "version": 3
   },
   "file_extension": ".py",
   "mimetype": "text/x-python",
   "name": "python",
   "nbconvert_exporter": "python",
   "pygments_lexer": "ipython3",
   "version": "3.7.7"
  }
 },
 "nbformat": 4,
 "nbformat_minor": 4
}
