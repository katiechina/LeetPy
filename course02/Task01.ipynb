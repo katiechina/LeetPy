{
 "cells": [
  {
   "cell_type": "markdown",
   "metadata": {},
   "source": [
    "# 链表"
   ]
  },
  {
   "cell_type": "markdown",
   "metadata": {},
   "source": [
    "  定义与基础可参考 [链表基础知识](https://github.com/itcharge/LeetCode-Py/blob/main/Contents/02.Linked-List/01.Linked-List-Basic/01.Linked-List-Basic.md)"
   ]
  },
  {
   "cell_type": "markdown",
   "metadata": {},
   "source": [
    "链表解题的一般规律：\n",
    "\n",
    "‘=’左边的.next一般指的是该节点中存的next（链表节点包括两个部分组成，一个是val，一个是next用于指向下一个部分的）\n",
    "\n",
    "‘=’右边的.next一般来讲是next指向的某个具体节点（比如head.next指的是链表的第二个节点）"
   ]
  },
  {
   "cell_type": "markdown",
   "metadata": {},
   "source": [
    "[0707. 设计链表](https://leetcode-cn.com/problems/design-linked-list/)"
   ]
  },
  {
   "cell_type": "code",
   "execution_count": 3,
   "metadata": {},
   "outputs": [],
   "source": [
    "from typing import List\n",
    "class ListNode:\n",
    "    def __init__(self, val=0, next=None):\n",
    "        self.val = val\n",
    "        self.next = next\n",
    "class MyLinkedList:\n",
    "\n",
    "    def __init__(self):\n",
    "        self.head = None\n",
    "        self.count = 0\n",
    "\n",
    "\n",
    "    def get(self, index: int) -> int:\n",
    "        cur = self.head\n",
    "        if index > self.count-1:\n",
    "            return -1\n",
    "        while index >0:\n",
    "            cur = cur.next\n",
    "            index -= 1\n",
    "        return cur.val\n",
    "\n",
    "\n",
    "    def addAtHead(self, val: int) -> None:\n",
    "        node = ListNode(val)\n",
    "        self.head , self.head.next = node, self.head\n",
    "        self.count += 1        \n",
    "\n",
    "\n",
    "    def addAtTail(self, val: int) -> None:\n",
    "        node = ListNode(val)\n",
    "        cur = self.head\n",
    "        self.count += 1\n",
    "        if not cur:\n",
    "            self.head = node\n",
    "            return \n",
    "        while cur and cur.next:\n",
    "            cur = cur.next\n",
    "        cur.next = node\n",
    "\n",
    "    def addAtIndex(self, index: int, val: int) -> None:\n",
    "        if index > self.count:\n",
    "            return\n",
    "        node = ListNode(val)\n",
    "        pre = None\n",
    "        cur = self.head\n",
    "        self.count += 1\n",
    "        while index >0:\n",
    "            pre, cur = cur, cur.next\n",
    "            index -= 1\n",
    "        if not pre:\n",
    "            self.head = node\n",
    "            node.next = cur\n",
    "            return\n",
    "        pre.next = node\n",
    "        node.next = cur\n",
    "        \n",
    "    def deleteAtIndex(self, index: int) -> None:\n",
    "        if self.count -1 <index:\n",
    "            return\n",
    "        pre = None\n",
    "        cur = self.head\n",
    "        if index == 0:\n",
    "            self.head = self.head.next\n",
    "            self.count -= 1\n",
    "            return\n",
    "        while index > 0:\n",
    "            pre , cur = cur, cur.next\n",
    "            index -= 1\n",
    "        if not cur:\n",
    "            return\n",
    "        pre.next = cur.next\n",
    "        self.count -= 1\n",
    "            \n",
    "        \n",
    "\n",
    "# Your MyLinkedList object will be instantiated and called as such:\n",
    "# obj = MyLinkedList()\n",
    "# param_1 = obj.get(index)\n",
    "# obj.addAtHead(val)\n",
    "# obj.addAtTail(val)\n",
    "# obj.addAtIndex(index,val)\n",
    "# obj.deleteAtIndex(index)"
   ]
  },
  {
   "cell_type": "markdown",
   "metadata": {},
   "source": [
    "这道题用了单向链表实现，大致思路有，但是细节比较多，最后改了很多次，算是面向测试用例编程"
   ]
  },
  {
   "cell_type": "markdown",
   "metadata": {},
   "source": [
    "[0206. 反转链表](https://leetcode-cn.com/problems/reverse-linked-list/)"
   ]
  },
  {
   "cell_type": "code",
   "execution_count": 8,
   "metadata": {},
   "outputs": [],
   "source": [
    "# Definition for singly-linked list.\n",
    "class ListNode:\n",
    "    def __init__(self, val=0, next=None):\n",
    "        self.val = val\n",
    "        self.next = next\n",
    "class Solution:\n",
    "    def reverseList(self, head: ListNode) -> ListNode:\n",
    "        pre, cur= None, head\n",
    "        while cur:\n",
    "            cur.next, pre, cur = pre, cur, cur.next \n",
    "        return pre"
   ]
  },
  {
   "cell_type": "markdown",
   "metadata": {},
   "source": [
    "反转链表这一题使用了双指针迭代：\n",
    "申请两个指针，第一个指针叫 pre，最初指向 None。\n",
    "第二个指针 cur 指向 head，然后不断遍历 cur。\n",
    "每次迭代到 cur，都将 cur 的 next 指向 pre，然后 pre 和 cur 前进一位。\n",
    "都迭代完了(cur 变成 None)，pre 就是最后一个节点了。\n",
    "返回pre即可。"
   ]
  },
  {
   "cell_type": "code",
   "execution_count": null,
   "metadata": {},
   "outputs": [],
   "source": [
    "cur.next, pre, cur = pre, cur, cur.next"
   ]
  },
  {
   "cell_type": "markdown",
   "metadata": {},
   "source": [
    "使用了python中的技巧，可扩展为"
   ]
  },
  {
   "cell_type": "code",
   "execution_count": null,
   "metadata": {},
   "outputs": [],
   "source": [
    "#记录当前节点的下一个节点\n",
    "tmp = cur.next\n",
    "#然后将当前节点指向pre\n",
    "cur.next = pre\n",
    "#pre和cur节点都前进一位\n",
    "pre = cur\n",
    "cur = tmp"
   ]
  },
  {
   "cell_type": "markdown",
   "metadata": {},
   "source": [
    "[0203. 移除链表元素](https://leetcode-cn.com/problems/remove-linked-list-elements/)"
   ]
  },
  {
   "cell_type": "code",
   "execution_count": 7,
   "metadata": {},
   "outputs": [],
   "source": [
    "# Definition for singly-linked list.\n",
    "class ListNode:\n",
    "    def __init__(self, val=0, next=None):\n",
    "        self.val = val\n",
    "        self.next = next\n",
    "        \n",
    "class Solution:\n",
    "    def removeElements(self, head: ListNode, val: int) -> ListNode:\n",
    "        if not head:\n",
    "            return head\n",
    "        pre = None\n",
    "        cur = head\n",
    "        while cur:\n",
    "            if cur.val == val:\n",
    "                if  not pre:\n",
    "                    head = head.next\n",
    "                else:\n",
    "                    pre.next = cur.next\n",
    "                cur = cur.next\n",
    "            else:\n",
    "                pre = cur\n",
    "                cur = cur.next          \n",
    "        return head"
   ]
  },
  {
   "cell_type": "markdown",
   "metadata": {},
   "source": [
    "这一题就是依次遍历每个节点，只有当前节点的值==val时，才跳过。\n",
    "需要注意的是首节点head的值==val，此时pre为None，需要特殊考虑"
   ]
  },
  {
   "cell_type": "code",
   "execution_count": null,
   "metadata": {},
   "outputs": [],
   "source": []
  }
 ],
 "metadata": {
  "kernelspec": {
   "display_name": "Python 3",
   "language": "python",
   "name": "python3"
  },
  "language_info": {
   "codemirror_mode": {
    "name": "ipython",
    "version": 3
   },
   "file_extension": ".py",
   "mimetype": "text/x-python",
   "name": "python",
   "nbconvert_exporter": "python",
   "pygments_lexer": "ipython3",
   "version": "3.7.7"
  }
 },
 "nbformat": 4,
 "nbformat_minor": 4
}
