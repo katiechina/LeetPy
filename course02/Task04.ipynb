{
 "cells": [
  {
   "cell_type": "markdown",
   "metadata": {},
   "source": [
    "# 队列与广度优先搜索"
   ]
  },
  {
   "cell_type": "markdown",
   "metadata": {},
   "source": [
    "### 第 11 天：\n",
    "[0622. 设计循环队列](https://leetcode-cn.com/problems/design-circular-queue/)"
   ]
  },
  {
   "cell_type": "code",
   "execution_count": 5,
   "metadata": {},
   "outputs": [],
   "source": [
    "from typing import List"
   ]
  },
  {
   "cell_type": "code",
   "execution_count": 8,
   "metadata": {},
   "outputs": [],
   "source": [
    "class MyCircularQueue:\n",
    "\n",
    "    def __init__(self, k: int):\n",
    "        self.queue = [None for i in range(k+1) ]\n",
    "        self.size = k+1\n",
    "        self.front = 0\n",
    "        self.rear = 0\n",
    "\n",
    "    def enQueue(self, value: int) -> bool:\n",
    "        if self.isFull():\n",
    "            return False\n",
    "        else:\n",
    "            self.rear = (self.rear + 1) % self.size\n",
    "            self.queue[self.rear] = value\n",
    "            return True\n",
    "\n",
    "\n",
    "\n",
    "    def deQueue(self) -> bool:\n",
    "        if self.isEmpty():\n",
    "            return False\n",
    "        else:\n",
    "            self.queue[self.front] = None\n",
    "            self.front = (self.front + 1) % self.size\n",
    "            return True\n",
    "\n",
    "\n",
    "    def Front(self) -> int:\n",
    "        if self.isEmpty():\n",
    "            return -1\n",
    "        else:\n",
    "            value = self.queue[(self.front + 1) % self.size]\n",
    "            return value\n",
    "\n",
    "\n",
    "    def Rear(self) -> int:\n",
    "        if self.isEmpty():\n",
    "            return -1\n",
    "        else:\n",
    "            value = self.queue[self.rear]\n",
    "            return value\n",
    "\n",
    "\n",
    "    def isEmpty(self) -> bool:\n",
    "        return self.front == self.rear\n",
    "\n",
    "\n",
    "    def isFull(self) -> bool:\n",
    "        return (self.rear+1) % self.size == self.front\n",
    "\n",
    "\n",
    "\n",
    "# Your MyCircularQueue object will be instantiated and called as such:\n",
    "# obj = MyCircularQueue(k)\n",
    "# param_1 = obj.enQueue(value)\n",
    "# param_2 = obj.deQueue()\n",
    "# param_3 = obj.Front()\n",
    "# param_4 = obj.Rear()\n",
    "# param_5 = obj.isEmpty()\n",
    "# param_6 = obj.isFull()"
   ]
  },
  {
   "cell_type": "markdown",
   "metadata": {},
   "source": [
    "[0346. 数据流中的移动平均值](https://leetcode-cn.com/problems/moving-average-from-data-stream/)"
   ]
  },
  {
   "cell_type": "code",
   "execution_count": 7,
   "metadata": {},
   "outputs": [],
   "source": [
    "class MovingAverage:\n",
    "\n",
    "    def __init__(self, size: int):\n",
    "        self.queue = []\n",
    "        self.size = size\n",
    "\n",
    "\n",
    "    def next(self, val: int) -> float:\n",
    "        self.queue.append(val)\n",
    "        if len(self.queue) < self.size:\n",
    "            return sum(self.queue) / len(self.queue)\n",
    "        return sum(self.queue[-1*self.size:])/ self.size\n",
    "\n",
    "# Your MovingAverage object will be instantiated and called as such:\n",
    "# obj = MovingAverage(size)\n",
    "# param_1 = obj.next(val)"
   ]
  },
  {
   "cell_type": "markdown",
   "metadata": {},
   "source": [
    "[0225. 用队列实现栈](https://leetcode-cn.com/problems/implement-stack-using-queues/)"
   ]
  },
  {
   "cell_type": "code",
   "execution_count": null,
   "metadata": {},
   "outputs": [],
   "source": [
    "class MyStack:\n",
    "\n",
    "    def __init__(self):\n",
    "        self.queue1 = []\n",
    "        self.queue2 = []\n",
    "\n",
    "\n",
    "    def push(self, x: int) -> None:\n",
    "        if not self.queue1 and not self.queue2:\n",
    "            self.queue1.append(x)\n",
    "        elif not self.queue1:\n",
    "            self.queue1.append(x)\n",
    "            while self.queue2:\n",
    "                self.queue1.append(self.queue2.pop(0))\n",
    "        elif not self.queue2:\n",
    "            self.queue2.append(x)\n",
    "            while self.queue1:\n",
    "                self.queue2.append(self.queue1.pop(0))\n",
    "\n",
    "\n",
    "    def pop(self) -> int:\n",
    "        if not self.queue1 and not self.queue2:\n",
    "            return\n",
    "        elif not self.queue1:\n",
    "            return self.queue2.pop(0)\n",
    "        elif not self.queue2:\n",
    "            return self.queue1.pop(0)\n",
    "\n",
    "\n",
    "\n",
    "    def top(self) -> int:\n",
    "        if not self.queue1 and not self.queue2:\n",
    "            return\n",
    "        elif not self.queue1:\n",
    "            return self.queue2[0]\n",
    "        elif not self.queue2:\n",
    "            return self.queue1[0]        \n",
    "\n",
    "\n",
    "    def empty(self) -> bool:\n",
    "        if not self.queue1 and not self.queue2:\n",
    "            return True\n",
    "        return False\n",
    "\n",
    "\n",
    "\n",
    "# Your MyStack object will be instantiated and called as such:\n",
    "# obj = MyStack()\n",
    "# obj.push(x)\n",
    "# param_2 = obj.pop()\n",
    "# param_3 = obj.top()\n",
    "# param_4 = obj.empty()"
   ]
  },
  {
   "cell_type": "markdown",
   "metadata": {},
   "source": [
    "- 准备两个队列，始终保持有一个队列是空的\n",
    "- 每当有新的元素加入时：\n",
    "    - 将新元素加入空的队列\n",
    "    - 并将另一个队列所有的元素出队，加入新元素所在的队列中，相当于清空另一个队列\n"
   ]
  },
  {
   "cell_type": "markdown",
   "metadata": {},
   "source": [
    "### 第 12 天：\n",
    "[0286. 墙与门](https://leetcode-cn.com/problems/walls-and-gates/)"
   ]
  },
  {
   "cell_type": "code",
   "execution_count": 11,
   "metadata": {},
   "outputs": [],
   "source": [
    "class Solution:\n",
    "    def wallsAndGates(self, rooms: List[List[int]]) -> None:\n",
    "        \"\"\"\n",
    "        Do not return anything, modify rooms in-place instead.\n",
    "        \"\"\"\n",
    "        directions = [(1, 0), (-1, 0), (0, 1), (0, -1)]\n",
    "        empty = 2147483647\n",
    "        wall = -1\n",
    "        gate = 0\n",
    "        # 多源BFS\n",
    "        from collections import deque\n",
    "        queue = deque([])\n",
    "        m = len(rooms)\n",
    "        n = len(rooms[0])\n",
    "        for i in range(m):\n",
    "            for j in range(n):\n",
    "                if rooms[i][j] == gate:\n",
    "                    queue.append((i, j))\n",
    "        while queue:\n",
    "            size = len(queue)\n",
    "            for _ in range(size):\n",
    "                candidate = queue.popleft()\n",
    "                for direction in directions:\n",
    "                    x, y = candidate[0] + direction[0], candidate[1] + direction[1]\n",
    "                    # 如果周围的点无效，或者已经被搜索过，则跳过\n",
    "                    if x < 0 or x >= m or y < 0 or y >= n or rooms[x][y] != empty:\n",
    "                        continue\n",
    "\n",
    "                    # 否则就在前一个相邻房间的步数基础上加1\n",
    "                    rooms[x][y] = rooms[candidate[0]][candidate[1]] + 1\n",
    "                    queue.append((x, y))\n",
    "        return"
   ]
  },
  {
   "cell_type": "markdown",
   "metadata": {},
   "source": [
    "[0752. 打开转盘锁](https://leetcode-cn.com/problems/open-the-lock/)"
   ]
  },
  {
   "cell_type": "code",
   "execution_count": null,
   "metadata": {},
   "outputs": [],
   "source": []
  },
  {
   "cell_type": "markdown",
   "metadata": {},
   "source": [
    "[0279. 完全平方数](https://leetcode-cn.com/problems/perfect-squares/)"
   ]
  },
  {
   "cell_type": "code",
   "execution_count": 10,
   "metadata": {},
   "outputs": [],
   "source": [
    "class Solution:\n",
    "    def numSquares(self, n: int) -> int:\n",
    "        from collections import deque\n",
    "        queue = deque([n])\n",
    "        step = 0\n",
    "        visited = set()\n",
    "        while queue:\n",
    "            n = len(queue)\n",
    "            for _ in range(n):\n",
    "                tmp = queue.popleft()\n",
    "                if tmp == 0:\n",
    "                    return step\n",
    "                for i in range(1,int(tmp**0.5)+1):\n",
    "                    if tmp >= i*i and tmp-i*i not in visited:\n",
    "                        visited.add(tmp - i*i)\n",
    "                        queue.append(tmp - i*i)\n",
    "            step += 1\n",
    "        return step"
   ]
  },
  {
   "cell_type": "markdown",
   "metadata": {},
   "source": [
    "### 第 13 天：\n",
    "[0542. 01 矩阵](https://leetcode-cn.com/problems/01-matrix/)"
   ]
  },
  {
   "cell_type": "code",
   "execution_count": 6,
   "metadata": {},
   "outputs": [],
   "source": [
    "class Solution:\n",
    "    def updateMatrix(self, mat: List[List[int]]) -> List[List[int]]:\n",
    "        m = len(mat)\n",
    "        n = len(mat[0])\n",
    "        queue = []\n",
    "        res = [ [0] * n for i in range(m)]\n",
    "        zeros = [(i,j) for i in range(m) for j in range(n) if mat[i][j] == 0]\n",
    "        queue.extend(zeros)\n",
    "        visited = set(zeros)\n",
    "        while queue:\n",
    "            i, j = queue.pop(0)\n",
    "            for di,dj in [(i-1,j),(i+1,j),(i,j-1),(i,j+1)]:\n",
    "                if 0<=di<m and 0<=dj<n and (di,dj) not in visited:\n",
    "                    res[di][dj] = res[i][j] + 1\n",
    "                    queue.append((di,dj))\n",
    "                    visited.add((di,dj))\n",
    "        return res"
   ]
  },
  {
   "cell_type": "markdown",
   "metadata": {},
   "source": [
    "[0322. 零钱兑换](https://leetcode-cn.com/problems/coin-change/)"
   ]
  },
  {
   "cell_type": "code",
   "execution_count": null,
   "metadata": {},
   "outputs": [],
   "source": [
    "class Solution:\n",
    "    def coinChange(self, coins: List[int], amount: int) -> int:\n",
    "        from collections import deque\n",
    "        queue = deque([amount])\n",
    "        step = 0\n",
    "        visited = set()\n",
    "        while queue:\n",
    "            n = len(queue)\n",
    "            for _ in range(n):\n",
    "                tmp = queue.pop()\n",
    "                if tmp == 0:\n",
    "                    return step\n",
    "                for coin in coins:\n",
    "                    if tmp >= coin and tmp-coin not in visited:\n",
    "                        visited.add(tmp - coin)\n",
    "                        queue.appendleft(tmp - coin)\n",
    "            step += 1\n",
    "        return -1"
   ]
  },
  {
   "cell_type": "markdown",
   "metadata": {},
   "source": [
    "[剑指 Offer 13. 机器人的运动范围](https://leetcode-cn.com/problems/ji-qi-ren-de-yun-dong-fan-wei-lcof/)"
   ]
  },
  {
   "cell_type": "code",
   "execution_count": 9,
   "metadata": {},
   "outputs": [],
   "source": [
    "class Solution:    \n",
    "    def sum_rc(self,row,col):\n",
    "        tmp = 0\n",
    "        while row > 0:\n",
    "            tmp += row % 10\n",
    "            row //= 10\n",
    "        while col > 0:\n",
    "            tmp += col % 10\n",
    "            col //= 10\n",
    "        return tmp\n",
    "\n",
    "    def movingCount(self, m: int, n: int, k: int) -> int:\n",
    "        marked = set()  # 将访问过的点添加到集合marked中,从(0,0)开始\n",
    "        queue = collections.deque()\n",
    "        queue.append((0,0))\n",
    "        while queue:\n",
    "            x, y = queue.popleft()\n",
    "            if (x,y) not in marked and self.sum_rc(x,y) <= k:\n",
    "                marked.add((x,y)) \n",
    "                for dx, dy in [(1,0),(0,1)]:  # 仅考虑向右和向下即可，右上角和满足条件的点访问不到\n",
    "                    if 0 <= x + dx < m and 0 <= y + dy < n:\n",
    "                        queue.append((x+dx,y+dy)) \n",
    "        return len(marked)"
   ]
  },
  {
   "cell_type": "markdown",
   "metadata": {},
   "source": []
  }
 ],
 "metadata": {
  "kernelspec": {
   "display_name": "Python 3",
   "language": "python",
   "name": "python3"
  },
  "language_info": {
   "codemirror_mode": {
    "name": "ipython",
    "version": 3
   },
   "file_extension": ".py",
   "mimetype": "text/x-python",
   "name": "python",
   "nbconvert_exporter": "python",
   "pygments_lexer": "ipython3",
   "version": "3.7.7"
  }
 },
 "nbformat": 4,
 "nbformat_minor": 4
}
