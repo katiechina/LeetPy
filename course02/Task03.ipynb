{
 "cells": [
  {
   "cell_type": "markdown",
   "metadata": {},
   "source": [
    "单调栈（Monotone Stack）：一种特殊的栈。在栈的「先进后出」规则基础上，要求「从 栈顶 到 栈底 的元素是单调递增（或者单调递减）」。其中满足从栈顶到栈底的元素是单调递增的栈，叫做「单调递增栈」。满足从栈顶到栈底的元素是单调递减的栈，叫做「单调递减栈」。"
   ]
  },
  {
   "cell_type": "markdown",
   "metadata": {},
   "source": [
    "### 第 10 天：\n",
    "[0496. 下一个更大元素 I](https://leetcode-cn.com/problems/next-greater-element-i/)"
   ]
  },
  {
   "cell_type": "code",
   "execution_count": 2,
   "metadata": {},
   "outputs": [],
   "source": [
    "from typing import List"
   ]
  },
  {
   "cell_type": "code",
   "execution_count": 3,
   "metadata": {},
   "outputs": [],
   "source": [
    "class Solution:\n",
    "    def nextGreaterElement(self, nums1: List[int], nums2: List[int]) -> List[int]:\n",
    "        stack = []\n",
    "        ans = []\n",
    "        num_map = {}\n",
    "        #使用单调栈，遍历数组2\n",
    "        #当前元素较小，直接入栈\n",
    "        #当前元素较大，一直出栈，且出栈的第一个元素对应的 下一个更大元素就是 当前元素\n",
    "        for num in nums2:\n",
    "            while stack and num > stack[-1]:\n",
    "                num_map[stack[-1]] = num\n",
    "                stack.pop()\n",
    "            stack.append(num)\n",
    "        for i in nums1:\n",
    "            ans.append(num_map.get(i, -1))\n",
    "        return ans"
   ]
  },
  {
   "cell_type": "markdown",
   "metadata": {},
   "source": [
    "[0739. 每日温度](https://leetcode-cn.com/problems/daily-temperatures/)"
   ]
  },
  {
   "cell_type": "code",
   "execution_count": 4,
   "metadata": {},
   "outputs": [],
   "source": [
    "class Solution:\n",
    "    def dailyTemperatures(self, temperatures: List[int]) -> List[int]:\n",
    "        n = len(temperatures)\n",
    "        stack = []\n",
    "        ans = [0 for _ in range(n)]\n",
    "        #使用单调栈，遍历数组t\n",
    "        #当前元素值较小，直接将值对应的index入栈\n",
    "        #当前元素值较大，一直出栈，且出栈的第一个index对应的天数 = 当前元素index-出栈的index\n",
    "        for i in range(n):\n",
    "            while stack and temperatures[i] > temperatures[stack[-1]]:\n",
    "                idx = stack.pop()\n",
    "                ans[idx] = i - idx\n",
    "            stack.append(i)\n",
    "        return ans"
   ]
  },
  {
   "cell_type": "markdown",
   "metadata": {},
   "source": [
    "[0316. 去除重复字母](https://leetcode-cn.com/problems/remove-duplicate-letters/)"
   ]
  },
  {
   "cell_type": "code",
   "execution_count": 5,
   "metadata": {},
   "outputs": [],
   "source": [
    "class Solution:\n",
    "    def removeDuplicateLetters(self, s: str) -> str:\n",
    "        letter_count = collections.Counter(s)\n",
    "        stack = []\n",
    "        #使用单调递减栈，遍历字符串s\n",
    "        #当前元素如果不在栈中，且当前元素值较小（字母序较小），一直出栈，出栈元素的剩余count要大于等于1，否则后续出栈之后无法入栈\n",
    "        #当前元素如果不在栈中，且元素值较大，直接放置在栈顶 \n",
    "        #当前元素已在栈中，直接count数减一\n",
    "        for v in s:\n",
    "            if v not in stack:\n",
    "                while stack and v < stack[-1] and letter_count[stack[-1]] >0:\n",
    "                    stack.pop()\n",
    "                stack.append(v)\n",
    "            letter_count[v] -= 1\n",
    "        return ''.join(stack)"
   ]
  },
  {
   "cell_type": "code",
   "execution_count": null,
   "metadata": {},
   "outputs": [],
   "source": []
  }
 ],
 "metadata": {
  "kernelspec": {
   "display_name": "Python 3",
   "language": "python",
   "name": "python3"
  },
  "language_info": {
   "codemirror_mode": {
    "name": "ipython",
    "version": 3
   },
   "file_extension": ".py",
   "mimetype": "text/x-python",
   "name": "python",
   "nbconvert_exporter": "python",
   "pygments_lexer": "ipython3",
   "version": "3.7.7"
  }
 },
 "nbformat": 4,
 "nbformat_minor": 4
}
