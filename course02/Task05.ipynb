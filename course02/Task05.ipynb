{
 "cells": [
  {
   "cell_type": "markdown",
   "metadata": {},
   "source": [
    "# 优先队列\n",
    "普通队列的出队顺序跟入队顺序相关，符合「先进先出（First in, First out）」的规则。\n",
    "\n",
    "而优先队列的出队顺序跟入队顺序无关，优先队列是按照元素的$优先级$来决定出队顺序的。优先级高的元素优先出队，优先级低的元素后出队。优先队列符合 「最高级先出（First in, Largest out）」 的规则"
   ]
  },
  {
   "cell_type": "markdown",
   "metadata": {},
   "source": [
    "### 第 14 天：\n",
    "[0215. 数组中的第K个最大元素](https://leetcode-cn.com/problems/kth-largest-element-in-an-array/)"
   ]
  },
  {
   "cell_type": "code",
   "execution_count": null,
   "metadata": {},
   "outputs": [],
   "source": [
    "## 方法一；用库函数\n",
    "class Solution:\n",
    "    def findKthLargest(self, nums: List[int], k: int) -> int:\n",
    "        ordered_nums = sorted(nums, reverse=True)\n",
    "        return ordered_nums[k-1]b"
   ]
  },
  {
   "cell_type": "markdown",
   "metadata": {},
   "source": [
    "[0347. 前 K 个高频元素](https://leetcode-cn.com/problems/top-k-frequent-elements/)"
   ]
  },
  {
   "cell_type": "code",
   "execution_count": null,
   "metadata": {},
   "outputs": [],
   "source": [
    "## 方法一；用库函数\n",
    "class Solution:\n",
    "    def topKFrequent(self, nums: List[int], k: int) -> List[int]:\n",
    "        from collections import Counter\n",
    "        count_res = Counter(nums)\n",
    "        res = sorted(count_res.items(), key=lambda item:item[1], reverse= True)\n",
    "        return [i[0] for i in res[:k]]"
   ]
  },
  {
   "cell_type": "code",
   "execution_count": null,
   "metadata": {},
   "outputs": [],
   "source": [
    "## 方法二：优先队列\n",
    "class Solution:\n",
    "    def topKFrequent(self, nums: List[int], k: int) -> List[int]:\n",
    "        dict1 = {}\n",
    "        for n in nums:\n",
    "            dict1[n] = dict1.get(n, 0) + 1\n",
    "        queue = []\n",
    "        for ele, freq in dict1.items():\n",
    "            heapq.heappush(queue, (-freq, ele))\n",
    "        return [heapq.heappop(queue)[1] for _ in range(k)]"
   ]
  },
  {
   "cell_type": "markdown",
   "metadata": {},
   "source": [
    "[0451. 根据字符出现频率排序](https://leetcode-cn.com/problems/sort-characters-by-frequency/)"
   ]
  },
  {
   "cell_type": "code",
   "execution_count": 9,
   "metadata": {},
   "outputs": [],
   "source": [
    "## 方法一；用库函数，字符拼接\n",
    "class Solution:\n",
    "    def frequencySort(self, s: str) -> str:\n",
    "        dic = dict()\n",
    "        for i in s:\n",
    "            dic[i] = dic.get(i,0) +1\n",
    "        y = sorted(dic.items(),key= lambda x:x[1],reverse=True)\n",
    "        res = \"\"\n",
    "        for k,v in y:\n",
    "            res += k*v\n",
    "        return res"
   ]
  },
  {
   "cell_type": "code",
   "execution_count": null,
   "metadata": {},
   "outputs": [],
   "source": []
  }
 ],
 "metadata": {
  "kernelspec": {
   "display_name": "Python 3",
   "language": "python",
   "name": "python3"
  },
  "language_info": {
   "codemirror_mode": {
    "name": "ipython",
    "version": 3
   },
   "file_extension": ".py",
   "mimetype": "text/x-python",
   "name": "python",
   "nbconvert_exporter": "python",
   "pygments_lexer": "ipython3",
   "version": "3.7.7"
  }
 },
 "nbformat": 4,
 "nbformat_minor": 4
}
