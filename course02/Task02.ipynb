{
 "cells": [
  {
   "cell_type": "markdown",
   "metadata": {},
   "source": [
    "# Task 02：堆栈与深度优先搜索"
   ]
  },
  {
   "cell_type": "markdown",
   "metadata": {},
   "source": [
    "### 第 05 天：\n",
    "[0155. 最小栈](https://leetcode-cn.com/problems/min-stack/)"
   ]
  },
  {
   "cell_type": "code",
   "execution_count": 2,
   "metadata": {},
   "outputs": [],
   "source": [
    "class MinStack:\n",
    "\n",
    "    def __init__(self):\n",
    "        self.stack = []\n",
    "        self.min_v = float(\"inf\")\n",
    "\n",
    "\n",
    "    def push(self, val: int) -> None:\n",
    "        self.stack.append(val)\n",
    "        if val < self.min_v:\n",
    "            self.min_v = val\n",
    "\n",
    "\n",
    "    def pop(self) -> None:\n",
    "        self.stack.pop()\n",
    "        if self.stack:\n",
    "            self.min_v = min(self.stack)\n",
    "        else:\n",
    "            self.min_v = float(\"inf\")\n",
    "\n",
    "\n",
    "\n",
    "    def top(self) -> int:\n",
    "        return self.stack[-1]\n",
    "\n",
    "\n",
    "    def getMin(self) -> int:\n",
    "        return self.min_v\n",
    "\n",
    "# Your MinStack object will be instantiated and called as such:\n",
    "# obj = MinStack()\n",
    "# obj.push(val)\n",
    "# obj.pop()\n",
    "# param_3 = obj.top()\n",
    "# param_4 = obj.getMin()"
   ]
  },
  {
   "cell_type": "markdown",
   "metadata": {},
   "source": [
    "本题借助无求大float(\"inf\")来初始化最小值"
   ]
  },
  {
   "cell_type": "markdown",
   "metadata": {},
   "source": [
    "[0020. 有效的括号](https://leetcode-cn.com/problems/valid-parentheses/)"
   ]
  },
  {
   "cell_type": "code",
   "execution_count": 1,
   "metadata": {},
   "outputs": [],
   "source": [
    "class Solution:\n",
    "    def isValid(self, s: str) -> bool:\n",
    "        dict1 = {\"}\":\"{\",\")\":\"(\",\"]\":\"[\"}\n",
    "        stack = []\n",
    "        for i in s:\n",
    "            if i in dict1.keys():\n",
    "                if not stack or stack[-1] != dict1[i]:\n",
    "                    return False\n",
    "                stack.pop(-1)\n",
    "            else:\n",
    "                stack.append(i)\n",
    "        if not stack:\n",
    "            return True\n",
    "        return False"
   ]
  },
  {
   "cell_type": "markdown",
   "metadata": {},
   "source": [
    "本题借用字典和堆栈求解"
   ]
  },
  {
   "cell_type": "markdown",
   "metadata": {},
   "source": [
    "[0227. 基本计算器 II](https://leetcode-cn.com/problems/basic-calculator-ii/)"
   ]
  },
  {
   "cell_type": "code",
   "execution_count": null,
   "metadata": {},
   "outputs": [],
   "source": [
    "class Solution:\n",
    "    def calculate(self, s: str) -> int:\n",
    "        stack = []\n",
    "        pre_op = '+'\n",
    "        num = 0\n",
    "        for i, each in enumerate(s):\n",
    "            if each.isdigit():\n",
    "                num = 10 * num + int(each)\n",
    "            if i == len(s) - 1 or each in '+-*/':\n",
    "                if pre_op == '+':\n",
    "                    stack.append(num)\n",
    "                elif pre_op == '-':\n",
    "                    stack.append(-num)\n",
    "                elif pre_op == '*':\n",
    "                    stack.append(stack.pop() * num)\n",
    "                elif pre_op == '/':\n",
    "                    top = stack.pop()\n",
    "                    if top < 0:\n",
    "                        stack.append(int(top / num))\n",
    "                    else:\n",
    "                        stack.append(top // num)\n",
    "                pre_op = each\n",
    "                num = 0\n",
    "        return sum(stack)"
   ]
  },
  {
   "cell_type": "markdown",
   "metadata": {},
   "source": [
    "学习了[负雪明烛](https://leetcode-cn.com/problems/basic-calculator-ii/solution/xian-cheng-chu-zai-jia-jian-yong-zhan-ba-hplr/)的题解\n",
    "这道题用先乘除再加减，用「栈」保存中间结果的方法：\n",
    "- 把所有的 *，/ 先计算出来，最后计算只有 +， - 运算符的表达式，再将栈中所有元素求和\n"
   ]
  },
  {
   "cell_type": "markdown",
   "metadata": {
    "tags": []
   },
   "source": [
    "### 第 06 天：\n",
    "[0150. 逆波兰表达式求值](https://leetcode-cn.com/problems/evaluate-reverse-polish-notation/)"
   ]
  },
  {
   "cell_type": "code",
   "execution_count": null,
   "metadata": {},
   "outputs": [],
   "source": [
    "class Solution:\n",
    "    def evalRPN(self, tokens: List[str]) -> int:\n",
    "        stack, res = [],0\n",
    "        for i in tokens:\n",
    "            if i not in [\"+\",\"-\",\"*\",\"/\"]:\n",
    "                stack.append(int(i))\n",
    "            else:\n",
    "                n2 = stack.pop()\n",
    "                n1 = stack.pop()\n",
    "                if i == \"+\":\n",
    "                    stack.append(n1  +  n2)\n",
    "                elif i == \"-\":\n",
    "                    stack.append(n1  -  n2)\n",
    "                elif i == \"*\":\n",
    "                    stack.append(n1  *  n2)\n",
    "                elif i == \"/\":\n",
    "                    stack.append( int(n1  /  n2))\n",
    "        return stack[0]"
   ]
  },
  {
   "cell_type": "markdown",
   "metadata": {},
   "source": [
    "这道题就是碰到符号时将之前的两个数出栈，然后与符号一起计算得到一个新数，将新数入栈\n",
    "- python题解有两个坑：\n",
    "1. 先开始用i.isdigit(）, 一直报错，是因为无法识别负号\n",
    "2. 除法时不能使用//，要使用int(n1  /  n2)"
   ]
  },
  {
   "cell_type": "markdown",
   "metadata": {},
   "source": [
    "[0394. 字符串解码](https://leetcode-cn.com/problems/decode-string/)"
   ]
  },
  {
   "cell_type": "code",
   "execution_count": null,
   "metadata": {},
   "outputs": [],
   "source": [
    "class Solution:\n",
    "    def decodeString(self, s: str) -> str:\n",
    "        stack, res, multi = [], \"\", 0\n",
    "        for c in s:\n",
    "            if c == '[':\n",
    "                stack.append([multi, res])\n",
    "                res, multi = \"\", 0\n",
    "            elif c == ']':\n",
    "                cur_multi, last_res = stack.pop()\n",
    "                res = last_res + cur_multi * res\n",
    "            elif '0' <= c <= '9':\n",
    "                multi = multi * 10 + int(c)            \n",
    "            else:\n",
    "                res += c\n",
    "        return res"
   ]
  },
  {
   "cell_type": "markdown",
   "metadata": {},
   "source": [
    "学习的[Krahets](https://leetcode-cn.com/problems/decode-string/solution/decode-string-fu-zhu-zhan-fa-di-gui-fa-by-jyd/)题解：\n",
    "算法流程：\n",
    "\n",
    "1. 构建辅助栈 stack， 遍历字符串 s 中每个字符 c；\n",
    "    - 当 c 为数字时，将数字字符转化为数字 multi，用于后续倍数计算；\n",
    "    - 当 c 为字母时，在 res 尾部添加 c；\n",
    "    - 当 c 为 [ 时，将当前 multi 和 res 入栈，并分别置空置 0：\n",
    "        - 记录此 [ 前的临时结果 res 至栈，用于发现对应 ] 后的拼接操作；\n",
    "        - 记录此 [ 前的倍数 multi 至栈，用于发现对应 ] 后，获取 multi × [...] 字符串。\n",
    "        - 进入到新 [ 后，res 和 multi 重新记录。\n",
    "    - 当 c 为 ] 时，stack 出栈，拼接字符串 res = last_res + cur_multi * res，其中:\n",
    "        - last_res是上个 [ 到当前 [ 的字符串，例如 \"3[a2[c]]\" 中的 a；\n",
    "        - cur_multi是当前 [ 到 ] 内字符串的重复倍数，例如 \"3[a2[c]]\" 中的 2。\n",
    "2. 返回字符串 res。"
   ]
  },
  {
   "cell_type": "markdown",
   "metadata": {},
   "source": [
    "[0946. 验证栈序列](https://leetcode-cn.com/problems/validate-stack-sequences/)"
   ]
  },
  {
   "cell_type": "code",
   "execution_count": 13,
   "metadata": {},
   "outputs": [],
   "source": [
    "class Solution:\n",
    "    def validateStackSequences(self, pushed: List[int], popped: List[int]) -> bool:\n",
    "        #当popped中index指向的位置的元素和stack栈顶的元素一致时，出栈 并且 index++\n",
    "        stack = []\n",
    "        idx = 0\n",
    "        for j in pushed:\n",
    "            stack.append(j)\n",
    "            while stack and stack[-1] == popped[idx]:\n",
    "                stack.pop()\n",
    "                idx += 1\n",
    "        return not stack"
   ]
  },
  {
   "cell_type": "markdown",
   "metadata": {
    "tags": []
   },
   "source": [
    "### 第 07 天：\n",
    "[0200. 岛屿数量](https://leetcode-cn.com/problems/number-of-islands/)"
   ]
  },
  {
   "cell_type": "code",
   "execution_count": 4,
   "metadata": {},
   "outputs": [],
   "source": [
    "from typing import List"
   ]
  },
  {
   "cell_type": "code",
   "execution_count": 5,
   "metadata": {},
   "outputs": [],
   "source": [
    "class Solution:\n",
    "    def numIslands(self, grid: List[List[str]]) -> int:\n",
    "        m = len(grid)\n",
    "        n = len(grid[0])\n",
    "        def dfs(row,col):\n",
    "            if  0<=row <m and  0<=col<n and grid[row][col] =='1':\n",
    "                grid[row][col] = '2'\n",
    "                dfs(row-1, col)\n",
    "                dfs(row+1, col)\n",
    "                dfs(row, col-1)\n",
    "                dfs(row, col+1)\n",
    "        count = 0\n",
    "        for i in range(m):\n",
    "            for j in range(n):\n",
    "                if grid[i][j] =='1':\n",
    "                    dfs(i,j)\n",
    "                    count += 1\n",
    "        return count"
   ]
  },
  {
   "cell_type": "markdown",
   "metadata": {},
   "source": [
    "本题使用深度搜索\n",
    "1. 设置count = 0\n",
    "2. 当前所在点 grid[i][j] =='1'时，使用dfs遍历周边的点，已遍历过设置为2，直到找到为0的点或者为边界时，停止搜索，将count值加一（相当于找到了与当前点所有连在一起的点）\n",
    "3. 在下一点重复2的操作，由于我们已将遍历过的点设置为2， 所以不会重复遍历"
   ]
  },
  {
   "cell_type": "markdown",
   "metadata": {},
   "source": [
    "[0133. 克隆图](https://leetcode-cn.com/problems/clone-graph/)"
   ]
  },
  {
   "cell_type": "code",
   "execution_count": 9,
   "metadata": {},
   "outputs": [],
   "source": [
    "\"\"\"\n",
    "# Definition for a Node.\n",
    "class Node:\n",
    "    def __init__(self, val = 0, neighbors = None):\n",
    "        self.val = val\n",
    "        self.neighbors = neighbors if neighbors is not None else []\n",
    "\"\"\"\n",
    "\n",
    "class Solution:\n",
    "    def cloneGraph(self, node: 'Node') -> 'Node':\n",
    "        if not node:\n",
    "            return \n",
    "        if not node.neighbors:\n",
    "            return Node(1)\n",
    "        visited = {}\n",
    "        def dfs(node, visited):\n",
    "            if node in visited:\n",
    "                return visited[node]\n",
    "            clone_node = Node(node.val,[])\n",
    "            visited[node] = clone_node\n",
    "            for neighbor in node.neighbors:\n",
    "                visited[node].neighbors.append(dfs(neighbor,visited))\n",
    "            return clone_node\n",
    "        return dfs(node,visited)"
   ]
  },
  {
   "cell_type": "markdown",
   "metadata": {},
   "source": [
    "[0494. 目标和](https://leetcode-cn.com/problems/target-sum/)"
   ]
  },
  {
   "cell_type": "code",
   "execution_count": 10,
   "metadata": {},
   "outputs": [],
   "source": [
    "class Solution:\n",
    "    def findTargetSumWays(self, nums: List[int], target: int) -> int:\n",
    "        n = len(nums)\n",
    "        @cache\n",
    "        def dfs(i, target):\n",
    "            if i < 0 : return 0\n",
    "            if i == 0:\n",
    "                if nums[0] == target and nums[0] == -1* target:\n",
    "                    return 2\n",
    "                if nums[0] == target or nums[0] == -1 * target:\n",
    "                    return 1\n",
    "                else:\n",
    "                    return 0\n",
    "            return dfs(i-1,target- nums[i]) + dfs(i-1, target+nums[i])\n",
    "        return dfs(n-1, target)"
   ]
  },
  {
   "cell_type": "markdown",
   "metadata": {},
   "source": [
    "使用动态规划的方法\n",
    "定义dfs(i, target)，表示前i个数组运算结果等于 target 的不同 表达式 的数目"
   ]
  },
  {
   "cell_type": "markdown",
   "metadata": {},
   "source": [
    "### 第 08 天：\n",
    "[0841. 钥匙和房间](https://leetcode-cn.com/problems/keys-and-rooms/)"
   ]
  },
  {
   "cell_type": "code",
   "execution_count": null,
   "metadata": {},
   "outputs": [],
   "source": [
    "class Solution:\n",
    "    def canVisitAllRooms(self, rooms: List[List[int]]) -> bool:\n",
    "        visited, stack = {0},[0]\n",
    "        while stack:\n",
    "            room_idx = stack.pop()\n",
    "            for key in rooms[room_idx]:\n",
    "                if key not in visited:\n",
    "                    visited.add(key)\n",
    "                    stack.append(key)\n",
    "        if len(visited) == len(rooms):\n",
    "            return True\n",
    "        return False"
   ]
  },
  {
   "cell_type": "markdown",
   "metadata": {},
   "source": [
    "使用栈实现深度遍历"
   ]
  },
  {
   "cell_type": "markdown",
   "metadata": {},
   "source": [
    "[695. 岛屿的最大面积](https://leetcode-cn.com/problems/max-area-of-island/)"
   ]
  },
  {
   "cell_type": "code",
   "execution_count": 7,
   "metadata": {},
   "outputs": [],
   "source": [
    "class Solution:\n",
    "    def maxAreaOfIsland(self, grid: List[List[int]]) -> int:\n",
    "        m = len(grid)\n",
    "        n = len(grid[0])\n",
    "        def dfs(row,col):\n",
    "            if  0<=row <m and  0<=col<n and grid[row][col] ==1:\n",
    "                grid[row][col] = 2\n",
    "                return 1+ dfs(row-1, col) + dfs(row+1, col) + dfs(row, col-1) + dfs(row, col+1)\n",
    "            return 0\n",
    "        res = 0\n",
    "        for i in range(m):\n",
    "            for j in range(n):\n",
    "                if grid[i][j] ==1:\n",
    "                    area = dfs(i,j)\n",
    "                    res = max(res, area)\n",
    "        return res"
   ]
  },
  {
   "cell_type": "markdown",
   "metadata": {},
   "source": [
    "与 0200. 岛屿数量 这题类似。\n",
    "1. 通过dfs找到当前点对应的岛屿的面积\n",
    "2. 通过遍历所有点找到最大值（已遍历的点为2， 不会再次遍历）"
   ]
  },
  {
   "cell_type": "markdown",
   "metadata": {},
   "source": [
    "[0130. 被围绕的区域](https://leetcode-cn.com/problems/surrounded-regions/)"
   ]
  },
  {
   "cell_type": "code",
   "execution_count": 8,
   "metadata": {},
   "outputs": [],
   "source": [
    "class Solution:\n",
    "    def solve(self, board: List[List[str]]) -> None:\n",
    "        \"\"\"\n",
    "        Do not return anything, modify board in-place instead.\n",
    "        \"\"\"\n",
    "        if not board or not board[0]:\n",
    "            return\n",
    "        m = len(board)\n",
    "        n = len(board[0])\n",
    "\n",
    "        def dfs(row, col):\n",
    "            if row < 0 or row >=m  or col<0 or col>=n or board[row][col] !='O':\n",
    "                return \n",
    "            board[row][col] = 'A'\n",
    "            dfs(row-1,col)\n",
    "            dfs(row+1,col)\n",
    "            dfs(row,col-1)\n",
    "            dfs(row,col+1)\n",
    "\n",
    "        #遍历边界上的点，调用dfs，将边界上与O相连的O均标记为A\n",
    "        for i in range(m):\n",
    "            dfs(i,0)\n",
    "            dfs(i,n-1)\n",
    "        for j in range(n):\n",
    "            dfs(0,j)\n",
    "            dfs(m-1,j)\n",
    "        \n",
    "        #遍历board，如果是标记过的，还原成O，如果是未标志的O，修改为X\n",
    "        for i in range(m):\n",
    "            for j in range(n):\n",
    "                if board[i][j] == 'A':\n",
    "                    board[i][j] = 'O'\n",
    "                elif board[i][j] == \"O\":\n",
    "                    board[i][j] = 'X'\n"
   ]
  },
  {
   "cell_type": "markdown",
   "metadata": {},
   "source": [
    "使用深度优先算法\n",
    "1. 定义深度优先算法，如果当前点是O，则标记为A，如果是X或者超出界限，则直接返回\n",
    "2. 遍历边界上的点，找到边界上的O和与之相连的O，均标记为A\n",
    "3. 遍历整个数组，如果当前点是A，则还原成O，如果当前点是O，表明未标记过，则修改为x"
   ]
  },
  {
   "cell_type": "markdown",
   "metadata": {},
   "source": [
    "### 第 09 天："
   ]
  },
  {
   "cell_type": "markdown",
   "metadata": {},
   "source": [
    "[0417. 太平洋大西洋水流问题](https://leetcode-cn.com/problems/pacific-atlantic-water-flow/)"
   ]
  },
  {
   "cell_type": "code",
   "execution_count": 11,
   "metadata": {},
   "outputs": [],
   "source": [
    "class Solution:\n",
    "    def pacificAtlantic(self, heights: List[List[int]]) -> List[List[int]]:\n",
    "        if not heights or not heights[0]:\n",
    "            return\n",
    "        m = len(heights)\n",
    "        n = len(heights[0])\n",
    "        # 逆向思维\n",
    "        #1. 找到从太平洋往上流可以找到的点\n",
    "        #2. 找到从大西洋往上流可以找到的点\n",
    "        #1.2中重合的点即为答案\n",
    "        visited_pri = [[0]*n for _ in range(m)]\n",
    "        visited_atl = [[0]*n for _ in range(m)]\n",
    "        res = []\n",
    "        def dfs(x,y, visited):\n",
    "            if not 0<=x<m or not 0<=y<n:\n",
    "                return\n",
    "            if visited[x][y] == 1:\n",
    "                return\n",
    "            visited[x][y] = 1\n",
    "            if (visited_pri[x][y] and visited_atl[x][y]):\n",
    "                res.append([x,y])\n",
    "            if x+1<m and heights[x+1][y] >= heights[x][y]:\n",
    "                dfs(x+1,y,visited)\n",
    "            if y+1<n and heights[x][y+1] >= heights[x][y]:\n",
    "                dfs(x,y+1,visited)\n",
    "            if x-1>=0 and heights[x-1][y] >= heights[x][y]:\n",
    "                dfs(x-1,y,visited)\n",
    "            if y-1>=0 and heights[x][y-1] >= heights[x][y]:\n",
    "                dfs(x,y-1,visited)\n",
    "            return \n",
    "   \n",
    "        for i in range(m):\n",
    "            dfs(i,0,visited_pri)\n",
    "            dfs(i,n-1,visited_atl)\n",
    "        for j in range(n):\n",
    "            dfs(0,j,visited_pri)\n",
    "            dfs(m-1,j,visited_atl)\n",
    "        return res"
   ]
  },
  {
   "cell_type": "markdown",
   "metadata": {},
   "source": [
    "[1020. 飞地的数量](https://leetcode-cn.com/problems/number-of-enclaves/)"
   ]
  },
  {
   "cell_type": "code",
   "execution_count": null,
   "metadata": {},
   "outputs": [],
   "source": [
    "class Solution:\n",
    "    def numEnclaves(self, grid: List[List[int]]) -> int:\n",
    "        if not grid or not grid[0]:\n",
    "            return\n",
    "        m = len(grid)\n",
    "        n = len(grid[0])\n",
    "\n",
    "        def dfs(row, col):\n",
    "            if row < 0 or row >=m  or col<0 or col>=n or grid[row][col] !=1:\n",
    "                return \n",
    "            grid[row][col] = 'A'\n",
    "            dfs(row-1,col)\n",
    "            dfs(row+1,col)\n",
    "            dfs(row,col-1)\n",
    "            dfs(row,col+1)\n",
    "\n",
    "        #遍历边界上的点，调用dfs，将边界上与1相连的1均标记为A\n",
    "        for i in range(m):\n",
    "            dfs(i,0)\n",
    "            dfs(i,n-1)\n",
    "        for j in range(n):\n",
    "            dfs(0,j)\n",
    "            dfs(m-1,j)\n",
    "\n",
    "        count = 0\n",
    "        #遍历grid，如果是0 ，不计数，如果是标记过的，不计数，如果是未修改的1，计入统计\n",
    "        for i in range(m):\n",
    "            for j in range(n):\n",
    "                if grid[i][j] == 1:\n",
    "                    count += 1\n",
    "        return count"
   ]
  },
  {
   "cell_type": "markdown",
   "metadata": {},
   "source": [
    "这一题与0130. 被围绕的区域基本一致，只需要统计未被修改的1即可"
   ]
  },
  {
   "cell_type": "markdown",
   "metadata": {},
   "source": [
    "[1254. 统计封闭岛屿的数目](https://leetcode-cn.com/problems/number-of-closed-islands/)"
   ]
  },
  {
   "cell_type": "code",
   "execution_count": 12,
   "metadata": {},
   "outputs": [],
   "source": [
    "class Solution:\n",
    "    def closedIsland(self, grid: List[List[int]]) -> int:\n",
    "        colnum = 0 \n",
    "        if not grid or not grid[0]:\n",
    "            return colnum\n",
    "        m = len(grid)\n",
    "        n = len(grid[0])\n",
    "\n",
    "        def dfs(x,y):\n",
    "            if x<0 or x == m or y<0 or y == n:\n",
    "                return True\n",
    "            if grid[x][y] != 0:\n",
    "                return False\n",
    "            grid[x][y] = 666\n",
    "            flag = False\n",
    "            if dfs(x,y-1): \n",
    "                flag = True\n",
    "            if dfs(x,y+1):\n",
    "                flag = True\n",
    "            if dfs(x-1,y):\n",
    "                flag = True\n",
    "            if dfs(x+1,y):\n",
    "                flag = True\n",
    "            return flag                      \n",
    "            \n",
    "        for i in range(m):\n",
    "            for j in range(n):\n",
    "                if grid[i][j] == 0:\n",
    "                    if not dfs(i,j):\n",
    "                        colnum += 1\n",
    "        return colnum\n",
    "            "
   ]
  },
  {
   "cell_type": "markdown",
   "metadata": {},
   "source": [
    "使用dfs直接标记：\n",
    "1. 如果遍历时触碰到边界，即为True\n",
    "2. 如果没有触碰到边界即为False\n",
    "3. 触碰到边界的岛屿（grid[i][j] == 0）不统计\n",
    "4. 没有触碰到边界的岛屿（grid[i][j] == 0）统计"
   ]
  },
  {
   "cell_type": "code",
   "execution_count": null,
   "metadata": {},
   "outputs": [],
   "source": []
  }
 ],
 "metadata": {
  "kernelspec": {
   "display_name": "Python 3",
   "language": "python",
   "name": "python3"
  },
  "language_info": {
   "codemirror_mode": {
    "name": "ipython",
    "version": 3
   },
   "file_extension": ".py",
   "mimetype": "text/x-python",
   "name": "python",
   "nbconvert_exporter": "python",
   "pygments_lexer": "ipython3",
   "version": "3.7.7"
  }
 },
 "nbformat": 4,
 "nbformat_minor": 4
}
