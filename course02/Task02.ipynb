{
 "cells": [
  {
   "cell_type": "markdown",
   "metadata": {},
   "source": [
    "# Task 02：堆栈与深度优先搜索"
   ]
  },
  {
   "cell_type": "markdown",
   "metadata": {},
   "source": [
    "### 第 05 天：\n",
    "[0155. 最小栈](https://leetcode-cn.com/problems/min-stack/)"
   ]
  },
  {
   "cell_type": "code",
   "execution_count": 2,
   "metadata": {},
   "outputs": [],
   "source": [
    "class MinStack:\n",
    "\n",
    "    def __init__(self):\n",
    "        self.stack = []\n",
    "        self.min_v = float(\"inf\")\n",
    "\n",
    "\n",
    "    def push(self, val: int) -> None:\n",
    "        self.stack.append(val)\n",
    "        if val < self.min_v:\n",
    "            self.min_v = val\n",
    "\n",
    "\n",
    "    def pop(self) -> None:\n",
    "        self.stack.pop()\n",
    "        if self.stack:\n",
    "            self.min_v = min(self.stack)\n",
    "        else:\n",
    "            self.min_v = float(\"inf\")\n",
    "\n",
    "\n",
    "\n",
    "    def top(self) -> int:\n",
    "        return self.stack[-1]\n",
    "\n",
    "\n",
    "    def getMin(self) -> int:\n",
    "        return self.min_v\n",
    "\n",
    "# Your MinStack object will be instantiated and called as such:\n",
    "# obj = MinStack()\n",
    "# obj.push(val)\n",
    "# obj.pop()\n",
    "# param_3 = obj.top()\n",
    "# param_4 = obj.getMin()"
   ]
  },
  {
   "cell_type": "markdown",
   "metadata": {},
   "source": [
    "本题借助无求大float(\"inf\")来初始化最小值"
   ]
  },
  {
   "cell_type": "markdown",
   "metadata": {},
   "source": [
    "[0020. 有效的括号](https://leetcode-cn.com/problems/valid-parentheses/)"
   ]
  },
  {
   "cell_type": "code",
   "execution_count": 1,
   "metadata": {},
   "outputs": [],
   "source": [
    "class Solution:\n",
    "    def isValid(self, s: str) -> bool:\n",
    "        dict1 = {\"}\":\"{\",\")\":\"(\",\"]\":\"[\"}\n",
    "        stack = []\n",
    "        for i in s:\n",
    "            if i in dict1.keys():\n",
    "                if not stack or stack[-1] != dict1[i]:\n",
    "                    return False\n",
    "                stack.pop(-1)\n",
    "            else:\n",
    "                stack.append(i)\n",
    "        if not stack:\n",
    "            return True\n",
    "        return False"
   ]
  },
  {
   "cell_type": "markdown",
   "metadata": {},
   "source": [
    "本题借用字典和堆栈求解"
   ]
  },
  {
   "cell_type": "markdown",
   "metadata": {},
   "source": [
    "[0227. 基本计算器 II](https://leetcode-cn.com/problems/basic-calculator-ii/)"
   ]
  },
  {
   "cell_type": "code",
   "execution_count": null,
   "metadata": {},
   "outputs": [],
   "source": [
    "class Solution:\n",
    "    def calculate(self, s: str) -> int:\n",
    "        dict1 = {'+':+, '-':-, '*':*, '/'://}\n",
    "        stack1 = []\n",
    "        s = s.replace(\" \",\"\")\n",
    "        for i in s:\n",
    "            if i not in dict1.keys():\n",
    "                stack1.append()"
   ]
  },
  {
   "cell_type": "markdown",
   "metadata": {},
   "source": [
    "学习了[宫水三叶](https://leetcode-cn.com/problems/basic-calculator-ii/solution/shi-yong-shuang-zhan-jie-jue-jiu-ji-biao-c65k/)的题解\n",
    "这道题用双栈法：\n",
    "1. 对于「任何表达式」而言，我们都使用两个栈 nums 和 ops：\n",
    "- nums ： 存放所有的数字\n",
    "- ops ：存放所有的数字以外的操作\n",
    "\n",
    "2. 然后从前往后做，对遍历到的字符做分情况讨论：\n",
    "- 空格 : 跳过 （先开始可以用空字符替代来预处理）\n",
    "- 数字 : 从当前位置开始继续往后取，将整一个连续数字整体取出，加入 nums\n",
    "- 【+ - * /】 : 需要将操作放入 ops 中。在放入之前先把栈内可以算的都算掉（只有「栈内运算符」比「当前运算符」优先级高/同等，才进行运算），使用现有的 nums 和 ops 进行计算，直到没有操作，计算结果放到 nums"
   ]
  },
  {
   "cell_type": "markdown",
   "metadata": {
    "tags": []
   },
   "source": [
    "### 第 06 天：\n",
    "[0150. 逆波兰表达式求值](https://leetcode-cn.com/problems/evaluate-reverse-polish-notation/)"
   ]
  },
  {
   "cell_type": "code",
   "execution_count": null,
   "metadata": {},
   "outputs": [],
   "source": []
  },
  {
   "cell_type": "markdown",
   "metadata": {},
   "source": [
    "[0394. 字符串解码](https://leetcode-cn.com/problems/decode-string/)"
   ]
  },
  {
   "cell_type": "code",
   "execution_count": null,
   "metadata": {},
   "outputs": [],
   "source": []
  },
  {
   "cell_type": "markdown",
   "metadata": {},
   "source": [
    "[0946. 验证栈序列](https://leetcode-cn.com/problems/validate-stack-sequences/)"
   ]
  },
  {
   "cell_type": "code",
   "execution_count": null,
   "metadata": {},
   "outputs": [],
   "source": [
    "#当popped中index指向的位置的元素和stack栈顶的元素一致时，出栈 并且 index++\n"
   ]
  },
  {
   "cell_type": "markdown",
   "metadata": {
    "tags": []
   },
   "source": [
    "### 第 07 天：\n",
    "[0200. 岛屿数量](https://leetcode-cn.com/problems/number-of-islands/)"
   ]
  },
  {
   "cell_type": "code",
   "execution_count": 4,
   "metadata": {},
   "outputs": [],
   "source": [
    "from typing import List"
   ]
  },
  {
   "cell_type": "code",
   "execution_count": 5,
   "metadata": {},
   "outputs": [],
   "source": [
    "class Solution:\n",
    "    def numIslands(self, grid: List[List[str]]) -> int:\n",
    "        m = len(grid)\n",
    "        n = len(grid[0])\n",
    "        def dfs(row,col):\n",
    "            if  0<=row <m and  0<=col<n and grid[row][col] =='1':\n",
    "                grid[row][col] = '2'\n",
    "                dfs(row-1, col)\n",
    "                dfs(row+1, col)\n",
    "                dfs(row, col-1)\n",
    "                dfs(row, col+1)\n",
    "        count = 0\n",
    "        for i in range(m):\n",
    "            for j in range(n):\n",
    "                if grid[i][j] =='1':\n",
    "                    dfs(i,j)\n",
    "                    count += 1\n",
    "        return count"
   ]
  },
  {
   "cell_type": "markdown",
   "metadata": {},
   "source": [
    "本题使用深度搜索\n",
    "1. 设置count = 0\n",
    "2. 当前所在点 grid[i][j] =='1'时，使用dfs遍历周边的点，已遍历过设置为2，直到找到为0的点或者为边界时，停止搜索，将count值加一（相当于找到了与当前点所有连在一起的点）\n",
    "3. 在下一点重复2的操作，由于我们已将遍历过的点设置为2， 所以不会重复遍历"
   ]
  },
  {
   "cell_type": "markdown",
   "metadata": {},
   "source": [
    "[0133. 克隆图](https://leetcode-cn.com/problems/clone-graph/)"
   ]
  },
  {
   "cell_type": "code",
   "execution_count": 9,
   "metadata": {},
   "outputs": [],
   "source": [
    "\"\"\"\n",
    "# Definition for a Node.\n",
    "class Node:\n",
    "    def __init__(self, val = 0, neighbors = None):\n",
    "        self.val = val\n",
    "        self.neighbors = neighbors if neighbors is not None else []\n",
    "\"\"\"\n",
    "\n",
    "class Solution:\n",
    "    def cloneGraph(self, node: 'Node') -> 'Node':\n",
    "        if not node:\n",
    "            return \n",
    "        if not node.neighbors:\n",
    "            return Node(1)\n",
    "        visited = {}\n",
    "        def dfs(node, visited):\n",
    "            if node in visited:\n",
    "                return visited[node]\n",
    "            clone_node = Node(node.val,[])\n",
    "            visited[node] = clone_node\n",
    "            for neighbor in node.neighbors:\n",
    "                visited[node].neighbors.append(dfs(neighbor,visited))\n",
    "            return clone_node\n",
    "        return dfs(node,visited)"
   ]
  },
  {
   "cell_type": "markdown",
   "metadata": {},
   "source": [
    "[0494. 目标和](https://leetcode-cn.com/problems/target-sum/)"
   ]
  },
  {
   "cell_type": "code",
   "execution_count": 10,
   "metadata": {},
   "outputs": [],
   "source": [
    "class Solution:\n",
    "    def findTargetSumWays(self, nums: List[int], target: int) -> int:\n",
    "        n = len(nums)\n",
    "        @cache\n",
    "        def dfs(i, target):\n",
    "            if i < 0 : return 0\n",
    "            if i == 0:\n",
    "                if nums[0] == target and nums[0] == -1* target:\n",
    "                    return 2\n",
    "                if nums[0] == target or nums[0] == -1 * target:\n",
    "                    return 1\n",
    "                else:\n",
    "                    return 0\n",
    "            return dfs(i-1,target- nums[i]) + dfs(i-1, target+nums[i])\n",
    "        return dfs(n-1, target)"
   ]
  },
  {
   "cell_type": "markdown",
   "metadata": {},
   "source": [
    "使用动态规划的方法\n",
    "定义dfs(i, target)，表示前i个数组运算结果等于 target 的不同 表达式 的数目"
   ]
  },
  {
   "cell_type": "markdown",
   "metadata": {},
   "source": [
    "### 第 08 天：\n",
    "[0841. 钥匙和房间](https://leetcode-cn.com/problems/keys-and-rooms/)"
   ]
  },
  {
   "cell_type": "code",
   "execution_count": null,
   "metadata": {},
   "outputs": [],
   "source": []
  },
  {
   "cell_type": "markdown",
   "metadata": {},
   "source": [
    "[695. 岛屿的最大面积](https://leetcode-cn.com/problems/max-area-of-island/)"
   ]
  },
  {
   "cell_type": "code",
   "execution_count": 7,
   "metadata": {},
   "outputs": [],
   "source": [
    "class Solution:\n",
    "    def maxAreaOfIsland(self, grid: List[List[int]]) -> int:\n",
    "        m = len(grid)\n",
    "        n = len(grid[0])\n",
    "        def dfs(row,col):\n",
    "            if  0<=row <m and  0<=col<n and grid[row][col] ==1:\n",
    "                grid[row][col] = 2\n",
    "                return 1+ dfs(row-1, col) + dfs(row+1, col) + dfs(row, col-1) + dfs(row, col+1)\n",
    "            return 0\n",
    "        res = 0\n",
    "        for i in range(m):\n",
    "            for j in range(n):\n",
    "                if grid[i][j] ==1:\n",
    "                    area = dfs(i,j)\n",
    "                    res = max(res, area)\n",
    "        return res"
   ]
  },
  {
   "cell_type": "markdown",
   "metadata": {},
   "source": [
    "与 0200. 岛屿数量 这题类似。\n",
    "1. 通过dfs找到当前点对应的岛屿的面积\n",
    "2. 通过遍历所有点找到最大值（已遍历的点为2， 不会再次遍历）"
   ]
  },
  {
   "cell_type": "markdown",
   "metadata": {},
   "source": [
    "[0130. 被围绕的区域](https://leetcode-cn.com/problems/surrounded-regions/)"
   ]
  },
  {
   "cell_type": "code",
   "execution_count": 8,
   "metadata": {},
   "outputs": [],
   "source": [
    "class Solution:\n",
    "    def solve(self, board: List[List[str]]) -> None:\n",
    "        \"\"\"\n",
    "        Do not return anything, modify board in-place instead.\n",
    "        \"\"\"\n",
    "        if not board or not board[0]:\n",
    "            return\n",
    "        m = len(board)\n",
    "        n = len(board[0])\n",
    "\n",
    "        def dfs(row, col):\n",
    "            if row < 0 or row >=m  or col<0 or col>=n or board[row][col] !='O':\n",
    "                return \n",
    "            board[row][col] = 'A'\n",
    "            dfs(row-1,col)\n",
    "            dfs(row+1,col)\n",
    "            dfs(row,col-1)\n",
    "            dfs(row,col+1)\n",
    "\n",
    "        #遍历边界上的点，调用dfs，将边界上与O相连的O均标记为A\n",
    "        for i in range(m):\n",
    "            dfs(i,0)\n",
    "            dfs(i,n-1)\n",
    "        for j in range(n):\n",
    "            dfs(0,j)\n",
    "            dfs(m-1,j)\n",
    "        \n",
    "        #遍历board，如果是标记过的，还原成O，如果是未标志的O，修改为X\n",
    "        for i in range(m):\n",
    "            for j in range(n):\n",
    "                if board[i][j] == 'A':\n",
    "                    board[i][j] = 'O'\n",
    "                elif board[i][j] == \"O\":\n",
    "                    board[i][j] = 'X'\n"
   ]
  },
  {
   "cell_type": "markdown",
   "metadata": {},
   "source": [
    "使用深度优先算法\n",
    "1. 定义深度优先算法，如果当前点是O，则标记为A，如果是X或者超出界限，则直接返回\n",
    "2. 遍历边界上的点，找到边界上的O和与之相连的O，均标记为A\n",
    "3. 遍历整个数组，如果当前点是A，则还原成O，如果当前点是O，表明未标记过，则修改为x"
   ]
  },
  {
   "cell_type": "code",
   "execution_count": null,
   "metadata": {},
   "outputs": [],
   "source": []
  }
 ],
 "metadata": {
  "kernelspec": {
   "display_name": "Python 3",
   "language": "python",
   "name": "python3"
  },
  "language_info": {
   "codemirror_mode": {
    "name": "ipython",
    "version": 3
   },
   "file_extension": ".py",
   "mimetype": "text/x-python",
   "name": "python",
   "nbconvert_exporter": "python",
   "pygments_lexer": "ipython3",
   "version": "3.7.7"
  }
 },
 "nbformat": 4,
 "nbformat_minor": 4
}
