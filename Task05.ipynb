{
 "cells": [
  {
   "cell_type": "markdown",
   "metadata": {},
   "source": [
    "# Task 05 数组双指针、滑动窗口（3 天）"
   ]
  },
  {
   "cell_type": "markdown",
   "metadata": {},
   "source": [
    "双指针（Two Pointers）：指的是在遍历元素的过程中，不是使用单个指针进行访问，而是使用两个指针进行访问，从而达到相应的目的。如果两个指针方向相反，则称为「对撞时针」。如果两个指针方向相同，则称为「快慢指针」。如果两个指针分别属于不同的数组 / 链表，则称为「分离双指针」。\n",
    "\n",
    "- 对撞指针：指的是两个指针 left、right 分别指向序列第一个元素和最后一个元素，然后 left 指针不断递增，right 不断递减，直到两个指针的值相撞（即 left == right），或者满足其他要求的特殊条件为止。\n",
    "\n",
    "- 快慢指针：指的是两个指针从同一侧开始遍历序列，且移动的步长一个快一个慢。移动快的指针被称为 「快指针（fast）」，移动慢的指针被称为「慢指针（slow）」。两个指针以不同速度、不同策略移动，直到快指针移动到数组尾端，或者两指针相交，或者满足其他特殊条件时为止。\n",
    "\n",
    "- 分离双指针：两个指针分别属于不同的数组 / 链表，两个指针分别在两个数组 / 链表中移动。"
   ]
  },
  {
   "cell_type": "markdown",
   "metadata": {},
   "source": [
    "### [0344. 反转字符串](https://leetcode-cn.com/problems/reverse-string/)"
   ]
  },
  {
   "cell_type": "code",
   "execution_count": 2,
   "metadata": {},
   "outputs": [],
   "source": [
    "from typing import List\n",
    "class Solution:\n",
    "    def reverseString(self, s: List[str]) -> None:\n",
    "        \"\"\"\n",
    "        Do not return anything, modify s in-place instead.\n",
    "        \"\"\"\n",
    "        #对撞指针 \n",
    "        left = 0\n",
    "        right = len(s)-1\n",
    "        while left < right:\n",
    "            s[left],s[right] = s[right], s[left]\n",
    "            left += 1\n",
    "            right -= 1"
   ]
  },
  {
   "cell_type": "code",
   "execution_count": 3,
   "metadata": {},
   "outputs": [
    {
     "data": {
      "text/plain": [
       "['o', 'l', 'l', 'e', 'h']"
      ]
     },
     "execution_count": 3,
     "metadata": {},
     "output_type": "execute_result"
    }
   ],
   "source": [
    "s = [\"h\",\"e\",\"l\",\"l\",\"o\"]\n",
    "Solution().reverseString(s)\n",
    "s"
   ]
  },
  {
   "cell_type": "markdown",
   "metadata": {},
   "source": [
    "### [0015. 三数之和](https://leetcode-cn.com/problems/3sum/)"
   ]
  },
  {
   "cell_type": "code",
   "execution_count": 6,
   "metadata": {},
   "outputs": [],
   "source": [
    "class Solution(object):\n",
    "    def threeSum(self, nums):\n",
    "        \"\"\"\n",
    "        :type nums: List[int]\n",
    "        :rtype: List[List[int]]\n",
    "        \"\"\"\n",
    "        if len(nums)<3:\n",
    "            return []\n",
    "        nums.sort()\n",
    "        res = set()\n",
    "        for i in range(len(nums)):\n",
    "            if nums[i]> 0:\n",
    "                break\n",
    "            #对撞指针\n",
    "            j,k = i+1, len(nums)-1\n",
    "            while j < k:\n",
    "                s = nums[i]+nums[j]+ nums[k]\n",
    "                if s >0 :\n",
    "                    k -= 1\n",
    "                elif s <0:\n",
    "                    j += 1\n",
    "                elif s == 0:\n",
    "                    res.add((nums[i],nums[j],nums[k]))\n",
    "                    k -= 1\n",
    "                    j += 1\n",
    "        return list(res)"
   ]
  },
  {
   "cell_type": "code",
   "execution_count": 8,
   "metadata": {},
   "outputs": [
    {
     "data": {
      "text/plain": [
       "[(-1, -1, 2), (-1, 0, 1)]"
      ]
     },
     "execution_count": 8,
     "metadata": {},
     "output_type": "execute_result"
    }
   ],
   "source": [
    "Solution().threeSum([-1,0,1,2,-1,-4])"
   ]
  },
  {
   "cell_type": "markdown",
   "metadata": {},
   "source": [
    "### [0080. 删除有序数组中的重复项 II](https://leetcode-cn.com/problems/remove-duplicates-from-sorted-array-ii/)"
   ]
  },
  {
   "cell_type": "code",
   "execution_count": 136,
   "metadata": {},
   "outputs": [],
   "source": [
    "class Solution:\n",
    "    def removeDuplicates(self, nums: List[int]) -> int:\n",
    "        #快慢指针\n",
    "        slow = 0\n",
    "        fast = 2\n",
    "        n = len(nums)\n",
    "        count =0 \n",
    "        if n < 3:\n",
    "            return \n",
    "        while slow <= n-1-count and fast <= n-1-count:\n",
    "            if nums[slow] == nums[fast]:\n",
    "                count += 1\n",
    "                nums.pop(fast)\n",
    "            else:\n",
    "                slow += 1\n",
    "                fast += 1\n",
    "        return n-count"
   ]
  },
  {
   "cell_type": "markdown",
   "metadata": {},
   "source": [
    "### 第 12 天课程题目：\n",
    "### [0283. 移动零](https://leetcode-cn.com/problems/move-zeroes/)"
   ]
  },
  {
   "cell_type": "code",
   "execution_count": 10,
   "metadata": {},
   "outputs": [],
   "source": [
    "class Solution(object):\n",
    "    def moveZeroes(self, nums):\n",
    "        \"\"\"\n",
    "        :type nums: List[int]\n",
    "        :rtype: None Do not return anything, modify nums in-place instead.\n",
    "        \"\"\"\n",
    "        #快慢指针\n",
    "        j = 0\n",
    "        length = len(nums)\n",
    "        for i in range(length):\n",
    "            if nums[i] != 0:\n",
    "                nums[i], nums[j] = nums[j], nums[i]\n",
    "                j += 1"
   ]
  },
  {
   "cell_type": "markdown",
   "metadata": {},
   "source": [
    "### [0075. 颜色分类](https://leetcode-cn.com/problems/sort-colors/)"
   ]
  },
  {
   "cell_type": "code",
   "execution_count": 11,
   "metadata": {},
   "outputs": [],
   "source": [
    "# 使用代码库中函数方法\n",
    "class Solution:\n",
    "    def sortColors(self, nums: List[int]) -> None:\n",
    "        \"\"\"\n",
    "        Do not return anything, modify nums in-place instead.\n",
    "        \"\"\"\n",
    "        num_0 = nums.count(0)\n",
    "        num_1 = nums.count(1)\n",
    "        num_2 = nums.count(2)\n",
    "        for i in range(len(nums)):\n",
    "            if i < num_0:\n",
    "                nums[i] = 0\n",
    "            elif i < num_1+num_0:\n",
    "                nums[i] = 1\n",
    "            else:\n",
    "                nums[i] = 2"
   ]
  },
  {
   "cell_type": "code",
   "execution_count": 132,
   "metadata": {},
   "outputs": [],
   "source": [
    "# 使用快慢指针方法\n",
    "class Solution:\n",
    "    def sortColors(self, nums: List[int]) -> None:\n",
    "        \"\"\"\n",
    "        Do not return anything, modify nums in-place instead.\n",
    "        \"\"\"\n",
    "        #两次快慢指针\n",
    "        j = 0\n",
    "        n = len(nums)\n",
    "        for i in range(n):\n",
    "            if  nums[i] !=2:\n",
    "                nums[j], nums[i] = nums[i], nums[j]\n",
    "                j += 1      \n",
    "        l = 0\n",
    "        for k in range(n):\n",
    "            if nums[k] == 0:\n",
    "                nums[l], nums[k] = nums[k] , nums[l]\n",
    "                l += 1"
   ]
  },
  {
   "cell_type": "code",
   "execution_count": 133,
   "metadata": {},
   "outputs": [
    {
     "data": {
      "text/plain": [
       "[0, 0, 1, 1, 2, 2]"
      ]
     },
     "execution_count": 133,
     "metadata": {},
     "output_type": "execute_result"
    }
   ],
   "source": [
    "nums = [2,0,2,1,1,0]\n",
    "Solution().sortColors(nums)\n",
    "nums"
   ]
  },
  {
   "cell_type": "code",
   "execution_count": 134,
   "metadata": {},
   "outputs": [
    {
     "data": {
      "text/plain": [
       "[0, 1, 2]"
      ]
     },
     "execution_count": 134,
     "metadata": {},
     "output_type": "execute_result"
    }
   ],
   "source": [
    "nums = [0,2,1]\n",
    "Solution().sortColors(nums)\n",
    "nums"
   ]
  },
  {
   "cell_type": "markdown",
   "metadata": {},
   "source": [
    "### [0088. 合并两个有序数组](https://leetcode-cn.com/problems/merge-sorted-array/)"
   ]
  },
  {
   "cell_type": "code",
   "execution_count": 24,
   "metadata": {},
   "outputs": [],
   "source": [
    "#使用分离双指针\n",
    "class Solution:\n",
    "    def merge(self, nums1: List[int], m: int, nums2: List[int], n: int) -> None:\n",
    "        \"\"\"\n",
    "        Do not return anything, modify nums1 in-place instead.\n",
    "        \"\"\"\n",
    "        i = 0\n",
    "        j = 0 \n",
    "        if m == 0:\n",
    "            nums1[:] = nums2\n",
    "            return\n",
    "        if n == 0:\n",
    "            return  \n",
    "        while i < m and j < n:\n",
    "            if nums1[i+j] <= nums2[j] and i != m-1:\n",
    "                i += 1\n",
    "            elif nums1[i+j] <= nums2[j] and i == m-1:\n",
    "                nums1[:] = nums1[:i+j+1] + nums2[j:]\n",
    "                break               \n",
    "            elif nums1[i+j] > nums2[j]:\n",
    "                nums1[:] = nums1[:i+j] + [nums2[j]] + nums1[i+j:-1]\n",
    "                j += 1"
   ]
  },
  {
   "cell_type": "code",
   "execution_count": 25,
   "metadata": {},
   "outputs": [
    {
     "data": {
      "text/plain": [
       "[1, 2, 2, 3, 5, 6]"
      ]
     },
     "execution_count": 25,
     "metadata": {},
     "output_type": "execute_result"
    }
   ],
   "source": [
    "nums1 = [1,2,3,0,0,0]\n",
    "Solution().merge(nums1,3,[2,5,6],3)\n",
    "nums1"
   ]
  },
  {
   "cell_type": "code",
   "execution_count": 26,
   "metadata": {},
   "outputs": [
    {
     "data": {
      "text/plain": [
       "[1]"
      ]
     },
     "execution_count": 26,
     "metadata": {},
     "output_type": "execute_result"
    }
   ],
   "source": [
    "nums1 = [0]\n",
    "Solution().merge(nums1,0,[1],1)\n",
    "nums1"
   ]
  },
  {
   "cell_type": "code",
   "execution_count": 27,
   "metadata": {},
   "outputs": [
    {
     "data": {
      "text/plain": [
       "[]"
      ]
     },
     "execution_count": 27,
     "metadata": {},
     "output_type": "execute_result"
    }
   ],
   "source": [
    "nums1 = [1]\n",
    "Solution().merge(nums1,0,[],0)\n",
    "nums1"
   ]
  },
  {
   "cell_type": "markdown",
   "metadata": {},
   "source": [
    "### 第 13 天课程题目："
   ]
  },
  {
   "cell_type": "markdown",
   "metadata": {},
   "source": [
    "- 滑动窗口（Sliding Window）：在给定数组 / 字符串上维护一个固定长度或不定长度的窗口。可以对窗口进行滑动操作、缩放操作，以及维护最优解操作。\n",
    "- 滑动窗口利用了双指针中的快慢指针技巧，我们可以将滑动窗口看做是快慢指针两个指针中间的区间，也可以可以将滑动窗口看做是快慢指针的一种特殊形式。"
   ]
  },
  {
   "cell_type": "markdown",
   "metadata": {},
   "source": [
    "### [0674. 最长连续递增序列](https://leetcode-cn.com/problems/longest-continuous-increasing-subsequence/)"
   ]
  },
  {
   "cell_type": "code",
   "execution_count": 137,
   "metadata": {},
   "outputs": [],
   "source": [
    "class Solution:\n",
    "    def findLengthOfLCIS(self, nums: List[int]) -> int:\n",
    "        slow = 0\n",
    "        fast = 1\n",
    "        n = len(nums)\n",
    "        res = [1]\n",
    "        while slow < n and fast < n:\n",
    "            if nums[slow] < nums[fast] and nums[fast-1] < nums[fast]:\n",
    "                res.append(fast - slow +1)\n",
    "                fast += 1\n",
    "            else:\n",
    "                slow = fast\n",
    "                fast += 1\n",
    "        return max(res)"
   ]
  },
  {
   "cell_type": "markdown",
   "metadata": {},
   "source": [
    "### [1004. 最大连续1的个数 III](https://leetcode-cn.com/problems/max-consecutive-ones-iii/)"
   ]
  },
  {
   "cell_type": "code",
   "execution_count": 174,
   "metadata": {},
   "outputs": [],
   "source": [
    "class Solution:\n",
    "    def longestOnes(self, nums: List[int], k: int) -> int:\n",
    "        n = len(nums)\n",
    "        all_zero = []\n",
    "        for i in range(n):\n",
    "            if nums[i] == 0:\n",
    "                all_zero.append(i)\n",
    "        l = len(all_zero)\n",
    "        res = []\n",
    "        if l <=k:\n",
    "            return n\n",
    "        for j in range(l-k-1):\n",
    "            res.append(all_zero[j+k+1]-all_zero[j]-1)\n",
    "        if k != 0:\n",
    "            res.append(all_zero[k])\n",
    "        res.append(n-all_zero[-1-k]-1)        \n",
    "        return max(res)"
   ]
  },
  {
   "cell_type": "code",
   "execution_count": 175,
   "metadata": {},
   "outputs": [
    {
     "data": {
      "text/plain": [
       "6"
      ]
     },
     "execution_count": 175,
     "metadata": {},
     "output_type": "execute_result"
    }
   ],
   "source": [
    "Solution().longestOnes([1,1,1,0,0,0,1,1,1,1,0],2)\n",
    "#6\n",
    "# [3,4,5,11]"
   ]
  },
  {
   "cell_type": "code",
   "execution_count": 176,
   "metadata": {},
   "outputs": [
    {
     "data": {
      "text/plain": [
       "10"
      ]
     },
     "execution_count": 176,
     "metadata": {},
     "output_type": "execute_result"
    }
   ],
   "source": [
    "Solution().longestOnes([0,0,1,1,0,0,1,1,1,0,1,1,0,0,0,1,1,1,1],3)\n",
    "#10\n",
    "# [0,1,4,5,9,13,14,15]"
   ]
  },
  {
   "cell_type": "markdown",
   "metadata": {},
   "source": [
    "### [0220. 存在重复元素 III](https://leetcode-cn.com/problems/contains-duplicate-iii/)"
   ]
  },
  {
   "cell_type": "code",
   "execution_count": 149,
   "metadata": {},
   "outputs": [],
   "source": [
    "class Solution:\n",
    "    def containsNearbyAlmostDuplicate(self, nums: List[int], k: int, t: int) -> bool:\n",
    "        n = len(nums)\n",
    "        res = False\n",
    "        for i in range(n):\n",
    "            j = i+1\n",
    "            while  j < n and j <= i+k:\n",
    "                if nums[i] - nums[j] <= t and nums[i] - nums[j] >= -t :\n",
    "                    res = True\n",
    "                    return res\n",
    "                else:\n",
    "                    j += 1\n",
    "        return res"
   ]
  },
  {
   "cell_type": "code",
   "execution_count": 150,
   "metadata": {},
   "outputs": [
    {
     "data": {
      "text/plain": [
       "False"
      ]
     },
     "execution_count": 150,
     "metadata": {},
     "output_type": "execute_result"
    }
   ],
   "source": [
    "Solution().containsNearbyAlmostDuplicate([1,5,9,1,5,9],2,3)"
   ]
  },
  {
   "cell_type": "markdown",
   "metadata": {},
   "source": [
    "50 / 53 个通过测试用例，超出时间限制"
   ]
  },
  {
   "cell_type": "code",
   "execution_count": 152,
   "metadata": {},
   "outputs": [],
   "source": [
    "class Solution:\n",
    "    def containsNearbyAlmostDuplicate(self, nums: List[int], k: int, t: int) -> bool:\n",
    "        n = len(nums)\n",
    "        res = False\n",
    "        slow = 0\n",
    "        while slow < n:\n",
    "            fast = slow +1\n",
    "            while fast <= min(n-1, slow+k):\n",
    "                if nums[slow] - nums[fast] <= t and nums[slow] - nums[fast] >= -t :\n",
    "                    return True\n",
    "                else:\n",
    "                    fast += 1\n",
    "            slow += 1\n",
    "        return res"
   ]
  },
  {
   "cell_type": "markdown",
   "metadata": {},
   "source": [
    "同上面一样，还是超时"
   ]
  },
  {
   "cell_type": "markdown",
   "metadata": {},
   "source": [
    "[参考其他人做法](https://leetcode-cn.com/problems/contains-duplicate-iii/solution/li-yong-tong-de-yuan-li-onpython3-by-zhou-pen-chen/)"
   ]
  },
  {
   "cell_type": "code",
   "execution_count": 154,
   "metadata": {},
   "outputs": [],
   "source": [
    "class Solution:\n",
    "    def containsNearbyAlmostDuplicate(self, nums: List[int], k: int, t: int) -> bool:\n",
    "        if t < 0 or k < 0:\n",
    "            return False\n",
    "        all_buckets = {}\n",
    "        bucket_size = t + 1                     # 桶的大小设成t+1更加方便\n",
    "        for i in range(len(nums)):\n",
    "            bucket_num = nums[i] // bucket_size # 放入哪个桶\n",
    "            \n",
    "            if bucket_num in all_buckets:       # 桶中已经有元素了\n",
    "                return True\n",
    "            \n",
    "            all_buckets[bucket_num] = nums[i]   # 把nums[i]放入桶中\n",
    "            \n",
    "            if (bucket_num - 1) in all_buckets and abs(all_buckets[bucket_num - 1] - nums[i]) <= t: # 检查前一个桶\n",
    "                return True\n",
    "            \n",
    "            if (bucket_num + 1) in all_buckets and abs(all_buckets[bucket_num + 1] - nums[i]) <= t: # 检查后一个桶\n",
    "                return True\n",
    "            \n",
    "            # 如果不构成返回条件，那么当i >= k 的时候就要删除旧桶了，以维持桶中的元素索引跟下一个i+1索引只差不超过k\n",
    "            if i >= k:\n",
    "                all_buckets.pop(nums[i-k]//bucket_size)\n",
    "                \n",
    "        return False"
   ]
  },
  {
   "cell_type": "code",
   "execution_count": null,
   "metadata": {},
   "outputs": [],
   "source": []
  }
 ],
 "metadata": {
  "kernelspec": {
   "display_name": "Python 3",
   "language": "python",
   "name": "python3"
  },
  "language_info": {
   "codemirror_mode": {
    "name": "ipython",
    "version": 3
   },
   "file_extension": ".py",
   "mimetype": "text/x-python",
   "name": "python",
   "nbconvert_exporter": "python",
   "pygments_lexer": "ipython3",
   "version": "3.7.7"
  }
 },
 "nbformat": 4,
 "nbformat_minor": 4
}
