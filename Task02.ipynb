{
 "cells": [
  {
   "cell_type": "markdown",
   "metadata": {},
   "source": [
    "# Task 02：数组基础（2 天）"
   ]
  },
  {
   "cell_type": "markdown",
   "metadata": {},
   "source": [
    "第 02 天课程题目：\n",
    "\n",
    "## [0066. 加一](https://leetcode-cn.com/problems/plus-one/)"
   ]
  },
  {
   "cell_type": "code",
   "execution_count": 20,
   "metadata": {},
   "outputs": [],
   "source": [
    "def plusOne(digits):\n",
    "    n = len(digits)\n",
    "    for i in range(n-1, -1, -1):\n",
    "        if digits[i] == 9:\n",
    "            digits[i] = 0\n",
    "        else:\n",
    "            digits[i] += 1\n",
    "            return digits\n",
    "    return [1] + digits"
   ]
  },
  {
   "cell_type": "code",
   "execution_count": 21,
   "metadata": {},
   "outputs": [
    {
     "data": {
      "text/plain": [
       "[1, 2]"
      ]
     },
     "execution_count": 21,
     "metadata": {},
     "output_type": "execute_result"
    }
   ],
   "source": [
    "plusOne([1,1])"
   ]
  },
  {
   "cell_type": "code",
   "execution_count": 23,
   "metadata": {},
   "outputs": [
    {
     "data": {
      "text/plain": [
       "[1, 0]"
      ]
     },
     "execution_count": 23,
     "metadata": {},
     "output_type": "execute_result"
    }
   ],
   "source": [
    "plusOne([9])"
   ]
  },
  {
   "cell_type": "markdown",
   "metadata": {},
   "source": [
    "## [0724. 寻找数组的中心下标](https://leetcode-cn.com/problems/find-pivot-index/)"
   ]
  },
  {
   "cell_type": "code",
   "execution_count": 27,
   "metadata": {},
   "outputs": [],
   "source": [
    "def pivotIndex(nums):\n",
    "    for i in range(len(nums)):\n",
    "        if sum(nums[:i]) == sum(nums[i+1:]):\n",
    "            return i\n",
    "    # if sum(nums[1:]) == 0:\n",
    "    #     return 0\n",
    "    # if sum(nums[:-1]) == 0:\n",
    "    #     return len(nums)-1\n",
    "    return -1             "
   ]
  },
  {
   "cell_type": "code",
   "execution_count": 29,
   "metadata": {},
   "outputs": [
    {
     "data": {
      "text/plain": [
       "3"
      ]
     },
     "execution_count": 29,
     "metadata": {},
     "output_type": "execute_result"
    }
   ],
   "source": [
    "pivotIndex([1, 7, 3, 6, 5, 6])"
   ]
  },
  {
   "cell_type": "markdown",
   "metadata": {},
   "source": [
    "## [0189. 旋转数组](https://leetcode-cn.com/problems/rotate-array/)"
   ]
  },
  {
   "cell_type": "markdown",
   "metadata": {},
   "source": [
    "输入: nums = [1,2,3,4,5,6,7], k = 3\n",
    "输出: [5,6,7,1,2,3,4]\n",
    "解释:\n",
    "向右轮转 1 步: [7,1,2,3,4,5,6]\n",
    "向右轮转 2 步: [6,7,1,2,3,4,5]\n",
    "向右轮转 3 步: [5,6,7,1,2,3,4]"
   ]
  },
  {
   "cell_type": "markdown",
   "metadata": {},
   "source": [
    "方法一：一个一个翻转，执行起来比较慢，耗时太长，提交时显示超过时间限制\n",
    "34 / 38 个通过测试用例"
   ]
  },
  {
   "cell_type": "code",
   "execution_count": null,
   "metadata": {},
   "outputs": [],
   "source": [
    "def rotate(nums, k):\n",
    "    \"\"\"\n",
    "    Do not return anything, modify nums in-place instead.\n",
    "    \"\"\"\n",
    "    n = len(nums)\n",
    "    k = k%n\n",
    "    for i in range(k):\n",
    "        tmp = nums[-1]\n",
    "        for i in range(n-1,-1,-1):\n",
    "            nums[i] =nums[i-1]\n",
    "        nums[0] = tmp   "
   ]
  },
  {
   "cell_type": "markdown",
   "metadata": {},
   "source": [
    "方法二：看了评论区，大家普遍用切片的方法做的，这里使用python切片"
   ]
  },
  {
   "cell_type": "code",
   "execution_count": null,
   "metadata": {},
   "outputs": [],
   "source": [
    "def rotate(nums, k):\n",
    "    \"\"\"\n",
    "    Do not return anything, modify nums in-place instead.\n",
    "    \"\"\"\n",
    "    n = len(nums)\n",
    "    nums[:] = nums[-k%n:] + nums[:-k%n]"
   ]
  },
  {
   "cell_type": "markdown",
   "metadata": {},
   "source": [
    "第 03 天课程题目：\n",
    "\n",
    "## [0048. 旋转图像](https://leetcode-cn.com/problems/rotate-image/)"
   ]
  },
  {
   "cell_type": "code",
   "execution_count": null,
   "metadata": {},
   "outputs": [],
   "source": []
  },
  {
   "cell_type": "markdown",
   "metadata": {},
   "source": [
    "## [0054. 螺旋矩阵](https://leetcode-cn.com/problems/spiral-matrix/)"
   ]
  },
  {
   "cell_type": "code",
   "execution_count": null,
   "metadata": {},
   "outputs": [],
   "source": []
  },
  {
   "cell_type": "markdown",
   "metadata": {},
   "source": [
    "## [0498. 对角线遍历](https://leetcode-cn.com/problems/diagonal-traverse/)"
   ]
  },
  {
   "cell_type": "code",
   "execution_count": null,
   "metadata": {},
   "outputs": [],
   "source": []
  },
  {
   "cell_type": "code",
   "execution_count": null,
   "metadata": {},
   "outputs": [],
   "source": []
  },
  {
   "cell_type": "code",
   "execution_count": null,
   "metadata": {},
   "outputs": [],
   "source": []
  }
 ],
 "metadata": {
  "kernelspec": {
   "display_name": "Python 3",
   "language": "python",
   "name": "python3"
  },
  "language_info": {
   "codemirror_mode": {
    "name": "ipython",
    "version": 3
   },
   "file_extension": ".py",
   "mimetype": "text/x-python",
   "name": "python",
   "nbconvert_exporter": "python",
   "pygments_lexer": "ipython3",
   "version": "3.7.7"
  }
 },
 "nbformat": 4,
 "nbformat_minor": 4
}
