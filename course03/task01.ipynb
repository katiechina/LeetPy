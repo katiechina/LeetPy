{
 "cells": [
  {
   "cell_type": "markdown",
   "metadata": {},
   "source": [
    "## 哈希表（Hash Table）"
   ]
  },
  {
   "cell_type": "markdown",
   "metadata": {},
   "source": [
    "几个重要的概念：\n",
    "- 哈希函数（Hash Function）：将哈希表中元素的关键键值映射为元素存储位置的函数。\n",
    "- 哈希冲突（Hash Collision）：不同的关键字通过同一个哈希函数可能得到同一哈希地址，即 key1 ≠ key2，而 Hash(key1) = Hash(key2)，这种现象称为哈希冲突。\n",
    "- 开放地址法（Open Addressing）：指的是将哈希表中的「空地址」向处理冲突开放。当哈希表未满时，处理冲突时需要尝试另外的单元，直到找到空的单元为止。\n",
    "- 链地址法（Chaining）：将具有相同哈希地址的元素（或记录）存储在同一个线性链表中。"
   ]
  },
  {
   "cell_type": "markdown",
   "metadata": {},
   "source": [
    "[217. 存在重复元素](https://leetcode.cn/problems/contains-duplicate/)\n",
    "\n",
    "给你一个整数数组 nums 。如果任一值在数组中出现 至少两次 ，返回 true ；如果数组中每个元素互不相同，返回 false 。"
   ]
  },
  {
   "cell_type": "code",
   "execution_count": 3,
   "metadata": {},
   "outputs": [],
   "source": [
    "from  typing import List"
   ]
  },
  {
   "cell_type": "code",
   "execution_count": 4,
   "metadata": {},
   "outputs": [],
   "source": [
    "class Solution:\n",
    "    def containsDuplicate(self, nums: List[int]) -> bool:\n",
    "        uniq = set()\n",
    "        for i in nums:\n",
    "            if i in uniq:\n",
    "                return True\n",
    "            else:\n",
    "                uniq.add(i)\n",
    "        return False"
   ]
  },
  {
   "cell_type": "markdown",
   "metadata": {},
   "source": [
    "[219. 存在重复元素 II](https://leetcode.cn/problems/contains-duplicate-ii/)\n",
    "\n",
    "给你一个整数数组 nums 和一个整数 k ，判断数组中是否存在两个 不同的索引 i 和 j ，满足 nums[i] == nums[j] 且 abs(i - j) <= k 。如果存在，返回 true ；否则，返回 false 。"
   ]
  },
  {
   "cell_type": "code",
   "execution_count": 6,
   "metadata": {},
   "outputs": [],
   "source": [
    "class Solution:\n",
    "    def containsNearbyDuplicate(self, nums: List[int], k: int) -> bool:\n",
    "        n = len(nums)\n",
    "        hashset = set()\n",
    "        for i in range(n):\n",
    "            if nums[i] in hashset:\n",
    "                return True\n",
    "            hashset.add(nums[i])\n",
    "            if i - k >= 0:\n",
    "                hashset.remove(nums[i-k])\n",
    "        return False"
   ]
  },
  {
   "cell_type": "markdown",
   "metadata": {},
   "source": [
    "[36. 有效的数独](https://leetcode.cn/problems/valid-sudoku/)\n",
    "\n",
    "请你判断一个 9 x 9 的数独是否有效。只需要 根据以下规则 ，验证已经填入的数字是否有效即可。\n",
    "- 数字 1-9 在每一行只能出现一次。\n",
    "- 数字 1-9 在每一列只能出现一次。\n",
    "- 数字 1-9 在每一个以粗实线分隔的 3x3 宫内只能出现一次。（请参考力扣示例图）\n",
    " \n",
    "\n",
    "注意：\n",
    "- 一个有效的数独（部分已被填充）不一定是可解的。\n",
    "- 只需要根据以上规则，验证已经填入的数字是否有效即可。\n",
    "- 空白格用 '.' 表示。"
   ]
  },
  {
   "cell_type": "code",
   "execution_count": 8,
   "metadata": {},
   "outputs": [],
   "source": [
    "class Solution:\n",
    "    def isValidSudoku(self, board: List[List[str]]) -> bool:\n",
    "        rows = [set() for i in range(9)]\n",
    "        cols = [set() for i in range(9)]\n",
    "        boxes = [set() for i in range(9)]\n",
    "        for i in range(9):\n",
    "            for j in range(9):\n",
    "                if board[i][j] != \".\":\n",
    "                    num = int(board[i][j])\n",
    "                    box_index = (i//3) *3 + j//3\n",
    "                    if num in rows[i]:\n",
    "                        return False\n",
    "                    if num in cols[j]:\n",
    "                        return False\n",
    "                    if num in boxes[box_index]:\n",
    "                        return False\n",
    "                    rows[i].add(num)\n",
    "                    cols[j].add(num)\n",
    "                    boxes[box_index].add(num)\n",
    "        return True"
   ]
  },
  {
   "cell_type": "markdown",
   "metadata": {},
   "source": [
    "[349. 两个数组的交集](https://leetcode.cn/problems/intersection-of-two-arrays/)\n",
    "\n",
    "给定两个数组 nums1 和 nums2 ，返回 它们的交集 。输出结果中的每个元素一定是 唯一 的。我们可以 不考虑输出结果的顺序 。"
   ]
  },
  {
   "cell_type": "code",
   "execution_count": 9,
   "metadata": {},
   "outputs": [],
   "source": [
    "class Solution:\n",
    "    def intersection(self, nums1: List[int], nums2: List[int]) -> List[int]:\n",
    "        return list(set(nums1) & set(nums2))"
   ]
  },
  {
   "cell_type": "markdown",
   "metadata": {},
   "source": [
    "[350. 两个数组的交集 II](https://leetcode.cn/problems/intersection-of-two-arrays-ii/)\n",
    "\n",
    "给你两个整数数组 nums1 和 nums2 ，请你以数组形式返回两数组的交集。返回结果中每个元素出现的次数，应与元素在两个数组中都出现的次数一致（如果出现次数不一致，则考虑取较小值）。可以不考虑输出结果的顺序。"
   ]
  },
  {
   "cell_type": "code",
   "execution_count": 10,
   "metadata": {},
   "outputs": [],
   "source": [
    "class Solution:\n",
    "    def intersect(self, nums1: List[int], nums2: List[int]) -> List[int]:\n",
    "        res = []\n",
    "        while nums1:\n",
    "            tail = nums1.pop()\n",
    "            if tail in nums2:\n",
    "                res.append(tail)\n",
    "                nums2.pop(nums2.index(tail))\n",
    "        return res"
   ]
  },
  {
   "cell_type": "code",
   "execution_count": 11,
   "metadata": {},
   "outputs": [],
   "source": [
    "class Solution:\n",
    "    def intersect(self, nums1: List[int], nums2: List[int]) -> List[int]:\n",
    "        num1 = collections.Counter(nums1)\n",
    "        num2 = collections.Counter(nums2)\n",
    "        num = num1.keys() & num2.keys()\n",
    "        res = []\n",
    "        for v in num:\n",
    "            res.extend(min(num1[v], num2[v])*[v])\n",
    "        return res"
   ]
  },
  {
   "cell_type": "markdown",
   "metadata": {},
   "source": [
    "[706. 设计哈希映射](https://leetcode.cn/problems/design-hashmap/submissions/)\n",
    "\n",
    "不使用任何内建的哈希表库设计一个哈希映射（HashMap）。\n",
    "\n",
    "实现 MyHashMap 类：\n",
    "\n",
    "- MyHashMap() 用空映射初始化对象\n",
    "- void put(int key, int value) 向 HashMap 插入一个键值对 (key, value) 。如果 key 已经存在于映射中，则更新其对应的值 value 。\n",
    "- int get(int key) 返回特定的 key 所映射的 value ；如果映射中不包含 key 的映射，返回 -1 。\n",
    "- void remove(key) 如果映射中存在 key 的映射，则移除 key 和它所对应的 value 。"
   ]
  },
  {
   "cell_type": "code",
   "execution_count": 12,
   "metadata": {},
   "outputs": [],
   "source": [
    "class MyHashMap:\n",
    "\n",
    "    def __init__(self):\n",
    "        self.hashmap = []\n",
    "\n",
    "\n",
    "    def put(self, key: int, value: int) -> None:\n",
    "        if key not in [i[0] for i in self.hashmap]:\n",
    "            self.hashmap.append([key,value])\n",
    "        else:\n",
    "            index = [i[0] for i in self.hashmap].index(key)\n",
    "            self.hashmap[index] = [key,value]\n",
    "\n",
    "\n",
    "    def get(self, key: int) -> int:\n",
    "        if key in [i[0] for i in self.hashmap]:\n",
    "            index = [i[0] for i in self.hashmap].index(key)\n",
    "            return  self.hashmap[index][1]\n",
    "        return -1\n",
    "\n",
    "    def remove(self, key: int) -> None:\n",
    "        if key in [i[0] for i in self.hashmap]:\n",
    "            index = [i[0] for i in self.hashmap].index(key)\n",
    "            self.hashmap.pop(index)\n",
    "\n",
    "\n",
    "\n",
    "# Your MyHashMap object will be instantiated and called as such:\n",
    "# obj = MyHashMap()\n",
    "# obj.put(key,value)\n",
    "# param_2 = obj.get(key)"
   ]
  },
  {
   "cell_type": "code",
   "execution_count": null,
   "metadata": {},
   "outputs": [],
   "source": []
  }
 ],
 "metadata": {
  "kernelspec": {
   "display_name": "Python 3",
   "language": "python",
   "name": "python3"
  },
  "language_info": {
   "codemirror_mode": {
    "name": "ipython",
    "version": 3
   },
   "file_extension": ".py",
   "mimetype": "text/x-python",
   "name": "python",
   "nbconvert_exporter": "python",
   "pygments_lexer": "ipython3",
   "version": "3.7.7"
  }
 },
 "nbformat": 4,
 "nbformat_minor": 4
}
