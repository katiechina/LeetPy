{
 "cells": [
  {
   "cell_type": "markdown",
   "metadata": {},
   "source": [
    "## Task 02：字符串与字符串匹配"
   ]
  },
  {
   "cell_type": "markdown",
   "metadata": {},
   "source": [
    "[125. 验证回文串](https://leetcode.cn/problems/valid-palindrome/)\n",
    "\n",
    "给定一个字符串，验证它是否是回文串，只考虑字母和数字字符，可以忽略字母的大小写。\n",
    "\n",
    "说明：本题中，我们将空字符串定义为有效的回文串。"
   ]
  },
  {
   "cell_type": "code",
   "execution_count": 2,
   "metadata": {},
   "outputs": [],
   "source": [
    "from typing import List"
   ]
  },
  {
   "cell_type": "code",
   "execution_count": 1,
   "metadata": {},
   "outputs": [],
   "source": [
    "class Solution:\n",
    "    def isPalindrome(self, s: str) -> bool:\n",
    "        s = \"\".join([i.lower() for i in s if i.isalnum()])\n",
    "        return s[::-1] == s"
   ]
  },
  {
   "cell_type": "markdown",
   "metadata": {},
   "source": [
    "[344. 反转字符串](https://leetcode.cn/problems/reverse-string/)\n",
    "\n",
    "编写一个函数，其作用是将输入的字符串反转过来。输入字符串以字符数组 s 的形式给出。\n",
    "\n",
    "不要给另外的数组分配额外的空间，你必须原地修改输入数组、使用 O(1) 的额外空间解决这一问题"
   ]
  },
  {
   "cell_type": "code",
   "execution_count": 4,
   "metadata": {},
   "outputs": [],
   "source": [
    "class Solution:\n",
    "    def reverseString(self, s: List[str]) -> None:\n",
    "        \"\"\"\n",
    "        Do not return anything, modify s in-place instead.\n",
    "        \"\"\"\n",
    "        n = len(s)\n",
    "        i = 0\n",
    "        while i <= n-1-i :\n",
    "            s[i] , s[n-1-i] = s[n-1-i], s[i] \n",
    "            i += 1\n",
    "        return s"
   ]
  },
  {
   "cell_type": "markdown",
   "metadata": {},
   "source": [
    "[557. 反转字符串中的单词 III](https://leetcode.cn/problems/reverse-words-in-a-string-iii/)\n",
    "\n",
    "给定一个字符串 s ，你需要反转字符串中每个单词的字符顺序，同时仍保留空格和单词的初始顺序。"
   ]
  },
  {
   "cell_type": "code",
   "execution_count": 5,
   "metadata": {},
   "outputs": [],
   "source": [
    "class Solution:\n",
    "    def reverseWords(self, s: str) -> str:\n",
    "        return \" \".join([i[::-1] for i in s.split(\" \")])"
   ]
  },
  {
   "cell_type": "markdown",
   "metadata": {},
   "source": [
    "## 单模式匹配问题\n",
    "单模式匹配问题（Single Pattern Matching）：给定一个文本串 \n",
    "，再给定一个特定模式串 \n",
    "。要求从文本串  找出特定模式串  的所有出现位置。"
   ]
  },
  {
   "cell_type": "markdown",
   "metadata": {
    "tags": []
   },
   "source": [
    " ### Brute Force 算法"
   ]
  },
  {
   "cell_type": "markdown",
   "metadata": {},
   "source": [
    "对于给定文本串 T 与模式串 p，从文本串的第一个字符开始与模式串 p 的第一个字符进行比较，如果相等，则继续逐个比较后续字符，否则从文本串 T 的第二个字符起重新和模式串 p 进行比较。依次类推，直到模式串 p 中每个字符依次与文本串 T 的一个连续子串相等，则模式匹配成功。否则模式匹配失败。"
   ]
  },
  {
   "cell_type": "markdown",
   "metadata": {},
   "source": [
    "### Rabin Karp 算法\n",
    "对于给定文本串 T 与模式串 p，通过滚动哈希算快速筛选出与模式串 p 不匹配的文本位置，然后在其余位置继续检查匹配项。\n",
    "\n",
    "实现 RK 算法中一个重要步骤是 「滚动哈希算法」，通过滚动哈希算法，将每次计算子串哈希值的复杂度从O(m)降到了O(1) ，从而提升了整个算法效率。"
   ]
  },
  {
   "cell_type": "markdown",
   "metadata": {},
   "source": [
    "### KMP 算法\n",
    "KMP 算法思想：\n",
    "> 对于给定文本串 T 与模式串 p，当发现文本串 T 的某个字符与模式串 p 不匹配的时候，可以利用匹配失败后的信息，尽量减少模式串与文本串的匹配次数，避免文本串位置的回退，以达到快速匹配的目的。"
   ]
  },
  {
   "cell_type": "markdown",
   "metadata": {},
   "source": [
    "KMP 算法思路:\n",
    "> 对模式串 p 进行了预处理，计算出一个 「部分匹配表」，用一个数组 next 来记录。然后在每次失配发生时，不回退文本串的指针 i，而是根据「部分匹配表」中模式串失配位置 j 的前一个位置的值，即 next[j - 1] 的值来决定模式串可以向右移动的位数。"
   ]
  },
  {
   "cell_type": "markdown",
   "metadata": {},
   "source": [
    "next[j] 表示的含义是：记录下标 j 之前（包括 j）的模式串 p 中，最长相等前后缀的长度。"
   ]
  },
  {
   "cell_type": "code",
   "execution_count": 14,
   "metadata": {},
   "outputs": [],
   "source": [
    "# next函数1\n",
    "# 生成 next 数组\n",
    "# next[j] 表示下标 j 之前的模式串 p 中，最长相等前后缀的长度\n",
    "def generateNext(p: str):\n",
    "    m = len(p)\n",
    "    next_list = [0 for _ in range(m)]                # 初始化数组元素全部为 0\n",
    "    \n",
    "    left = 0                                    # left 表示前缀串开始所在的下标位置\n",
    "    for right in range(1, m):                   # right 表示后缀串开始所在的下标位置\n",
    "        while left > 0 and p[left] != p[right]: # 匹配不成功, left 进行回退, left == 0 时停止回退\n",
    "            left = next_list[left - 1]               # left 进行回退操作\n",
    "        if p[left] == p[right]:                 # 匹配成功，找到相同的前后缀，先让 left += 1，此时 left 为前缀长度\n",
    "            left += 1\n",
    "        next_list[right] = left                      # 记录前缀长度，更新 next[right], 结束本次循环, right += 1\n",
    "\n",
    "    return next_list\n"
   ]
  },
  {
   "cell_type": "code",
   "execution_count": 17,
   "metadata": {},
   "outputs": [
    {
     "data": {
      "text/plain": [
       "[0, 0, 0, 1, 2, 3, 0]"
      ]
     },
     "execution_count": 17,
     "metadata": {},
     "output_type": "execute_result"
    }
   ],
   "source": [
    "p = \"ABCABCD\"\n",
    "generateNext(p)"
   ]
  },
  {
   "cell_type": "code",
   "execution_count": 37,
   "metadata": {},
   "outputs": [
    {
     "name": "stdout",
     "output_type": "stream",
     "text": [
      "-1\n",
      "2\n",
      "-1\n",
      "1\n",
      "3\n"
     ]
    }
   ],
   "source": [
    "# KMP 匹配算法，T 为文本串，p 为模式串\n",
    "def kmp(T: str, p: str) -> int:\n",
    "    n, m = len(T), len(p)\n",
    "    \n",
    "    next = generateNext(p)                      # 生成 next 数组\n",
    "    \n",
    "    j = 0                                       # j 为模式串中当前匹配的位置\n",
    "    for i in range(n):                          # i 为文本串中当前匹配的位置\n",
    "        while j > 0 and T[i] != p[j]:           # 如果模式串前缀匹配不成功, 将模式串进行回退, j == 0 时停止回退\n",
    "            j = next[j - 1]\n",
    "        if T[i] == p[j]:                        # 当前模式串前缀匹配成功，令 j += 1，继续匹配\n",
    "            j += 1\n",
    "        if j == m:                              # 当前模式串完全匹配成功，返回匹配开始位置\n",
    "            return i - j + 1\n",
    "    return -1                                   # 匹配失败，返回 -1\n",
    "            \n",
    "print(kmp(\"abbcfdddbddcaddebc\", \"ABCABCD\"))\n",
    "print(kmp(\"abbcfdddbddcaddebc\", \"bcf\"))\n",
    "print(kmp(\"aaaaa\", \"bba\"))\n",
    "print(kmp(\"mississippi\", \"issi\"))\n",
    "print(kmp(\"ababbbbaaabbbaaa\", \"bbbb\"))"
   ]
  },
  {
   "cell_type": "markdown",
   "metadata": {},
   "source": [
    "[28. 实现 strStr()](https://leetcode.cn/problems/implement-strstr/)"
   ]
  },
  {
   "cell_type": "code",
   "execution_count": 39,
   "metadata": {},
   "outputs": [],
   "source": [
    "class Solution:\n",
    "    def strStr(self, haystack: str, needle: str) -> int:\n",
    "        if not needle:\n",
    "            return 0\n",
    "        if needle not in haystack:\n",
    "            return -1\n",
    "        return len(haystack.split(needle)[0])"
   ]
  },
  {
   "cell_type": "markdown",
   "metadata": {},
   "source": [
    "[459. 重复的子字符串](https://leetcode.cn/problems/repeated-substring-pattern/)"
   ]
  },
  {
   "cell_type": "code",
   "execution_count": 40,
   "metadata": {},
   "outputs": [],
   "source": [
    "class Solution:\n",
    "    def repeatedSubstringPattern(self, s: str) -> bool:\n",
    "        cnt = collections.Counter(s)\n",
    "        mincnt = min(cnt.values())\n",
    "        if mincnt <= 1:\n",
    "            return False\n",
    "        n = len(s)\n",
    "        for i in range(2, mincnt+1):\n",
    "            if n % i == 0:\n",
    "                piece = n // i\n",
    "                if s == i * s[:piece]:\n",
    "                    return True\n",
    "        return False"
   ]
  },
  {
   "cell_type": "markdown",
   "metadata": {},
   "source": [
    "[686. 重复叠加字符串匹配](https://leetcode.cn/problems/repeated-string-match/)"
   ]
  },
  {
   "cell_type": "code",
   "execution_count": 41,
   "metadata": {},
   "outputs": [],
   "source": [
    "class Solution:\n",
    "    def repeatedStringMatch(self, a: str, b: str) -> int:\n",
    "        if b in a:\n",
    "            return 1\n",
    "        na = len(a)\n",
    "        nb = len(b)\n",
    "        t = 0\n",
    "        while t <= max(2,2 * (nb//na+1)):\n",
    "            if b in t*a:\n",
    "                return t\n",
    "            t += 1\n",
    "        return -1"
   ]
  },
  {
   "cell_type": "markdown",
   "metadata": {},
   "source": [
    "[796. 旋转字符串](https://leetcode.cn/problems/rotate-string/submissions/)"
   ]
  },
  {
   "cell_type": "code",
   "execution_count": 42,
   "metadata": {},
   "outputs": [],
   "source": [
    "class Solution:\n",
    "    def rotateString(self, s: str, goal: str) -> bool:\n",
    "        n = len(s)\n",
    "        m = len(goal)\n",
    "        if n != m:\n",
    "            return False\n",
    "        for i in range(n):\n",
    "            if s[i:] + s[:i] == goal:\n",
    "                return True\n",
    "        return False"
   ]
  },
  {
   "cell_type": "markdown",
   "metadata": {},
   "source": [
    "[1408. 数组中的字符串匹配](https://leetcode.cn/problems/string-matching-in-an-array/)"
   ]
  },
  {
   "cell_type": "code",
   "execution_count": 44,
   "metadata": {},
   "outputs": [],
   "source": [
    "class Solution:\n",
    "    def stringMatching(self, words: List[str]) -> List[str]:\n",
    "        res = []\n",
    "        words.sort(key=lambda x: len(x))\n",
    "        for i,v in enumerate(words):\n",
    "            for word in words[i+1:]:\n",
    "                if v in word:\n",
    "                    res.append(v)\n",
    "                    break\n",
    "        return res"
   ]
  },
  {
   "cell_type": "markdown",
   "metadata": {},
   "source": [
    "[2156. 查找给定哈希值的子串](https://leetcode.cn/problems/find-substring-with-given-hash-value/)"
   ]
  },
  {
   "cell_type": "code",
   "execution_count": null,
   "metadata": {},
   "outputs": [],
   "source": [
    "# 需要反向滑动窗口"
   ]
  },
  {
   "cell_type": "markdown",
   "metadata": {},
   "source": [
    "### 字典树\n",
    "> 字典树（Trie）：又称为前缀树、单词查找树，是一种树形结构。顾名思义，就是一个像字典一样的树。它是字典的一种存储方式。字典中的每个单词在字典树中表现为一条从根节点出发的路径，路径相连的边上的字母连起来就形成对应的字符串。\n",
    "\n",
    "> 利用空间换时间，利用字符串的公共前缀来降低查询时间的开销，最大限度的减少无谓的字符串比较，以达到提高效率的目的"
   ]
  },
  {
   "cell_type": "markdown",
   "metadata": {},
   "source": [
    "- 根节点不包含字符，除根节点外，每个节点都只包含一个字符。\n",
    "- 从根节点到某一节点，路径航经过的字符串连接起来，就是该节点对应的字符串。\n",
    "- 每个节点的所有子节点包含的字符串都不相同。"
   ]
  },
  {
   "cell_type": "markdown",
   "metadata": {},
   "source": [
    "[208. 实现 Trie (前缀树)](https://leetcode.cn/problems/implement-trie-prefix-tree/)"
   ]
  },
  {
   "cell_type": "code",
   "execution_count": 45,
   "metadata": {},
   "outputs": [],
   "source": [
    "class Trie(object):\n",
    "\n",
    "    def __init__(self):\n",
    "        \"\"\"\n",
    "        Initialize your data structure here.\n",
    "        \"\"\"\n",
    "        self.root = {}\n",
    "        self.end_of_word = \"#\"\n",
    "\n",
    "\n",
    "    def insert(self, word):\n",
    "        \"\"\"\n",
    "        Inserts a word into the trie.\n",
    "        :type word: str\n",
    "        :rtype: None\n",
    "        \"\"\"\n",
    "        node = self.root\n",
    "        for char in word:\n",
    "            node = node.setdefault(char,{})\n",
    "        node[self.end_of_word] = self.end_of_word\n",
    "\n",
    "\n",
    "    def search(self, word):\n",
    "        \"\"\"\n",
    "        Returns if the word is in the trie.\n",
    "        :type word: str\n",
    "        :rtype: bool\n",
    "        \"\"\"\n",
    "        node = self.root\n",
    "        for char in word:\n",
    "            if char not in node:\n",
    "                return False\n",
    "            node = node[char]\n",
    "        return self.end_of_word in node\n",
    "\n",
    "\n",
    "    def startsWith(self, prefix):\n",
    "        \"\"\"\n",
    "        Returns if there is any word in the trie that starts with the given prefix.\n",
    "        :type prefix: str\n",
    "        :rtype: bool\n",
    "        \"\"\"\n",
    "        node = self.root\n",
    "        for char in prefix:\n",
    "            if char not in node:\n",
    "                return False\n",
    "            node = node[char]\n",
    "        return True\n",
    "\n",
    "\n",
    "\n",
    "# Your Trie object will be instantiated and called as such:\n",
    "# obj = Trie()\n",
    "# obj.insert(word)\n",
    "# param_2 = obj.search(word)\n",
    "# param_3 = obj.startsWith(prefix)"
   ]
  },
  {
   "cell_type": "markdown",
   "metadata": {},
   "source": [
    "[677. 键值映射](https://leetcode.cn/problems/implement-magic-dictionary/)"
   ]
  },
  {
   "cell_type": "code",
   "execution_count": null,
   "metadata": {},
   "outputs": [],
   "source": []
  },
  {
   "cell_type": "markdown",
   "metadata": {},
   "source": [
    "[1023. 驼峰式匹配](https://leetcode.cn/problems/camelcase-matching/)"
   ]
  },
  {
   "cell_type": "code",
   "execution_count": null,
   "metadata": {},
   "outputs": [],
   "source": []
  },
  {
   "cell_type": "markdown",
   "metadata": {},
   "source": [
    "[211. 添加与搜索单词 - 数据结构设计](https://leetcode.cn/problems/design-add-and-search-words-data-structure/)"
   ]
  },
  {
   "cell_type": "code",
   "execution_count": null,
   "metadata": {},
   "outputs": [],
   "source": []
  },
  {
   "cell_type": "markdown",
   "metadata": {},
   "source": [
    "[648. 单词替换](https://leetcode.cn/problems/replace-words/)"
   ]
  },
  {
   "cell_type": "code",
   "execution_count": null,
   "metadata": {},
   "outputs": [],
   "source": []
  },
  {
   "cell_type": "markdown",
   "metadata": {},
   "source": [
    "[676. 实现一个魔法字典](https://leetcode.cn/problems/implement-magic-dictionary/)"
   ]
  },
  {
   "cell_type": "code",
   "execution_count": null,
   "metadata": {},
   "outputs": [],
   "source": []
  }
 ],
 "metadata": {
  "kernelspec": {
   "display_name": "Python 3",
   "language": "python",
   "name": "python3"
  },
  "language_info": {
   "codemirror_mode": {
    "name": "ipython",
    "version": 3
   },
   "file_extension": ".py",
   "mimetype": "text/x-python",
   "name": "python",
   "nbconvert_exporter": "python",
   "pygments_lexer": "ipython3",
   "version": "3.7.7"
  }
 },
 "nbformat": 4,
 "nbformat_minor": 4
}
