{
 "cells": [
  {
   "cell_type": "markdown",
   "metadata": {},
   "source": [
    "# Task 03 数组排序（4 天）"
   ]
  },
  {
   "cell_type": "markdown",
   "metadata": {},
   "source": [
    "## 第 04 天学习内容：\n",
    "\n",
    "### 冒泡排序\n",
    "第 i (i = 1，2，… ) 趟排序时从序列中前 n - i + 1 个元素的第 1 个元素开始，相邻两个元素进行比较，若前者大于后者，两者交换位置，否则不交换。"
   ]
  },
  {
   "cell_type": "code",
   "execution_count": 23,
   "metadata": {},
   "outputs": [],
   "source": [
    "def bubbleSort(array):\n",
    "    n = len(array)\n",
    "    for i in range(n):\n",
    "        for j in range(n-i-1):\n",
    "            if array[j] > array[j+1]:\n",
    "                array[j],array[j+1] = array[j+1],array[j]\n",
    "    return array"
   ]
  },
  {
   "cell_type": "code",
   "execution_count": 24,
   "metadata": {},
   "outputs": [
    {
     "data": {
      "text/plain": [
       "[1, 2, 3, 4, 5, 6, 7, 8, 9]"
      ]
     },
     "execution_count": 24,
     "metadata": {},
     "output_type": "execute_result"
    }
   ],
   "source": [
    "bubbleSort([1,8,9,7,4,5,3,2,6])"
   ]
  },
  {
   "cell_type": "markdown",
   "metadata": {},
   "source": [
    "### 选择排序\n",
    "第 i 趟排序从序列的后 n − i + 1 (i = 1, 2, …, n − 1) 个元素中选择一个值最小的元素与该 n - i + 1 个元素的最前面那个元素交换位置，即与整个序列的第 i 个位置上的元素交换位置。如此下去，直到 i == n − 1，排序结束。"
   ]
  },
  {
   "cell_type": "code",
   "execution_count": 21,
   "metadata": {},
   "outputs": [],
   "source": [
    "def selectionSort(array):\n",
    "    n = len(array)\n",
    "    for i in range(n-1):\n",
    "        min_i = i\n",
    "        for j in range(i+1,n):\n",
    "            if array[j]< array[min_i]:\n",
    "                min_i = j\n",
    "        if min_i != i:\n",
    "            array[i],array[min_i] = array[min_i], array[i]\n",
    "    return array"
   ]
  },
  {
   "cell_type": "code",
   "execution_count": 22,
   "metadata": {},
   "outputs": [
    {
     "data": {
      "text/plain": [
       "[1, 2, 3, 4, 5, 6, 7, 8, 9]"
      ]
     },
     "execution_count": 22,
     "metadata": {},
     "output_type": "execute_result"
    }
   ],
   "source": [
    "selectionSort([1,8,9,7,4,5,3,2,6])"
   ]
  },
  {
   "cell_type": "markdown",
   "metadata": {},
   "source": [
    "### 插入排序\n",
    "将整个序列切分为两部分：前 i - 1 个元素是有序序列，后 n - i + 1 个元素是无序序列。每一次排序，将无序序列的首元素，在有序序列中找到相应的位置并插入。"
   ]
  },
  {
   "cell_type": "code",
   "execution_count": 38,
   "metadata": {},
   "outputs": [],
   "source": [
    "def insertionSort(array):\n",
    "    n = len(array)\n",
    "    for i in range(1,n):\n",
    "        tmp = array[i]\n",
    "        j = i\n",
    "        while j>0 and array[j-1] > tmp:\n",
    "            array[j] = array[j-1]\n",
    "            j -= 1\n",
    "        array[j] =tmp\n",
    "    return array"
   ]
  },
  {
   "cell_type": "code",
   "execution_count": 39,
   "metadata": {},
   "outputs": [
    {
     "data": {
      "text/plain": [
       "[1, 2, 3, 4, 5, 6, 7, 8, 9]"
      ]
     },
     "execution_count": 39,
     "metadata": {},
     "output_type": "execute_result"
    }
   ],
   "source": [
    "insertionSort([1,8,9,7,4,5,3,2,6])"
   ]
  },
  {
   "cell_type": "markdown",
   "metadata": {},
   "source": [
    "## 第 04 天课程题目：\n",
    "\n",
    "### [剑指 Offer 45. 把数组排成最小的数](https://leetcode-cn.com/problems/ba-shu-zu-pai-cheng-zui-xiao-de-shu-lcof/)"
   ]
  },
  {
   "cell_type": "markdown",
   "metadata": {},
   "source": [
    "if a+b < b+a （字符串拼接）\n",
    "a要放在b的前面\n",
    "比如   a=30， b=3\n",
    "303< 330\n",
    "所以a要放在b的前面"
   ]
  },
  {
   "cell_type": "code",
   "execution_count": 42,
   "metadata": {},
   "outputs": [],
   "source": [
    "def minNumber(nums):\n",
    "    \"\"\"\n",
    "    :type nums: List[int]\n",
    "    :rtype: str\n",
    "    \"\"\"\n",
    "    # bubbleSort\n",
    "    n = len(nums)\n",
    "    for i in range(n):\n",
    "        for j in range(n-i-1):\n",
    "            if str(nums[j]) + str(nums[j+1])> \\\n",
    "            str(nums[j+1]) + str(nums[j]):\n",
    "                nums[j],nums[j+1] = nums[j+1], nums[j]\n",
    "    res = \"\".join([str(i) for i in nums])\n",
    "    return res  "
   ]
  },
  {
   "cell_type": "code",
   "execution_count": 43,
   "metadata": {},
   "outputs": [
    {
     "data": {
      "text/plain": [
       "'3033459'"
      ]
     },
     "execution_count": 43,
     "metadata": {},
     "output_type": "execute_result"
    }
   ],
   "source": [
    "minNumber([3,30,34,5,9])"
   ]
  },
  {
   "cell_type": "markdown",
   "metadata": {},
   "source": [
    "### [0283. 移动零](https://leetcode-cn.com/problems/move-zeroes/)"
   ]
  },
  {
   "cell_type": "markdown",
   "metadata": {},
   "source": [
    "给定一个数组 nums，编写一个函数将所有 0 移动到数组的末尾，同时保持非零元素的相对顺序。"
   ]
  },
  {
   "cell_type": "code",
   "execution_count": 51,
   "metadata": {},
   "outputs": [],
   "source": [
    "#方法一：冒泡排序\n",
    "#bubbleSort\n",
    "def moveZeroes(nums):\n",
    "    \"\"\"\n",
    "    :type nums: List[int]\n",
    "    :rtype: None Do not return anything, modify nums in-place instead.\n",
    "    \"\"\"\n",
    "    n = len(nums)\n",
    "    for i in range(n):\n",
    "        for j in range(n-i-1):\n",
    "            if nums[j] == 0:\n",
    "                nums[j+1],nums[j] = nums[j],nums[j+1]\n",
    "    return nums "
   ]
  },
  {
   "cell_type": "code",
   "execution_count": 50,
   "metadata": {},
   "outputs": [
    {
     "data": {
      "text/plain": [
       "[1, 3, 12, 0, 0]"
      ]
     },
     "execution_count": 50,
     "metadata": {},
     "output_type": "execute_result"
    }
   ],
   "source": [
    "moveZeroes([0,1,0,3,12])"
   ]
  },
  {
   "cell_type": "markdown",
   "metadata": {},
   "source": [
    "使用冒泡排序会超时，通过案例72/74\n",
    "使用另一种方法，把所有非0的数字按顺序移动到前面，则剩下的就是0"
   ]
  },
  {
   "cell_type": "code",
   "execution_count": 52,
   "metadata": {},
   "outputs": [],
   "source": [
    "# 方法二：移动非0数字\n",
    "def moveZeroes(nums):\n",
    "    \"\"\"\n",
    "    :type nums: List[int]\n",
    "    :rtype: None Do not return anything, modify nums in-place instead.\n",
    "    \"\"\"\n",
    "    j = 0\n",
    "    n = len(nums)\n",
    "    for i in range(n):\n",
    "        if nums[i] != 0:\n",
    "            nums[i], nums[j] = nums[j], nums[i]\n",
    "            j += 1\n",
    "    return nums     "
   ]
  },
  {
   "cell_type": "markdown",
   "metadata": {},
   "source": [
    "### [0912. 排序数组](https://leetcode-cn.com/problems/sort-an-array/)"
   ]
  },
  {
   "cell_type": "markdown",
   "metadata": {},
   "source": [
    "整数数组升序排列\n",
    "可以考虑利用之前学习的排序"
   ]
  },
  {
   "cell_type": "code",
   "execution_count": 53,
   "metadata": {},
   "outputs": [],
   "source": [
    "def sortArray(nums):\n",
    "    \"\"\"\n",
    "    :type nums: List[int]\n",
    "    :rtype: List[int]\n",
    "    \"\"\"\n",
    "    #bubble sort\n",
    "    n = len(nums)\n",
    "    for i in range(n):\n",
    "        for j in range(n-i-1):\n",
    "            if nums[j] > nums[j+1]:\n",
    "                nums[j+1],nums[j] = nums[j],nums[j+1]\n",
    "    return nums"
   ]
  },
  {
   "cell_type": "code",
   "execution_count": 54,
   "metadata": {},
   "outputs": [
    {
     "data": {
      "text/plain": [
       "[1, 2, 3, 5]"
      ]
     },
     "execution_count": 54,
     "metadata": {},
     "output_type": "execute_result"
    }
   ],
   "source": [
    "sortArray([5,2,3,1])"
   ]
  },
  {
   "cell_type": "markdown",
   "metadata": {},
   "source": [
    "冒泡排序超时,10/13，考虑其他两种算法"
   ]
  },
  {
   "cell_type": "code",
   "execution_count": 57,
   "metadata": {},
   "outputs": [],
   "source": [
    "def sortArray(nums):\n",
    "    \"\"\"\n",
    "    :type nums: List[int]\n",
    "    :rtype: List[int]\n",
    "    \"\"\"\n",
    "    #selection sort \n",
    "    n = len(nums)\n",
    "    for i in range(n-1):\n",
    "        min_i = i\n",
    "        for j in range(i+1,n):\n",
    "            if nums[j]< nums[min_i]:\n",
    "                min_i = j\n",
    "        if min_i != i:\n",
    "            nums[i],nums[min_i] = nums[min_i], nums[i]\n",
    "    return nums"
   ]
  },
  {
   "cell_type": "code",
   "execution_count": 58,
   "metadata": {},
   "outputs": [
    {
     "data": {
      "text/plain": [
       "[1, 2, 3, 5]"
      ]
     },
     "execution_count": 58,
     "metadata": {},
     "output_type": "execute_result"
    }
   ],
   "source": [
    "sortArray([5,2,3,1])"
   ]
  },
  {
   "cell_type": "markdown",
   "metadata": {},
   "source": [
    "选择排序也超时，10/13"
   ]
  },
  {
   "cell_type": "code",
   "execution_count": 59,
   "metadata": {},
   "outputs": [],
   "source": [
    "def sortArray(nums):\n",
    "    \"\"\"\n",
    "    :type nums: List[int]\n",
    "    :rtype: List[int]\n",
    "    \"\"\"\n",
    "    # insertion Sort\n",
    "    n = len(nums)\n",
    "    for i in range(1,n):\n",
    "        tmp = nums[i]\n",
    "        j = i\n",
    "        while j>0 and nums[j-1] > tmp:\n",
    "            nums[j] = nums[j-1]\n",
    "            j -= 1\n",
    "        nums[j] =tmp\n",
    "    return nums"
   ]
  },
  {
   "cell_type": "code",
   "execution_count": 60,
   "metadata": {},
   "outputs": [
    {
     "data": {
      "text/plain": [
       "[1, 2, 3, 5]"
      ]
     },
     "execution_count": 60,
     "metadata": {},
     "output_type": "execute_result"
    }
   ],
   "source": [
    "sortArray([5,2,3,1])"
   ]
  },
  {
   "cell_type": "markdown",
   "metadata": {},
   "source": [
    "插入排序还是超时，案例通过数10/13。因为以上三种算法都是的O(n^2)复杂度\n",
    "使用希尔排序"
   ]
  },
  {
   "cell_type": "code",
   "execution_count": null,
   "metadata": {},
   "outputs": [],
   "source": [
    "def sortArray(nums):\n",
    "    \"\"\"\n",
    "    :type nums: List[int]\n",
    "    :rtype: List[int]\n",
    "    \"\"\"\n",
    "    # shell Sort   \n",
    "    n = len(nums)\n",
    "    gap = int(n/2)  \n",
    "    while gap > 0:   \n",
    "        for i in range(gap,n):   \n",
    "            temp = nums[i] \n",
    "            j = i \n",
    "            while  j >= gap and nums[j-gap] >temp: \n",
    "                nums[j] = nums[j-gap] \n",
    "                j -= gap \n",
    "            nums[j] = temp \n",
    "        gap = int(gap/2)\n",
    "    return nums"
   ]
  },
  {
   "cell_type": "code",
   "execution_count": null,
   "metadata": {},
   "outputs": [],
   "source": []
  },
  {
   "cell_type": "markdown",
   "metadata": {},
   "source": [
    "## 第 05 天学习内容：\n",
    "\n",
    "### 归并排序"
   ]
  },
  {
   "cell_type": "markdown",
   "metadata": {},
   "source": [
    "采用经典的分治策略，先递归地将当前序列平均分成两半。然后将有序序列两两合并，最终合并成一个有序序列。"
   ]
  },
  {
   "cell_type": "code",
   "execution_count": 123,
   "metadata": {},
   "outputs": [],
   "source": [
    "def merge(left_arr, right_arr):\n",
    "    n = len(left_arr)\n",
    "    m = len(right_arr)\n",
    "    res = []\n",
    "    i = 0\n",
    "    j = 0\n",
    "    while i<n and j<m:\n",
    "        while left_arr[i] <= right_arr[j]:\n",
    "            res.append(left_arr[i])\n",
    "            i += 1\n",
    "            if i >=n:\n",
    "                break       \n",
    "        res.append(right_arr[j])\n",
    "        j += 1           \n",
    "    if j < m:\n",
    "        res.extend(right_arr[j:])\n",
    "    if i < n:\n",
    "        res.extend(left_arr[i:])\n",
    "\n",
    "    return res   "
   ]
  },
  {
   "cell_type": "code",
   "execution_count": 126,
   "metadata": {},
   "outputs": [
    {
     "data": {
      "text/plain": [
       "[1, 2, 3, 3, 4, 5, 6, 7, 8, 9, 10, 11, 12, 13, 14]"
      ]
     },
     "execution_count": 126,
     "metadata": {},
     "output_type": "execute_result"
    }
   ],
   "source": [
    "merge([1,3,4,7,8,11,12],[2,3,5,6,9,10,13,14])"
   ]
  },
  {
   "cell_type": "code",
   "execution_count": 136,
   "metadata": {},
   "outputs": [],
   "source": [
    "# 使用list的pop功能优化merge函数\n",
    "def merge(left_arr, right_arr):\n",
    "    res = []\n",
    "    while left_arr and right_arr:\n",
    "        if left_arr[0] <= right_arr[0]:\n",
    "            res.append(left_arr.pop(0))\n",
    "        else:\n",
    "            res.append(right_arr.pop(0))\n",
    "    if right_arr:\n",
    "        res.extend(right_arr)\n",
    "    if left_arr:\n",
    "        res.extend(left_arr)\n",
    "    return res"
   ]
  },
  {
   "cell_type": "code",
   "execution_count": 137,
   "metadata": {},
   "outputs": [
    {
     "data": {
      "text/plain": [
       "[1, 2, 3, 3, 4, 5, 6, 7, 8, 9, 10, 11, 12, 13, 14]"
      ]
     },
     "execution_count": 137,
     "metadata": {},
     "output_type": "execute_result"
    }
   ],
   "source": [
    "merge([1,3,4,7,8,11,12],[2,3,5,6,9,10,13,14])"
   ]
  },
  {
   "cell_type": "code",
   "execution_count": 144,
   "metadata": {},
   "outputs": [],
   "source": [
    "def mergeSort(arr):\n",
    "    n = len(arr)\n",
    "    if n < 2:\n",
    "        return arr\n",
    "    left_arr = arr[:n//2]\n",
    "    right_arr = arr[n//2:]\n",
    "    return merge(mergeSort(left_arr),mergeSort(right_arr))   "
   ]
  },
  {
   "cell_type": "code",
   "execution_count": 145,
   "metadata": {},
   "outputs": [
    {
     "data": {
      "text/plain": [
       "[1, 2, 3, 3, 3, 4, 7, 8, 9]"
      ]
     },
     "execution_count": 145,
     "metadata": {},
     "output_type": "execute_result"
    }
   ],
   "source": [
    "mergeSort([1,4,3,7,2,3,3,9,8])"
   ]
  },
  {
   "cell_type": "markdown",
   "metadata": {},
   "source": [
    "### 希尔排序"
   ]
  },
  {
   "cell_type": "markdown",
   "metadata": {},
   "source": [
    "- 是插入排序的进化版\n",
    "\n",
    "将整个序列切按照一定的间隔取值划分为若干个子序列，每个子序列分别进行插入排序。然后逐渐缩小间隔进行下一轮划分子序列和插入排序。直至最后一轮排序间隔为 1，对整个序列进行插入排序。"
   ]
  },
  {
   "cell_type": "code",
   "execution_count": 153,
   "metadata": {},
   "outputs": [],
   "source": [
    "def shellSort(arr):\n",
    "    size = len(arr)\n",
    "    gap = size // 2\n",
    "    \n",
    "    while gap > 0:\n",
    "        for i in range(gap, size):\n",
    "            temp = arr[i]\n",
    "            j = i\n",
    "            while j >= gap and arr[j - gap] > temp:\n",
    "                arr[j] = arr[j - gap]\n",
    "                j -= gap\n",
    "            arr[j] = temp\n",
    "        gap = gap // 2\n",
    "    return arr"
   ]
  },
  {
   "cell_type": "markdown",
   "metadata": {},
   "source": [
    "## 第 05 天课程题目：\n",
    "\n",
    "### [0506. 相对名次](https://leetcode-cn.com/problems/relative-ranks/)"
   ]
  },
  {
   "cell_type": "code",
   "execution_count": null,
   "metadata": {},
   "outputs": [],
   "source": []
  },
  {
   "cell_type": "code",
   "execution_count": null,
   "metadata": {},
   "outputs": [],
   "source": []
  },
  {
   "cell_type": "markdown",
   "metadata": {
    "tags": []
   },
   "source": [
    "### [面试题 10.01. 合并排序的数组](https://leetcode-cn.com/problems/sorted-merge-lcci/)"
   ]
  },
  {
   "cell_type": "code",
   "execution_count": null,
   "metadata": {},
   "outputs": [],
   "source": []
  },
  {
   "cell_type": "code",
   "execution_count": null,
   "metadata": {},
   "outputs": [],
   "source": []
  },
  {
   "cell_type": "markdown",
   "metadata": {},
   "source": [
    "### [剑指 Offer 51. 数组中的逆序对](https://leetcode-cn.com/problems/shu-zu-zhong-de-ni-xu-dui-lcof/)"
   ]
  },
  {
   "cell_type": "code",
   "execution_count": null,
   "metadata": {},
   "outputs": [],
   "source": []
  },
  {
   "cell_type": "code",
   "execution_count": null,
   "metadata": {},
   "outputs": [],
   "source": []
  },
  {
   "cell_type": "markdown",
   "metadata": {},
   "source": [
    "## 第 06 天学习内容：\n",
    "\n",
    "### 快速排序"
   ]
  },
  {
   "cell_type": "markdown",
   "metadata": {},
   "source": [
    "通过一趟排序将无序序列分为独立的两个序列，第一个序列的值均比第二个序列的值小。然后递归地排列两个子序列，以达到整个序列有序。"
   ]
  },
  {
   "cell_type": "code",
   "execution_count": 165,
   "metadata": {},
   "outputs": [],
   "source": [
    "import random\n",
    "\n",
    "def randomPartition(arr: [int], low: int, high: int):\n",
    "\t\ti = random.randint(low, high)\n",
    "\t\tarr[i], arr[high] = arr[high], arr[i]\n",
    "\t\treturn partition(arr, low, high)\n",
    "\n",
    "def partition(arr: [int], low: int, high: int):\n",
    "\tx = arr[high]\n",
    "\ti = low - 1\n",
    "\tfor j in range(low, high):\n",
    "\t\tif arr[j] <= arr[high]:\n",
    "\t\t\ti += 1\n",
    "\t\t\tarr[i], arr[j] = arr[j], arr[i]\n",
    "\tarr[i + 1], arr[high] = arr[high], arr[i + 1]\n",
    "\treturn i + 1\n",
    "\n",
    "def quickSort(arr, low, high):\n",
    "\tif low < high:\n",
    "\t\tpi = randomPartition(arr, low, high)\n",
    "\t\tquickSort(arr, low, pi - 1)\n",
    "\t\tquickSort(arr, pi + 1, high)\n",
    "\n",
    "\treturn arr"
   ]
  },
  {
   "cell_type": "markdown",
   "metadata": {},
   "source": [
    "### 堆排序"
   ]
  },
  {
   "cell_type": "markdown",
   "metadata": {},
   "source": [
    "借用「堆结构」所设计的排序算法。将数组转化为大顶堆，重复从大顶堆中取出数值最大的节点，并让剩余的堆维持大顶堆性质。"
   ]
  },
  {
   "cell_type": "code",
   "execution_count": 166,
   "metadata": {},
   "outputs": [],
   "source": [
    "# 调整为大顶堆\n",
    "def heapify(arr: [int], index: int, end: int):\n",
    "\tleft = index * 2 + 1\n",
    "\tright = left + 1\n",
    "\twhile left <= end:\n",
    "\t\t# 当前节点为非叶子结点\n",
    "\t\tmax_index = index\n",
    "\t\tif arr[left] > arr[max_index]:\n",
    "\t\t\tmax_index = left\n",
    "\t\tif right <= end and arr[right] > arr[max_index]:\n",
    "\t\t\tmax_index = right\n",
    "\t\tif index == max_index:\n",
    "\t\t\t# 如果不用交换，则说明已经交换结束\n",
    "\t\t\tbreak\n",
    "\t\tarr[index], arr[max_index] = arr[max_index], arr[index]\n",
    "\t\t# 继续调整子树\n",
    "\t\tindex = max_index\n",
    "\t\tleft = index * 2 + 1\n",
    "\t\tright = left + 1\n",
    "\n",
    "# 初始化大顶堆\n",
    "def buildMaxHeap(arr: [int]):\n",
    "\tsize = len(arr)\n",
    "\t# (size-2) // 2 是最后一个非叶节点，叶节点不用调整\n",
    "\tfor i in range((size - 2) // 2, -1, -1):\n",
    "\t\theapify(arr, i, size - 1)\n",
    "\treturn arr\n",
    "\n",
    "# 升序堆排序，思路如下：\n",
    "# 1. 先建立大顶堆\n",
    "# 2. 让堆顶最大元素与最后一个交换，然后调整第一个元素到倒数第二个元素，这一步获取最大值\n",
    "# 3. 再交换堆顶元素与倒数第二个元素，然后调整第一个元素到倒数第三个元素，这一步获取第二大值\n",
    "# 4. 以此类推，直到最后一个元素交换之后完毕。\n",
    "def maxHeapSort(arr: [int]):\n",
    "\tbuildMaxHeap(arr)\n",
    "\tsize = len(arr)\n",
    "\tfor i in range(size):\n",
    "\t\tarr[0], arr[size-i-1] = arr[size-i-1], arr[0]\n",
    "\t\theapify(arr, 0, size-i-2)\n",
    "\treturn arr"
   ]
  },
  {
   "cell_type": "code",
   "execution_count": null,
   "metadata": {},
   "outputs": [],
   "source": []
  },
  {
   "cell_type": "markdown",
   "metadata": {},
   "source": [
    "## 第 06 天课程题目：\n",
    "\n",
    "### [0075. 颜色分类](https://leetcode-cn.com/problems/sort-colors/)"
   ]
  },
  {
   "cell_type": "code",
   "execution_count": null,
   "metadata": {},
   "outputs": [],
   "source": []
  },
  {
   "cell_type": "markdown",
   "metadata": {},
   "source": [
    "### [0215. 数组中的第K个最大元素](https://leetcode-cn.com/problems/kth-largest-element-in-an-array/)"
   ]
  },
  {
   "cell_type": "code",
   "execution_count": null,
   "metadata": {},
   "outputs": [],
   "source": []
  },
  {
   "cell_type": "markdown",
   "metadata": {},
   "source": [
    "### [剑指 Offer 40. 最小的k个数](https://leetcode-cn.com/problems/zui-xiao-de-kge-shu-lcof/)"
   ]
  },
  {
   "cell_type": "code",
   "execution_count": null,
   "metadata": {},
   "outputs": [],
   "source": []
  },
  {
   "cell_type": "code",
   "execution_count": null,
   "metadata": {},
   "outputs": [],
   "source": []
  },
  {
   "cell_type": "markdown",
   "metadata": {
    "tags": []
   },
   "source": [
    "## 第 07 天学习内容：\n",
    "\n",
    "### 计数排序"
   ]
  },
  {
   "cell_type": "markdown",
   "metadata": {},
   "source": [
    "使用一个额外的数组 counts，其中第 i 个元素 counts[i] 是待排序数组 arr 中值等于 i 的元素个数。然后根据数组 counts 来将 arr 中的元素排到正确的位置。"
   ]
  },
  {
   "cell_type": "code",
   "execution_count": 167,
   "metadata": {},
   "outputs": [],
   "source": [
    "def countingSort(arr):\n",
    "    arr_min, arr_max = min(arr), max(arr)\n",
    "    size = arr_max - arr_min + 1\n",
    "    counts = [0 for _ in range(size)]\n",
    "    \n",
    "    for num in arr:\n",
    "        counts[num - arr_min] += 1\n",
    "    for j in range(1, size):\n",
    "        counts[j] += counts[j - 1]\n",
    "    \n",
    "    res = [0 for _ in range(len(arr))]\n",
    "    for i in range(len(arr) - 1, -1, -1):\n",
    "        res[counts[arr[i] - arr_min] - 1] = arr[i]\n",
    "        counts[arr[i] - arr_min] -= 1\n",
    "    \n",
    "    return res"
   ]
  },
  {
   "cell_type": "markdown",
   "metadata": {},
   "source": [
    "### 桶排序"
   ]
  },
  {
   "cell_type": "markdown",
   "metadata": {},
   "source": [
    "将未排序的数组分到若干个「桶」中，每个桶的元素再进行单独排序。(桶内排序时使用插入算法)"
   ]
  },
  {
   "cell_type": "code",
   "execution_count": 168,
   "metadata": {},
   "outputs": [],
   "source": [
    "def insertionSort(arr):\n",
    "    for i in range(1, len(arr)):\n",
    "        temp = arr[i]\n",
    "        j = i\n",
    "        while j > 0 and arr[j - 1] > temp:\n",
    "            arr[j] = arr[j - 1]\n",
    "            j -= 1\n",
    "        arr[j] = temp\n",
    "        \n",
    "    return arr\n",
    "    \n",
    "    \n",
    "def bucketSort(arr, bucket_size = 5):\n",
    "    arr_min, arr_max = min(arr), max(arr)\n",
    "    bucket_count = (arr_max - arr_min) // bucket_size + 1\n",
    "    buckets = [[] for _ in range(bucket_count)]\n",
    "    \n",
    "    for num in arr:\n",
    "        buckets[(num - arr_min) // bucket_size].append(num)\n",
    "        \n",
    "    res = []\n",
    "    for bucket in buckets:\n",
    "        insertionSort(bucket)\n",
    "        res.extend(bucket)\n",
    "    \n",
    "    return res  "
   ]
  },
  {
   "cell_type": "markdown",
   "metadata": {},
   "source": [
    "### 基数排序"
   ]
  },
  {
   "cell_type": "markdown",
   "metadata": {},
   "source": [
    "将整数按位数切割成不同的数字，然后按每个位数分别比较进行排序。"
   ]
  },
  {
   "cell_type": "code",
   "execution_count": 169,
   "metadata": {},
   "outputs": [],
   "source": [
    "def radixSort(arr):\n",
    "    size = len(str(max(arr)))\n",
    "    \n",
    "    for i in range(size):\n",
    "        buckets = [[] for _ in range(10)]\n",
    "        for num in arr:\n",
    "            buckets[num // (10**i) % 10].append(num)\n",
    "        arr.clear()\n",
    "        for bucket in buckets:\n",
    "            for num in bucket:\n",
    "                arr.append(num)\n",
    "            \n",
    "    return arr"
   ]
  },
  {
   "cell_type": "markdown",
   "metadata": {},
   "source": [
    "## 第 07 天课程题目：\n",
    "\n",
    "### [1122. 数组的相对排序](https://leetcode-cn.com/problems/relative-sort-array/)"
   ]
  },
  {
   "cell_type": "code",
   "execution_count": null,
   "metadata": {},
   "outputs": [],
   "source": []
  },
  {
   "cell_type": "markdown",
   "metadata": {},
   "source": [
    "### [0908. 最小差值 I](https://leetcode-cn.com/problems/smallest-range-i/)"
   ]
  },
  {
   "cell_type": "code",
   "execution_count": null,
   "metadata": {},
   "outputs": [],
   "source": []
  },
  {
   "cell_type": "markdown",
   "metadata": {},
   "source": [
    "### [0164. 最大间距](https://leetcode-cn.com/problems/maximum-gap/)"
   ]
  },
  {
   "cell_type": "code",
   "execution_count": null,
   "metadata": {},
   "outputs": [],
   "source": []
  }
 ],
 "metadata": {
  "kernelspec": {
   "display_name": "Python 3",
   "language": "python",
   "name": "python3"
  },
  "language_info": {
   "codemirror_mode": {
    "name": "ipython",
    "version": 3
   },
   "file_extension": ".py",
   "mimetype": "text/x-python",
   "name": "python",
   "nbconvert_exporter": "python",
   "pygments_lexer": "ipython3",
   "version": "3.7.7"
  }
 },
 "nbformat": 4,
 "nbformat_minor": 4
}
