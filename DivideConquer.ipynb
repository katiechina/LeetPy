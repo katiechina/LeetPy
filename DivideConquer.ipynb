{
 "cells": [
  {
   "cell_type": "markdown",
   "metadata": {},
   "source": [
    "# [Divide and Conquer, Sorting and Searching, and Randomized Algorithms](https://www.coursera.org/learn/algorithms-divide-conquer/home/welcome)"
   ]
  },
  {
   "cell_type": "markdown",
   "metadata": {},
   "source": [
    "### Problem\n",
    "- We're given as input an array A with a length N. \n",
    "  A contains the numbers one through n. The integers in A is in some order. \n",
    "\n",
    "- And the goal is to compute the number of inversions of this array.\n",
    "\n",
    "- Definition of inversion: earlier array entry I is bigger than the latter one J\n",
    "\n",
    "- If the array contains these numbers in sorted order, for example,if the array is simply one two three four all the way up to n then the number of inversions is zero. "
   ]
  },
  {
   "cell_type": "markdown",
   "metadata": {},
   "source": [
    "What is the largest-possible number of inversions that a 6-element array can have?\n",
    "- 5+4+3+2+1 = 15\n",
    "- n(n-1)/2"
   ]
  },
  {
   "cell_type": "markdown",
   "metadata": {},
   "source": [
    "### Analyze\n",
    "- Brute-force: O(n2)\n",
    "- key idea #1: Divide and Conquer\n",
    "- call a inversion with (i,j) with (with i<j)\n",
    "  - left if i,j <= n/2\n",
    "  - right if i,j > n/2\n",
    "  - split if i <= n/2 < j"
   ]
  },
  {
   "cell_type": "markdown",
   "metadata": {
    "tags": []
   },
   "source": [
    "### Pseudo code"
   ]
  },
  {
   "cell_type": "code",
   "execution_count": 1,
   "metadata": {},
   "outputs": [],
   "source": [
    "# Count(array a, length n):\n",
    "#     if n=1: return 0\n",
    "#     else \n",
    "#         x = Count(first half of a, n/2)\n",
    "#         y = Count(second half of a, n/2)\n",
    "#         z = Count_split_inv(a, n)\n",
    "#     return x+y+z"
   ]
  },
  {
   "cell_type": "markdown",
   "metadata": {
    "tags": []
   },
   "source": [
    "### Piggybacking on Merge Sort\n",
    "- Key Idea #2 : have recursive calls both count inversions and sort.\n",
    "- Motivation : merge subrotine naturally conquers split inversions (as we will see)"
   ]
  },
  {
   "cell_type": "markdown",
   "metadata": {},
   "source": [
    "### Pseudo code II"
   ]
  },
  {
   "cell_type": "code",
   "execution_count": 4,
   "metadata": {},
   "outputs": [],
   "source": [
    "# Sort_and_Count(array A, length n):\n",
    "#     if n=1: return 0\n",
    "#     else \n",
    "#         (sorted version of 1st half,x) = Sort_Count(first half of A, n/2)\n",
    "#         (sorted version of 2nd half,y) = Sort_Count(second half of A, n/2)\n",
    "#         (sorted version of B and C,z)= Count_split_inv(A, n)\n",
    "#     return x+y+z"
   ]
  },
  {
   "cell_type": "markdown",
   "metadata": {},
   "source": [
    "### Psedo code for Merge"
   ]
  },
  {
   "cell_type": "code",
   "execution_count": 3,
   "metadata": {},
   "outputs": [],
   "source": [
    "# D = output [length = n]\n",
    "# B = 1st sorted array [n/2]\n",
    "# C = 2nd sorted array [n/2]\n",
    "# i = 1\n",
    "# j = 1\n",
    "\n",
    "# for k = 1 to n:\n",
    "#     if B(i) < C(j):\n",
    "#         D(k) = B(i)\n",
    "#         i++\n",
    "#     else[C(j) > B(i)]:\n",
    "#         D(k) = C(j)\n",
    "#         j++\n",
    "# end"
   ]
  },
  {
   "cell_type": "markdown",
   "metadata": {},
   "source": [
    "### Analyze\n",
    "- Suppose the input array A has no split inversions.  What is the relationship between the sorted subarrays B and C?\n",
    "  - All elements of B are less than all elements of C."
   ]
  },
  {
   "cell_type": "markdown",
   "metadata": {},
   "source": [
    "### Example\n",
    "- A : 135246\n",
    "- B : 135\n",
    "- C : 246\n",
    "- D : 1 2(2 leftover) 3 4(1 leftover) 5 6(0 leftover)"
   ]
  },
  {
   "cell_type": "markdown",
   "metadata": {},
   "source": [
    "### Gernal Claim\n",
    "- The split inversions involving an element of y in the 2nd array C are percisely the number left in the 1st array B when y is copied to the output D\n",
    "\n",
    "- Proof: let x be an element of 1st array \n",
    "    - if x copied to output D before y, then x < y\n",
    "       no inversion involving x,y\n",
    "    - if y copied to output D before x, then y < x\n",
    "       x, y are a split inversion"
   ]
  },
  {
   "cell_type": "markdown",
   "metadata": {},
   "source": [
    " "
   ]
  }
 ],
 "metadata": {
  "kernelspec": {
   "display_name": "Python 3",
   "language": "python",
   "name": "python3"
  },
  "language_info": {
   "codemirror_mode": {
    "name": "ipython",
    "version": 3
   },
   "file_extension": ".py",
   "mimetype": "text/x-python",
   "name": "python",
   "nbconvert_exporter": "python",
   "pygments_lexer": "ipython3",
   "version": "3.7.7"
  }
 },
 "nbformat": 4,
 "nbformat_minor": 4
}
