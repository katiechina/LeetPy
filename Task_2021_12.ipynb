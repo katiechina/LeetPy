{
 "cells": [
  {
   "cell_type": "markdown",
   "metadata": {},
   "source": [
    "### [Leetcode 485](https://leetcode-cn.com/problems/max-consecutive-ones/) "
   ]
  },
  {
   "cell_type": "code",
   "execution_count": 1,
   "metadata": {},
   "outputs": [],
   "source": [
    "from typing import List"
   ]
  },
  {
   "cell_type": "code",
   "execution_count": 14,
   "metadata": {},
   "outputs": [],
   "source": [
    "class Solution:\n",
    "    def findMaxConsecutiveOnes(self, nums: List[int]) -> int:\n",
    "        res = 0\n",
    "        start = 0        \n",
    "        nums.append(0)\n",
    "        nums.insert(0,0)\n",
    "        for i in range(len(nums)):\n",
    "            if nums[i] == 0:\n",
    "                res = max(res, i - start - 1)\n",
    "                start = i\n",
    "        return res"
   ]
  },
  {
   "cell_type": "code",
   "execution_count": 15,
   "metadata": {},
   "outputs": [],
   "source": [
    "assert Solution().findMaxConsecutiveOnes([1,0,1,1,0,1]) == 2"
   ]
  },
  {
   "cell_type": "code",
   "execution_count": 16,
   "metadata": {},
   "outputs": [],
   "source": [
    "assert Solution().findMaxConsecutiveOnes([1,1,0,1,1,1]) == 3"
   ]
  },
  {
   "cell_type": "code",
   "execution_count": null,
   "metadata": {},
   "outputs": [],
   "source": []
  },
  {
   "cell_type": "markdown",
   "metadata": {},
   "source": [
    "### [Leetcode 238](https://leetcode-cn.com/problems/product-of-array-except-self/)"
   ]
  },
  {
   "cell_type": "code",
   "execution_count": 24,
   "metadata": {},
   "outputs": [],
   "source": [
    "from functools import reduce\n",
    "\n",
    "class Solution:\n",
    "    def productExceptSelf(self, nums: List[int]) -> List[int]:\n",
    "        res = len(nums) * [1]\n",
    "        for i in  range(len(nums)):\n",
    "            if i == 0:\n",
    "                res[i] = reduce(lambda x,y:x*y,nums[i+1:])\n",
    "            elif i == len(nums)-1:\n",
    "                res[i] = reduce(lambda x,y:x*y,nums[:i])\n",
    "            else:\n",
    "                res[i] = reduce(lambda x,y:x*y,\n",
    "                            nums[:i]) * reduce(lambda x,y:x*y,nums[i+1:])\n",
    "        return res                    "
   ]
  },
  {
   "cell_type": "code",
   "execution_count": 41,
   "metadata": {},
   "outputs": [
    {
     "data": {
      "text/plain": [
       "[24, 12, 8, 6]"
      ]
     },
     "execution_count": 41,
     "metadata": {},
     "output_type": "execute_result"
    }
   ],
   "source": [
    "Solution().productExceptSelf([1,2,3,4])"
   ]
  },
  {
   "cell_type": "code",
   "execution_count": 42,
   "metadata": {},
   "outputs": [],
   "source": [
    "assert Solution().productExceptSelf([1,2,3,4]) == [24,12,8,6]"
   ]
  },
  {
   "cell_type": "markdown",
   "metadata": {},
   "source": [
    "18 / 20 个通过测试用例"
   ]
  },
  {
   "cell_type": "code",
   "execution_count": 31,
   "metadata": {},
   "outputs": [],
   "source": [
    "class Solution:\n",
    "    def productExceptSelf(self, nums: List[int]) -> List[int]:\n",
    "        from functools import reduce\n",
    "        n = len(nums)\n",
    "        res = n * [1]\n",
    "        tmp = 0\n",
    "        for i in range(n):\n",
    "            tmp = nums.pop(i)\n",
    "            res[i] = reduce(lambda x,y:x*y, nums)\n",
    "            nums.insert(i,tmp)\n",
    "        return res"
   ]
  },
  {
   "cell_type": "markdown",
   "metadata": {},
   "source": [
    "18 / 20 个通过测试用例"
   ]
  },
  {
   "cell_type": "code",
   "execution_count": 40,
   "metadata": {},
   "outputs": [],
   "source": [
    "class Solution:\n",
    "    def productExceptSelf(self, nums: List[int]) -> List[int]:\n",
    "        n = len(nums)\n",
    "        res = n * [1]\n",
    "        for i in range(1,n):\n",
    "            res[i] = nums[i-1] * res[i-1]\n",
    "        R = 1\n",
    "        for i in range(n-1,-1,-1):\n",
    "            res[i] = res[i] * R\n",
    "            R *= nums[i]\n",
    "        return res        "
   ]
  },
  {
   "cell_type": "markdown",
   "metadata": {},
   "source": [
    "从左向右算一遍，再从右向左算一遍"
   ]
  },
  {
   "cell_type": "code",
   "execution_count": null,
   "metadata": {},
   "outputs": [],
   "source": []
  },
  {
   "cell_type": "markdown",
   "metadata": {},
   "source": [
    "### [Leetcode 73](https://leetcode-cn.com/problems/set-matrix-zeroes/)"
   ]
  },
  {
   "cell_type": "code",
   "execution_count": 50,
   "metadata": {},
   "outputs": [],
   "source": [
    "class Solution:\n",
    "    def setZeroes(self, matrix: List[List[int]]) -> None:\n",
    "        \"\"\"\n",
    "        Do not return anything, modify matrix in-place instead.\n",
    "        \"\"\"\n",
    "        m = len(matrix)\n",
    "        n = len(matrix[0])\n",
    "        row_0 = []\n",
    "        line_0 = []\n",
    "        for i in range(m):\n",
    "            for j in range(n):\n",
    "                if matrix[i][j] == 0:\n",
    "                    row_0.append(i)\n",
    "                    line_0.append(j)\n",
    "        for row in row_0:\n",
    "            matrix[row] = [0]*n\n",
    "        for line in line_0:\n",
    "            for row in matrix:\n",
    "                row[line] = 0"
   ]
  },
  {
   "cell_type": "code",
   "execution_count": 55,
   "metadata": {},
   "outputs": [],
   "source": [
    "matrix = [[0,1,2,0],[3,4,5,2],[1,3,1,5]]\n",
    "Solution().setZeroes(matrix)\n",
    "# matrix\n",
    "assert matrix == [[0,0,0,0],[0,4,5,0],[0,3,1,0]]"
   ]
  },
  {
   "cell_type": "markdown",
   "metadata": {},
   "source": [
    "O(1)空间，可以把第一行和第一列作为标志位"
   ]
  },
  {
   "cell_type": "code",
   "execution_count": 56,
   "metadata": {},
   "outputs": [],
   "source": [
    "class Solution:\n",
    "    def setZeroes(self, matrix: List[List[int]]) -> None:\n",
    "        \"\"\"\n",
    "        Do not return anything, modify matrix in-place instead.\n",
    "        \"\"\"\n",
    "        m = len(matrix)\n",
    "        n = len(matrix[0])\n",
    "        row_flag = False\n",
    "        line_flag = False\n",
    "        for i in matrix[0]:\n",
    "            if i == 0:\n",
    "                row_flag = True\n",
    "                break\n",
    "        for i in range(m):\n",
    "            if matrix[i][0] == 0:\n",
    "                line_flag = True\n",
    "                break\n",
    "        #把第一行和第一列作为标志位\n",
    "        for i in range(1,m):\n",
    "            for j in range(1,n):\n",
    "                if matrix[i][j] == 0:\n",
    "                    matrix[0][j] = matrix[i][0] = 0\n",
    "        #设置0\n",
    "        for i in range(1,m):\n",
    "            for j in range(1,n):\n",
    "                if matrix[i][0] == 0 or matrix[0][j] == 0:\n",
    "                    matrix[i][j] = 0\n",
    "        if row_flag:\n",
    "            matrix[0] = n * [0]\n",
    "        if line_flag:\n",
    "            for i in range(m):\n",
    "                matrix[i][0] = 0"
   ]
  },
  {
   "cell_type": "code",
   "execution_count": null,
   "metadata": {},
   "outputs": [],
   "source": []
  },
  {
   "cell_type": "markdown",
   "metadata": {},
   "source": [
    "### [Leetcode 119](https://leetcode-cn.com/problems/pascals-triangle-ii/)"
   ]
  },
  {
   "cell_type": "code",
   "execution_count": 58,
   "metadata": {},
   "outputs": [],
   "source": [
    "class Solution:\n",
    "    def getRow(self, rowIndex: int) -> List[int]:\n",
    "        if rowIndex == 0:\n",
    "            return [1]\n",
    "        if rowIndex == 1:\n",
    "            return [1,1]\n",
    "        if rowIndex >1 :\n",
    "            res = [1] * (rowIndex+1)\n",
    "            above = self.getRow(rowIndex-1)\n",
    "            for i in  range(1,rowIndex):\n",
    "                res[i] = above[i-1] + above[i]\n",
    "            return res"
   ]
  },
  {
   "cell_type": "code",
   "execution_count": 59,
   "metadata": {},
   "outputs": [],
   "source": [
    "assert Solution().getRow(3)  == [1,3,3,1]"
   ]
  },
  {
   "cell_type": "code",
   "execution_count": null,
   "metadata": {},
   "outputs": [],
   "source": []
  },
  {
   "cell_type": "markdown",
   "metadata": {},
   "source": [
    "### [Leetcode 561](https://leetcode-cn.com/problems/array-partition-i/)"
   ]
  },
  {
   "cell_type": "code",
   "execution_count": 60,
   "metadata": {},
   "outputs": [],
   "source": [
    "class Solution:\n",
    "    def arrayPairSum(self, nums: List[int]) -> int:\n",
    "        nums.sort()\n",
    "        sum = 0\n",
    "        for i,v in enumerate(nums):\n",
    "            if i%2 == 0:\n",
    "                sum += v\n",
    "        return sum"
   ]
  },
  {
   "cell_type": "code",
   "execution_count": null,
   "metadata": {},
   "outputs": [],
   "source": []
  },
  {
   "cell_type": "markdown",
   "metadata": {},
   "source": [
    "### [Leetcode 34](https://leetcode-cn.com/problems/find-first-and-last-position-of-element-in-sorted-array/)"
   ]
  },
  {
   "cell_type": "code",
   "execution_count": 61,
   "metadata": {},
   "outputs": [],
   "source": [
    "class Solution:\n",
    "    def searchRange(self, nums: List[int], target: int) -> List[int]:\n",
    "        n = len(nums)\n",
    "        low = 0\n",
    "        high = n-1\n",
    "        res = [-1 , -1]\n",
    "        while low <= high:\n",
    "            mid = (low+high)//2\n",
    "            if nums[mid] < target:\n",
    "                low = mid +1\n",
    "            elif nums[mid] > target:\n",
    "                high = mid -1\n",
    "            elif nums[mid] == target:\n",
    "                while nums[high] > target:\n",
    "                    high -= 1\n",
    "                while nums[low] < target:\n",
    "                    low += 1\n",
    "                return [low, high]\n",
    "        return [-1, -1]"
   ]
  },
  {
   "cell_type": "code",
   "execution_count": 62,
   "metadata": {},
   "outputs": [],
   "source": [
    "assert Solution().searchRange([5,7,7,8,8,10],8) == [3,4]"
   ]
  },
  {
   "cell_type": "code",
   "execution_count": null,
   "metadata": {},
   "outputs": [],
   "source": []
  },
  {
   "cell_type": "markdown",
   "metadata": {},
   "source": [
    "### [Leetcode 56](https://leetcode-cn.com/problems/merge-intervals/)"
   ]
  },
  {
   "cell_type": "code",
   "execution_count": 138,
   "metadata": {},
   "outputs": [],
   "source": [
    "class Solution:\n",
    "    def merge(self, intervals: List[List[int]]) -> List[List[int]]:\n",
    "        intervals.sort()  \n",
    "        res = []\n",
    "        for interval in intervals:\n",
    "            if not res or res[-1][1] < interval[0] :\n",
    "                res.append(interval)\n",
    "            else:\n",
    "                res[-1][1] = max(interval[1], res[-1][1])\n",
    "        return res"
   ]
  },
  {
   "cell_type": "code",
   "execution_count": 139,
   "metadata": {},
   "outputs": [
    {
     "data": {
      "text/plain": [
       "[[1, 5]]"
      ]
     },
     "execution_count": 139,
     "metadata": {},
     "output_type": "execute_result"
    }
   ],
   "source": [
    "Solution().merge([[1,4],[4,5]])"
   ]
  },
  {
   "cell_type": "code",
   "execution_count": 140,
   "metadata": {},
   "outputs": [
    {
     "data": {
      "text/plain": [
       "[[1, 6], [8, 10], [15, 18], [19, 20]]"
      ]
     },
     "execution_count": 140,
     "metadata": {},
     "output_type": "execute_result"
    }
   ],
   "source": [
    "Solution().merge([[1,3],[2,6],[8,10],[15,18],[19,20]])"
   ]
  },
  {
   "cell_type": "code",
   "execution_count": 141,
   "metadata": {},
   "outputs": [
    {
     "data": {
      "text/plain": [
       "[[0, 4]]"
      ]
     },
     "execution_count": 141,
     "metadata": {},
     "output_type": "execute_result"
    }
   ],
   "source": [
    "Solution().merge([[1,4],[0,4]])"
   ]
  },
  {
   "cell_type": "code",
   "execution_count": 142,
   "metadata": {},
   "outputs": [
    {
     "data": {
      "text/plain": [
       "[[0, 0], [1, 4], [5, 6]]"
      ]
     },
     "execution_count": 142,
     "metadata": {},
     "output_type": "execute_result"
    }
   ],
   "source": [
    "Solution().merge([[5,5],[1,2],[2,4],[2,3],[4,4],[5,5],[2,3],[5,6],[0,0],[5,6]])"
   ]
  },
  {
   "cell_type": "code",
   "execution_count": null,
   "metadata": {},
   "outputs": [],
   "source": []
  },
  {
   "cell_type": "code",
   "execution_count": null,
   "metadata": {},
   "outputs": [],
   "source": []
  },
  {
   "cell_type": "markdown",
   "metadata": {},
   "source": [
    "### [Leetcode 162](https://leetcode-cn.com/problems/find-peak-element/)"
   ]
  },
  {
   "cell_type": "code",
   "execution_count": 143,
   "metadata": {},
   "outputs": [],
   "source": [
    "class Solution:\n",
    "    def findPeakElement(self, nums: List[int]) -> int:\n",
    "        mx = max(nums)\n",
    "        return nums.index(mx)        "
   ]
  },
  {
   "cell_type": "code",
   "execution_count": 166,
   "metadata": {},
   "outputs": [],
   "source": [
    "class Solution:\n",
    "    def findPeakElement(self, nums: List[int]) -> int:\n",
    "        low = 0\n",
    "        high = len(nums)-1\n",
    "        while low < high:\n",
    "            mid = (low+high)//2\n",
    "            if nums[mid] > nums[mid+1]:\n",
    "                high = mid\n",
    "            else: \n",
    "                low = mid + 1\n",
    "        return high\n",
    "                    "
   ]
  },
  {
   "cell_type": "code",
   "execution_count": 167,
   "metadata": {},
   "outputs": [
    {
     "data": {
      "text/plain": [
       "2"
      ]
     },
     "execution_count": 167,
     "metadata": {},
     "output_type": "execute_result"
    }
   ],
   "source": [
    "Solution().findPeakElement([1,2,3,1])"
   ]
  },
  {
   "cell_type": "code",
   "execution_count": 168,
   "metadata": {},
   "outputs": [
    {
     "data": {
      "text/plain": [
       "2"
      ]
     },
     "execution_count": 168,
     "metadata": {},
     "output_type": "execute_result"
    }
   ],
   "source": [
    "Solution().findPeakElement([3,2,3,1])"
   ]
  },
  {
   "cell_type": "code",
   "execution_count": null,
   "metadata": {},
   "outputs": [],
   "source": []
  },
  {
   "cell_type": "markdown",
   "metadata": {},
   "source": [
    "### [Leetcode 852](https://leetcode-cn.com/problems/peak-index-in-a-mountain-array/)"
   ]
  },
  {
   "cell_type": "code",
   "execution_count": 169,
   "metadata": {},
   "outputs": [],
   "source": [
    "class Solution:\n",
    "    def peakIndexInMountainArray(self, arr: List[int]) -> int:\n",
    "        low = 0\n",
    "        high = len(arr)\n",
    "        while low < high:\n",
    "            mid = (low + high)//2\n",
    "            if arr[mid] < arr[mid+1]:\n",
    "                low = mid +1\n",
    "            else:\n",
    "                high = mid\n",
    "        return high"
   ]
  },
  {
   "cell_type": "code",
   "execution_count": null,
   "metadata": {},
   "outputs": [],
   "source": []
  },
  {
   "cell_type": "markdown",
   "metadata": {},
   "source": [
    "### [Leetcode 744](https://leetcode-cn.com/problems/find-smallest-letter-greater-than-target/submissions/)"
   ]
  },
  {
   "cell_type": "code",
   "execution_count": null,
   "metadata": {},
   "outputs": [],
   "source": [
    "# 二分查找"
   ]
  },
  {
   "cell_type": "code",
   "execution_count": 188,
   "metadata": {},
   "outputs": [],
   "source": [
    "class Solution:\n",
    "    def nextGreatestLetter(self, letters: List[str], target: str) -> str:\n",
    "        if target >= letters[-1] or target < letters[0]:\n",
    "            return letters[0]\n",
    "        low = 0\n",
    "        high = len(letters) -1\n",
    "        while low < high:\n",
    "            mid = (low + high)//2\n",
    "            if letters[mid] <= target:\n",
    "                low = mid +1\n",
    "            else:\n",
    "                high = mid \n",
    "        return letters[high]\n"
   ]
  },
  {
   "cell_type": "code",
   "execution_count": 189,
   "metadata": {},
   "outputs": [
    {
     "data": {
      "text/plain": [
       "'c'"
      ]
     },
     "execution_count": 189,
     "metadata": {},
     "output_type": "execute_result"
    }
   ],
   "source": [
    "Solution().nextGreatestLetter([\"c\",\"f\",\"j\"],\"a\")"
   ]
  },
  {
   "cell_type": "code",
   "execution_count": 190,
   "metadata": {},
   "outputs": [
    {
     "data": {
      "text/plain": [
       "'f'"
      ]
     },
     "execution_count": 190,
     "metadata": {},
     "output_type": "execute_result"
    }
   ],
   "source": [
    "Solution().nextGreatestLetter([\"c\",\"f\",\"j\"],\"c\")"
   ]
  },
  {
   "cell_type": "code",
   "execution_count": null,
   "metadata": {},
   "outputs": [],
   "source": []
  },
  {
   "cell_type": "markdown",
   "metadata": {},
   "source": [
    "### [Leetcode 367](https://leetcode-cn.com/problems/valid-perfect-square/)"
   ]
  },
  {
   "cell_type": "code",
   "execution_count": 191,
   "metadata": {},
   "outputs": [],
   "source": [
    "# 二分查找"
   ]
  },
  {
   "cell_type": "code",
   "execution_count": 198,
   "metadata": {},
   "outputs": [],
   "source": [
    "class Solution:\n",
    "    def isPerfectSquare(self, num: int) -> bool:\n",
    "        if num == 1:\n",
    "            return True\n",
    "        low = 1\n",
    "        high = num -1\n",
    "        while low <= high:\n",
    "            mid = (low + high)//2\n",
    "            if mid * mid > num:\n",
    "                high = mid -1\n",
    "            elif mid * mid < num:\n",
    "                low = mid +1\n",
    "            else:\n",
    "                return True\n",
    "        return False    "
   ]
  },
  {
   "cell_type": "code",
   "execution_count": 199,
   "metadata": {},
   "outputs": [
    {
     "data": {
      "text/plain": [
       "True"
      ]
     },
     "execution_count": 199,
     "metadata": {},
     "output_type": "execute_result"
    }
   ],
   "source": [
    "Solution().isPerfectSquare(9)"
   ]
  },
  {
   "cell_type": "code",
   "execution_count": null,
   "metadata": {},
   "outputs": [],
   "source": []
  },
  {
   "cell_type": "code",
   "execution_count": null,
   "metadata": {},
   "outputs": [],
   "source": []
  },
  {
   "cell_type": "markdown",
   "metadata": {},
   "source": [
    "### [Leetcode 925](https://leetcode-cn.com/problems/long-pressed-name/)"
   ]
  },
  {
   "cell_type": "code",
   "execution_count": 201,
   "metadata": {},
   "outputs": [],
   "source": [
    "class Solution:\n",
    "    def isLongPressedName(self, name: str, typed: str) -> bool:\n",
    "        tmp = 0\n",
    "        while name:\n",
    "            if not typed:\n",
    "                return False\n",
    "            if name[0] == typed[0]:\n",
    "                tmp = name[0]\n",
    "                name = name[1:]\n",
    "                typed = typed[1:]\n",
    "            else:\n",
    "                if typed[0] == tmp:\n",
    "                    typed = typed[1:]\n",
    "                else:\n",
    "                    return False\n",
    "        if typed.strip(tmp):\n",
    "            return False\n",
    "        return True"
   ]
  },
  {
   "cell_type": "code",
   "execution_count": null,
   "metadata": {},
   "outputs": [],
   "source": []
  },
  {
   "cell_type": "markdown",
   "metadata": {},
   "source": [
    "### [Leetcode 844](https://leetcode-cn.com/problems/backspace-string-compare/)"
   ]
  },
  {
   "cell_type": "code",
   "execution_count": 213,
   "metadata": {},
   "outputs": [],
   "source": [
    "class Solution(object):\n",
    "    def backspaceCompare(self, S, T):\n",
    "        \"\"\"\n",
    "        :type S: str\n",
    "        :type T: str\n",
    "        :rtype: bool\n",
    "        \"\"\"\n",
    "        if self.backsapce(S) == self.backsapce(T):\n",
    "            return True\n",
    "        return False\n",
    "    def backsapce(self,s):\n",
    "        if \"#\" not in s:\n",
    "            return s\n",
    "        new_s = ''\n",
    "        for i in s:\n",
    "            if new_s == \"\" and i==\"#\":\n",
    "                continue\n",
    "            elif new_s != \"\" and i ==\"#\":\n",
    "                new_s = new_s[:-1]\n",
    "            elif i!=\"#\":\n",
    "                new_s = new_s + i\n",
    "        return new_s"
   ]
  },
  {
   "cell_type": "code",
   "execution_count": 214,
   "metadata": {},
   "outputs": [
    {
     "data": {
      "text/plain": [
       "False"
      ]
     },
     "execution_count": 214,
     "metadata": {},
     "output_type": "execute_result"
    }
   ],
   "source": [
    "Solution().backspaceCompare(\"xywrrmp\", \"xywrrm#p\")"
   ]
  },
  {
   "cell_type": "code",
   "execution_count": null,
   "metadata": {},
   "outputs": [],
   "source": []
  }
 ],
 "metadata": {
  "kernelspec": {
   "display_name": "Python 3",
   "language": "python",
   "name": "python3"
  },
  "language_info": {
   "codemirror_mode": {
    "name": "ipython",
    "version": 3
   },
   "file_extension": ".py",
   "mimetype": "text/x-python",
   "name": "python",
   "nbconvert_exporter": "python",
   "pygments_lexer": "ipython3",
   "version": "3.7.7"
  }
 },
 "nbformat": 4,
 "nbformat_minor": 4
}
