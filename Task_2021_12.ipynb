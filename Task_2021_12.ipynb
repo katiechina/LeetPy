{
 "cells": [
  {
   "cell_type": "markdown",
   "metadata": {},
   "source": [
    "### [Leetcode 485](https://leetcode-cn.com/problems/max-consecutive-ones/) "
   ]
  },
  {
   "cell_type": "code",
   "execution_count": 1,
   "metadata": {},
   "outputs": [],
   "source": [
    "from typing import List"
   ]
  },
  {
   "cell_type": "code",
   "execution_count": 14,
   "metadata": {},
   "outputs": [],
   "source": [
    "class Solution:\n",
    "    def findMaxConsecutiveOnes(self, nums: List[int]) -> int:\n",
    "        res = 0\n",
    "        start = 0        \n",
    "        nums.append(0)\n",
    "        nums.insert(0,0)\n",
    "        for i in range(len(nums)):\n",
    "            if nums[i] == 0:\n",
    "                res = max(res, i - start - 1)\n",
    "                start = i\n",
    "        return res"
   ]
  },
  {
   "cell_type": "code",
   "execution_count": 15,
   "metadata": {},
   "outputs": [],
   "source": [
    "assert Solution().findMaxConsecutiveOnes([1,0,1,1,0,1]) == 2"
   ]
  },
  {
   "cell_type": "code",
   "execution_count": 16,
   "metadata": {},
   "outputs": [],
   "source": [
    "assert Solution().findMaxConsecutiveOnes([1,1,0,1,1,1]) == 3"
   ]
  },
  {
   "cell_type": "code",
   "execution_count": null,
   "metadata": {},
   "outputs": [],
   "source": []
  },
  {
   "cell_type": "markdown",
   "metadata": {},
   "source": [
    "### [Leetcode 238](https://leetcode-cn.com/problems/product-of-array-except-self/)"
   ]
  },
  {
   "cell_type": "code",
   "execution_count": 24,
   "metadata": {},
   "outputs": [],
   "source": [
    "from functools import reduce\n",
    "\n",
    "class Solution:\n",
    "    def productExceptSelf(self, nums: List[int]) -> List[int]:\n",
    "        res = len(nums) * [1]\n",
    "        for i in  range(len(nums)):\n",
    "            if i == 0:\n",
    "                res[i] = reduce(lambda x,y:x*y,nums[i+1:])\n",
    "            elif i == len(nums)-1:\n",
    "                res[i] = reduce(lambda x,y:x*y,nums[:i])\n",
    "            else:\n",
    "                res[i] = reduce(lambda x,y:x*y,\n",
    "                            nums[:i]) * reduce(lambda x,y:x*y,nums[i+1:])\n",
    "        return res                    "
   ]
  },
  {
   "cell_type": "code",
   "execution_count": 41,
   "metadata": {},
   "outputs": [
    {
     "data": {
      "text/plain": [
       "[24, 12, 8, 6]"
      ]
     },
     "execution_count": 41,
     "metadata": {},
     "output_type": "execute_result"
    }
   ],
   "source": [
    "Solution().productExceptSelf([1,2,3,4])"
   ]
  },
  {
   "cell_type": "code",
   "execution_count": 42,
   "metadata": {},
   "outputs": [],
   "source": [
    "assert Solution().productExceptSelf([1,2,3,4]) == [24,12,8,6]"
   ]
  },
  {
   "cell_type": "markdown",
   "metadata": {},
   "source": [
    "18 / 20 个通过测试用例"
   ]
  },
  {
   "cell_type": "code",
   "execution_count": 31,
   "metadata": {},
   "outputs": [],
   "source": [
    "class Solution:\n",
    "    def productExceptSelf(self, nums: List[int]) -> List[int]:\n",
    "        from functools import reduce\n",
    "        n = len(nums)\n",
    "        res = n * [1]\n",
    "        tmp = 0\n",
    "        for i in range(n):\n",
    "            tmp = nums.pop(i)\n",
    "            res[i] = reduce(lambda x,y:x*y, nums)\n",
    "            nums.insert(i,tmp)\n",
    "        return res"
   ]
  },
  {
   "cell_type": "markdown",
   "metadata": {},
   "source": [
    "18 / 20 个通过测试用例"
   ]
  },
  {
   "cell_type": "code",
   "execution_count": 40,
   "metadata": {},
   "outputs": [],
   "source": [
    "class Solution:\n",
    "    def productExceptSelf(self, nums: List[int]) -> List[int]:\n",
    "        n = len(nums)\n",
    "        res = n * [1]\n",
    "        for i in range(1,n):\n",
    "            res[i] = nums[i-1] * res[i-1]\n",
    "        R = 1\n",
    "        for i in range(n-1,-1,-1):\n",
    "            res[i] = res[i] * R\n",
    "            R *= nums[i]\n",
    "        return res        "
   ]
  },
  {
   "cell_type": "markdown",
   "metadata": {},
   "source": [
    "从左向右算一遍，再从右向左算一遍"
   ]
  },
  {
   "cell_type": "code",
   "execution_count": null,
   "metadata": {},
   "outputs": [],
   "source": []
  },
  {
   "cell_type": "markdown",
   "metadata": {},
   "source": [
    "### [Leetcode 73](https://leetcode-cn.com/problems/set-matrix-zeroes/)"
   ]
  },
  {
   "cell_type": "code",
   "execution_count": 50,
   "metadata": {},
   "outputs": [],
   "source": [
    "class Solution:\n",
    "    def setZeroes(self, matrix: List[List[int]]) -> None:\n",
    "        \"\"\"\n",
    "        Do not return anything, modify matrix in-place instead.\n",
    "        \"\"\"\n",
    "        m = len(matrix)\n",
    "        n = len(matrix[0])\n",
    "        row_0 = []\n",
    "        line_0 = []\n",
    "        for i in range(m):\n",
    "            for j in range(n):\n",
    "                if matrix[i][j] == 0:\n",
    "                    row_0.append(i)\n",
    "                    line_0.append(j)\n",
    "        for row in row_0:\n",
    "            matrix[row] = [0]*n\n",
    "        for line in line_0:\n",
    "            for row in matrix:\n",
    "                row[line] = 0"
   ]
  },
  {
   "cell_type": "code",
   "execution_count": 55,
   "metadata": {},
   "outputs": [],
   "source": [
    "matrix = [[0,1,2,0],[3,4,5,2],[1,3,1,5]]\n",
    "Solution().setZeroes(matrix)\n",
    "# matrix\n",
    "assert matrix == [[0,0,0,0],[0,4,5,0],[0,3,1,0]]"
   ]
  },
  {
   "cell_type": "markdown",
   "metadata": {},
   "source": [
    "O(1)空间，可以把第一行和第一列作为标志位"
   ]
  },
  {
   "cell_type": "code",
   "execution_count": 56,
   "metadata": {},
   "outputs": [],
   "source": [
    "class Solution:\n",
    "    def setZeroes(self, matrix: List[List[int]]) -> None:\n",
    "        \"\"\"\n",
    "        Do not return anything, modify matrix in-place instead.\n",
    "        \"\"\"\n",
    "        m = len(matrix)\n",
    "        n = len(matrix[0])\n",
    "        row_flag = False\n",
    "        line_flag = False\n",
    "        for i in matrix[0]:\n",
    "            if i == 0:\n",
    "                row_flag = True\n",
    "                break\n",
    "        for i in range(m):\n",
    "            if matrix[i][0] == 0:\n",
    "                line_flag = True\n",
    "                break\n",
    "        #把第一行和第一列作为标志位\n",
    "        for i in range(1,m):\n",
    "            for j in range(1,n):\n",
    "                if matrix[i][j] == 0:\n",
    "                    matrix[0][j] = matrix[i][0] = 0\n",
    "        #设置0\n",
    "        for i in range(1,m):\n",
    "            for j in range(1,n):\n",
    "                if matrix[i][0] == 0 or matrix[0][j] == 0:\n",
    "                    matrix[i][j] = 0\n",
    "        if row_flag:\n",
    "            matrix[0] = n * [0]\n",
    "        if line_flag:\n",
    "            for i in range(m):\n",
    "                matrix[i][0] = 0"
   ]
  },
  {
   "cell_type": "code",
   "execution_count": null,
   "metadata": {},
   "outputs": [],
   "source": []
  },
  {
   "cell_type": "markdown",
   "metadata": {},
   "source": [
    "### [Leetcode 119](https://leetcode-cn.com/problems/pascals-triangle-ii/)"
   ]
  },
  {
   "cell_type": "code",
   "execution_count": 58,
   "metadata": {},
   "outputs": [],
   "source": [
    "class Solution:\n",
    "    def getRow(self, rowIndex: int) -> List[int]:\n",
    "        if rowIndex == 0:\n",
    "            return [1]\n",
    "        if rowIndex == 1:\n",
    "            return [1,1]\n",
    "        if rowIndex >1 :\n",
    "            res = [1] * (rowIndex+1)\n",
    "            above = self.getRow(rowIndex-1)\n",
    "            for i in  range(1,rowIndex):\n",
    "                res[i] = above[i-1] + above[i]\n",
    "            return res"
   ]
  },
  {
   "cell_type": "code",
   "execution_count": 59,
   "metadata": {},
   "outputs": [],
   "source": [
    "assert Solution().getRow(3)  == [1,3,3,1]"
   ]
  },
  {
   "cell_type": "code",
   "execution_count": null,
   "metadata": {},
   "outputs": [],
   "source": []
  },
  {
   "cell_type": "markdown",
   "metadata": {},
   "source": [
    "### [Leetcode 561](https://leetcode-cn.com/problems/array-partition-i/)"
   ]
  },
  {
   "cell_type": "code",
   "execution_count": 60,
   "metadata": {},
   "outputs": [],
   "source": [
    "class Solution:\n",
    "    def arrayPairSum(self, nums: List[int]) -> int:\n",
    "        nums.sort()\n",
    "        sum = 0\n",
    "        for i,v in enumerate(nums):\n",
    "            if i%2 == 0:\n",
    "                sum += v\n",
    "        return sum"
   ]
  },
  {
   "cell_type": "code",
   "execution_count": null,
   "metadata": {},
   "outputs": [],
   "source": []
  },
  {
   "cell_type": "markdown",
   "metadata": {},
   "source": [
    "### [Leetcode 34](https://leetcode-cn.com/problems/find-first-and-last-position-of-element-in-sorted-array/)"
   ]
  },
  {
   "cell_type": "code",
   "execution_count": 61,
   "metadata": {},
   "outputs": [],
   "source": [
    "class Solution:\n",
    "    def searchRange(self, nums: List[int], target: int) -> List[int]:\n",
    "        n = len(nums)\n",
    "        low = 0\n",
    "        high = n-1\n",
    "        res = [-1 , -1]\n",
    "        while low <= high:\n",
    "            mid = (low+high)//2\n",
    "            if nums[mid] < target:\n",
    "                low = mid +1\n",
    "            elif nums[mid] > target:\n",
    "                high = mid -1\n",
    "            elif nums[mid] == target:\n",
    "                while nums[high] > target:\n",
    "                    high -= 1\n",
    "                while nums[low] < target:\n",
    "                    low += 1\n",
    "                return [low, high]\n",
    "        return [-1, -1]"
   ]
  },
  {
   "cell_type": "code",
   "execution_count": 62,
   "metadata": {},
   "outputs": [],
   "source": [
    "assert Solution().searchRange([5,7,7,8,8,10],8) == [3,4]"
   ]
  },
  {
   "cell_type": "code",
   "execution_count": null,
   "metadata": {},
   "outputs": [],
   "source": []
  },
  {
   "cell_type": "markdown",
   "metadata": {},
   "source": [
    "### [Leetcode 56](https://leetcode-cn.com/problems/merge-intervals/)"
   ]
  },
  {
   "cell_type": "code",
   "execution_count": 138,
   "metadata": {},
   "outputs": [],
   "source": [
    "class Solution:\n",
    "    def merge(self, intervals: List[List[int]]) -> List[List[int]]:\n",
    "        intervals.sort()  \n",
    "        res = []\n",
    "        for interval in intervals:\n",
    "            if not res or res[-1][1] < interval[0] :\n",
    "                res.append(interval)\n",
    "            else:\n",
    "                res[-1][1] = max(interval[1], res[-1][1])\n",
    "        return res"
   ]
  },
  {
   "cell_type": "code",
   "execution_count": 139,
   "metadata": {},
   "outputs": [
    {
     "data": {
      "text/plain": [
       "[[1, 5]]"
      ]
     },
     "execution_count": 139,
     "metadata": {},
     "output_type": "execute_result"
    }
   ],
   "source": [
    "Solution().merge([[1,4],[4,5]])"
   ]
  },
  {
   "cell_type": "code",
   "execution_count": 140,
   "metadata": {},
   "outputs": [
    {
     "data": {
      "text/plain": [
       "[[1, 6], [8, 10], [15, 18], [19, 20]]"
      ]
     },
     "execution_count": 140,
     "metadata": {},
     "output_type": "execute_result"
    }
   ],
   "source": [
    "Solution().merge([[1,3],[2,6],[8,10],[15,18],[19,20]])"
   ]
  },
  {
   "cell_type": "code",
   "execution_count": 141,
   "metadata": {},
   "outputs": [
    {
     "data": {
      "text/plain": [
       "[[0, 4]]"
      ]
     },
     "execution_count": 141,
     "metadata": {},
     "output_type": "execute_result"
    }
   ],
   "source": [
    "Solution().merge([[1,4],[0,4]])"
   ]
  },
  {
   "cell_type": "code",
   "execution_count": 142,
   "metadata": {},
   "outputs": [
    {
     "data": {
      "text/plain": [
       "[[0, 0], [1, 4], [5, 6]]"
      ]
     },
     "execution_count": 142,
     "metadata": {},
     "output_type": "execute_result"
    }
   ],
   "source": [
    "Solution().merge([[5,5],[1,2],[2,4],[2,3],[4,4],[5,5],[2,3],[5,6],[0,0],[5,6]])"
   ]
  },
  {
   "cell_type": "code",
   "execution_count": null,
   "metadata": {},
   "outputs": [],
   "source": []
  },
  {
   "cell_type": "code",
   "execution_count": null,
   "metadata": {},
   "outputs": [],
   "source": []
  },
  {
   "cell_type": "markdown",
   "metadata": {},
   "source": [
    "### [Leetcode 162](https://leetcode-cn.com/problems/find-peak-element/)"
   ]
  },
  {
   "cell_type": "code",
   "execution_count": 143,
   "metadata": {},
   "outputs": [],
   "source": [
    "class Solution:\n",
    "    def findPeakElement(self, nums: List[int]) -> int:\n",
    "        mx = max(nums)\n",
    "        return nums.index(mx)        "
   ]
  },
  {
   "cell_type": "code",
   "execution_count": 166,
   "metadata": {},
   "outputs": [],
   "source": [
    "class Solution:\n",
    "    def findPeakElement(self, nums: List[int]) -> int:\n",
    "        low = 0\n",
    "        high = len(nums)-1\n",
    "        while low < high:\n",
    "            mid = (low+high)//2\n",
    "            if nums[mid] > nums[mid+1]:\n",
    "                high = mid\n",
    "            else: \n",
    "                low = mid + 1\n",
    "        return high\n",
    "                    "
   ]
  },
  {
   "cell_type": "code",
   "execution_count": 167,
   "metadata": {},
   "outputs": [
    {
     "data": {
      "text/plain": [
       "2"
      ]
     },
     "execution_count": 167,
     "metadata": {},
     "output_type": "execute_result"
    }
   ],
   "source": [
    "Solution().findPeakElement([1,2,3,1])"
   ]
  },
  {
   "cell_type": "code",
   "execution_count": 168,
   "metadata": {},
   "outputs": [
    {
     "data": {
      "text/plain": [
       "2"
      ]
     },
     "execution_count": 168,
     "metadata": {},
     "output_type": "execute_result"
    }
   ],
   "source": [
    "Solution().findPeakElement([3,2,3,1])"
   ]
  },
  {
   "cell_type": "code",
   "execution_count": null,
   "metadata": {},
   "outputs": [],
   "source": []
  },
  {
   "cell_type": "markdown",
   "metadata": {},
   "source": [
    "### [Leetcode 852](https://leetcode-cn.com/problems/peak-index-in-a-mountain-array/)"
   ]
  },
  {
   "cell_type": "code",
   "execution_count": 169,
   "metadata": {},
   "outputs": [],
   "source": [
    "class Solution:\n",
    "    def peakIndexInMountainArray(self, arr: List[int]) -> int:\n",
    "        low = 0\n",
    "        high = len(arr)\n",
    "        while low < high:\n",
    "            mid = (low + high)//2\n",
    "            if arr[mid] < arr[mid+1]:\n",
    "                low = mid +1\n",
    "            else:\n",
    "                high = mid\n",
    "        return high"
   ]
  },
  {
   "cell_type": "code",
   "execution_count": null,
   "metadata": {},
   "outputs": [],
   "source": []
  },
  {
   "cell_type": "markdown",
   "metadata": {},
   "source": [
    "### [Leetcode 744](https://leetcode-cn.com/problems/find-smallest-letter-greater-than-target/submissions/)"
   ]
  },
  {
   "cell_type": "code",
   "execution_count": null,
   "metadata": {},
   "outputs": [],
   "source": [
    "# 二分查找"
   ]
  },
  {
   "cell_type": "code",
   "execution_count": 188,
   "metadata": {},
   "outputs": [],
   "source": [
    "class Solution:\n",
    "    def nextGreatestLetter(self, letters: List[str], target: str) -> str:\n",
    "        if target >= letters[-1] or target < letters[0]:\n",
    "            return letters[0]\n",
    "        low = 0\n",
    "        high = len(letters) -1\n",
    "        while low < high:\n",
    "            mid = (low + high)//2\n",
    "            if letters[mid] <= target:\n",
    "                low = mid +1\n",
    "            else:\n",
    "                high = mid \n",
    "        return letters[high]\n"
   ]
  },
  {
   "cell_type": "code",
   "execution_count": 189,
   "metadata": {},
   "outputs": [
    {
     "data": {
      "text/plain": [
       "'c'"
      ]
     },
     "execution_count": 189,
     "metadata": {},
     "output_type": "execute_result"
    }
   ],
   "source": [
    "Solution().nextGreatestLetter([\"c\",\"f\",\"j\"],\"a\")"
   ]
  },
  {
   "cell_type": "code",
   "execution_count": 190,
   "metadata": {},
   "outputs": [
    {
     "data": {
      "text/plain": [
       "'f'"
      ]
     },
     "execution_count": 190,
     "metadata": {},
     "output_type": "execute_result"
    }
   ],
   "source": [
    "Solution().nextGreatestLetter([\"c\",\"f\",\"j\"],\"c\")"
   ]
  },
  {
   "cell_type": "code",
   "execution_count": null,
   "metadata": {},
   "outputs": [],
   "source": []
  },
  {
   "cell_type": "markdown",
   "metadata": {},
   "source": [
    "### [Leetcode 367](https://leetcode-cn.com/problems/valid-perfect-square/)"
   ]
  },
  {
   "cell_type": "code",
   "execution_count": 191,
   "metadata": {},
   "outputs": [],
   "source": [
    "# 二分查找"
   ]
  },
  {
   "cell_type": "code",
   "execution_count": 198,
   "metadata": {},
   "outputs": [],
   "source": [
    "class Solution:\n",
    "    def isPerfectSquare(self, num: int) -> bool:\n",
    "        if num == 1:\n",
    "            return True\n",
    "        low = 1\n",
    "        high = num -1\n",
    "        while low <= high:\n",
    "            mid = (low + high)//2\n",
    "            if mid * mid > num:\n",
    "                high = mid -1\n",
    "            elif mid * mid < num:\n",
    "                low = mid +1\n",
    "            else:\n",
    "                return True\n",
    "        return False    "
   ]
  },
  {
   "cell_type": "code",
   "execution_count": 199,
   "metadata": {},
   "outputs": [
    {
     "data": {
      "text/plain": [
       "True"
      ]
     },
     "execution_count": 199,
     "metadata": {},
     "output_type": "execute_result"
    }
   ],
   "source": [
    "Solution().isPerfectSquare(9)"
   ]
  },
  {
   "cell_type": "code",
   "execution_count": null,
   "metadata": {},
   "outputs": [],
   "source": []
  },
  {
   "cell_type": "code",
   "execution_count": null,
   "metadata": {},
   "outputs": [],
   "source": []
  },
  {
   "cell_type": "markdown",
   "metadata": {},
   "source": [
    "### [Leetcode 925](https://leetcode-cn.com/problems/long-pressed-name/)"
   ]
  },
  {
   "cell_type": "code",
   "execution_count": 201,
   "metadata": {},
   "outputs": [],
   "source": [
    "class Solution:\n",
    "    def isLongPressedName(self, name: str, typed: str) -> bool:\n",
    "        tmp = 0\n",
    "        while name:\n",
    "            if not typed:\n",
    "                return False\n",
    "            if name[0] == typed[0]:\n",
    "                tmp = name[0]\n",
    "                name = name[1:]\n",
    "                typed = typed[1:]\n",
    "            else:\n",
    "                if typed[0] == tmp:\n",
    "                    typed = typed[1:]\n",
    "                else:\n",
    "                    return False\n",
    "        if typed.strip(tmp):\n",
    "            return False\n",
    "        return True"
   ]
  },
  {
   "cell_type": "code",
   "execution_count": null,
   "metadata": {},
   "outputs": [],
   "source": []
  },
  {
   "cell_type": "markdown",
   "metadata": {},
   "source": [
    "### [Leetcode 844](https://leetcode-cn.com/problems/backspace-string-compare/)"
   ]
  },
  {
   "cell_type": "code",
   "execution_count": 213,
   "metadata": {},
   "outputs": [],
   "source": [
    "class Solution(object):\n",
    "    def backspaceCompare(self, S, T):\n",
    "        \"\"\"\n",
    "        :type S: str\n",
    "        :type T: str\n",
    "        :rtype: bool\n",
    "        \"\"\"\n",
    "        if self.backsapce(S) == self.backsapce(T):\n",
    "            return True\n",
    "        return False\n",
    "    def backsapce(self,s):\n",
    "        if \"#\" not in s:\n",
    "            return s\n",
    "        new_s = ''\n",
    "        for i in s:\n",
    "            if new_s == \"\" and i==\"#\":\n",
    "                continue\n",
    "            elif new_s != \"\" and i ==\"#\":\n",
    "                new_s = new_s[:-1]\n",
    "            elif i!=\"#\":\n",
    "                new_s = new_s + i\n",
    "        return new_s"
   ]
  },
  {
   "cell_type": "code",
   "execution_count": 214,
   "metadata": {},
   "outputs": [
    {
     "data": {
      "text/plain": [
       "False"
      ]
     },
     "execution_count": 214,
     "metadata": {},
     "output_type": "execute_result"
    }
   ],
   "source": [
    "Solution().backspaceCompare(\"xywrrmp\", \"xywrrm#p\")"
   ]
  },
  {
   "cell_type": "code",
   "execution_count": null,
   "metadata": {},
   "outputs": [],
   "source": []
  },
  {
   "cell_type": "code",
   "execution_count": null,
   "metadata": {},
   "outputs": [],
   "source": []
  },
  {
   "cell_type": "markdown",
   "metadata": {},
   "source": [
    "### [Leetcode 705](https://leetcode-cn.com/problems/design-hashset/)"
   ]
  },
  {
   "cell_type": "code",
   "execution_count": 215,
   "metadata": {},
   "outputs": [],
   "source": [
    "class MyHashSet:\n",
    "\n",
    "    def __init__(self):\n",
    "        self.hashset = []\n",
    "\n",
    "\n",
    "    def add(self, key: int) -> None:\n",
    "        if key not in self.hashset:\n",
    "            self.hashset.append(key)\n",
    "        return self.hashset\n",
    "\n",
    "\n",
    "    def remove(self, key: int) -> None:\n",
    "        if key in self.hashset:\n",
    "            self.hashset.pop(self.hashset.index(key))\n",
    "            return self.hashset\n",
    "\n",
    "\n",
    "    def contains(self, key: int) -> bool:\n",
    "        if key in self.hashset:\n",
    "            return True\n",
    "        return False\n",
    "\n",
    "\n",
    "\n",
    "# Your MyHashSet object will be instantiated and called as such:\n",
    "# obj = MyHashSet()\n",
    "# obj.add(key)\n",
    "# obj.remove(key)\n",
    "# param_3 = obj.contains(key)"
   ]
  },
  {
   "cell_type": "code",
   "execution_count": null,
   "metadata": {},
   "outputs": [],
   "source": []
  },
  {
   "cell_type": "code",
   "execution_count": null,
   "metadata": {},
   "outputs": [],
   "source": []
  },
  {
   "cell_type": "markdown",
   "metadata": {},
   "source": [
    "### [Leetcode 706](https://leetcode-cn.com/problems/design-hashmap/)"
   ]
  },
  {
   "cell_type": "code",
   "execution_count": 217,
   "metadata": {},
   "outputs": [],
   "source": [
    "class MyHashMap:\n",
    "\n",
    "    def __init__(self):\n",
    "        self.hashmap = []\n",
    "\n",
    "\n",
    "    def put(self, key: int, value: int) -> None:\n",
    "        if key not in [i[0] for i in self.hashmap]:\n",
    "            self.hashmap.append([key,value])\n",
    "        else:\n",
    "            index = [i[0] for i in self.hashmap].index(key)\n",
    "            self.hashmap[index] = [key,value]\n",
    "\n",
    "\n",
    "    def get(self, key: int) -> int:\n",
    "        if key in [i[0] for i in self.hashmap]:\n",
    "            index = [i[0] for i in self.hashmap].index(key)\n",
    "            return  self.hashmap[index][1]\n",
    "        return -1\n",
    "\n",
    "    def remove(self, key: int) -> None:\n",
    "        if key in [i[0] for i in self.hashmap]:\n",
    "            index = [i[0] for i in self.hashmap].index(key)\n",
    "            self.hashmap.pop(index)\n",
    "\n",
    "\n",
    "\n",
    "# Your MyHashMap object will be instantiated and called as such:\n",
    "# obj = MyHashMap()\n",
    "# obj.put(key,value)\n",
    "# param_2 = obj.get(key)\n",
    "# obj.remove(key)"
   ]
  },
  {
   "cell_type": "code",
   "execution_count": null,
   "metadata": {},
   "outputs": [],
   "source": []
  },
  {
   "cell_type": "code",
   "execution_count": null,
   "metadata": {},
   "outputs": [],
   "source": []
  },
  {
   "cell_type": "markdown",
   "metadata": {},
   "source": [
    "### [Leetcode 219](https://leetcode-cn.com/problems/contains-duplicate-ii/)"
   ]
  },
  {
   "cell_type": "code",
   "execution_count": 218,
   "metadata": {},
   "outputs": [],
   "source": [
    "class Solution:\n",
    "    def containsNearbyDuplicate(self, nums: List[int], k: int) -> bool:\n",
    "        n = len(nums)\n",
    "        for i in range(n):\n",
    "            for j in range(1,k+1):\n",
    "                if i+j < n:\n",
    "                    if nums[i] ==nums[i+j]:\n",
    "                        return True\n",
    "        return False"
   ]
  },
  {
   "cell_type": "markdown",
   "metadata": {},
   "source": [
    "以上超时，看了评论考虑用hashset+滑动窗口解题"
   ]
  },
  {
   "cell_type": "code",
   "execution_count": 220,
   "metadata": {},
   "outputs": [],
   "source": [
    "class Solution:\n",
    "    def containsNearbyDuplicate(self, nums: List[int], k: int) -> bool:\n",
    "        n = len(nums)\n",
    "        hashset = set()\n",
    "        for i in range(n):\n",
    "            if nums[i] in hashset:\n",
    "                return True\n",
    "            hashset.add(nums[i])\n",
    "            if i - k >= 0:\n",
    "                hashset.remove(nums[i-k])\n",
    "        return False"
   ]
  },
  {
   "cell_type": "code",
   "execution_count": null,
   "metadata": {},
   "outputs": [],
   "source": []
  },
  {
   "cell_type": "markdown",
   "metadata": {},
   "source": [
    "### [Leetcode 220](https://leetcode-cn.com/problems/contains-duplicate-iii/)"
   ]
  },
  {
   "cell_type": "code",
   "execution_count": 237,
   "metadata": {},
   "outputs": [],
   "source": [
    "class Solution:\n",
    "    def containsNearbyAlmostDuplicate(self, nums: List[int], k: int, t: int) -> bool:\n",
    "        n = len(nums)\n",
    "        window = set()\n",
    "        for i in range(n):\n",
    "            for j in range(nums[i]-t, nums[i]+t+1):\n",
    "                if j in window:\n",
    "                    return True\n",
    "            window.add(nums[i])\n",
    "            if i-k >= 0:\n",
    "                window.remove(nums[i-k])\n",
    "        return False            "
   ]
  },
  {
   "cell_type": "code",
   "execution_count": 238,
   "metadata": {},
   "outputs": [
    {
     "data": {
      "text/plain": [
       "True"
      ]
     },
     "execution_count": 238,
     "metadata": {},
     "output_type": "execute_result"
    }
   ],
   "source": [
    "Solution().containsNearbyAlmostDuplicate(nums=[1,2,3,1], k = 3, t = 0)"
   ]
  },
  {
   "cell_type": "markdown",
   "metadata": {},
   "source": [
    "超出时间限制"
   ]
  },
  {
   "cell_type": "code",
   "execution_count": 249,
   "metadata": {},
   "outputs": [],
   "source": [
    "class Solution:\n",
    "    def containsNearbyAlmostDuplicate(self, nums: List[int], k: int, t: int) -> bool:\n",
    "        n = len(nums)\n",
    "        window = set()\n",
    "        for i in range(n):\n",
    "            for v in window:\n",
    "                if nums[i] - v <= t and nums[i]-v >= -t:\n",
    "                    return True\n",
    "\n",
    "            window.add(nums[i])\n",
    "            if i-k >= 0:\n",
    "                window.remove(nums[i-k])\n",
    "        return False   "
   ]
  },
  {
   "cell_type": "code",
   "execution_count": 250,
   "metadata": {},
   "outputs": [
    {
     "data": {
      "text/plain": [
       "True"
      ]
     },
     "execution_count": 250,
     "metadata": {},
     "output_type": "execute_result"
    }
   ],
   "source": [
    "Solution().containsNearbyAlmostDuplicate(nums=[1,2,3,1], k = 3, t = 0)"
   ]
  },
  {
   "cell_type": "code",
   "execution_count": 251,
   "metadata": {},
   "outputs": [],
   "source": [
    "assert Solution().containsNearbyAlmostDuplicate(nums=[1,5,9,1,5,9], k = 2, t = 3) == False"
   ]
  },
  {
   "cell_type": "markdown",
   "metadata": {},
   "source": [
    "50 / 53 个通过测试用例,超出时间限制"
   ]
  },
  {
   "cell_type": "code",
   "execution_count": null,
   "metadata": {},
   "outputs": [],
   "source": [
    "class Solution:\n",
    "    def containsNearbyAlmostDuplicate(self, nums: List[int], k: int, t: int) -> bool:\n",
    "        def getIdx(u):\n",
    "            return ((u + 1) // size) - 1 if u < 0 else u // size\n",
    "        \n",
    "        map = {}\n",
    "        size = t + 1\n",
    "        for i,u in enumerate(nums):\n",
    "            idx = getIdx(u)\n",
    "            # 目标桶已存在（桶不为空），说明前面已有 [u - t, u + t] 范围的数字\n",
    "            if idx in map:\n",
    "                return True\n",
    "            # 检查相邻的桶\n",
    "            l, r = idx - 1, idx + 1\n",
    "            if l in map and abs(u - map[l]) <= t:\n",
    "                return True\n",
    "            if r in map and abs(u - map[r]) <= t:\n",
    "                return True\n",
    "            # 建立目标桶\n",
    "            map[idx] = u\n",
    "            # 维护个数为k\n",
    "            if i >= k:\n",
    "                map.pop(getIdx(nums[i-k]))\n",
    "\n",
    "        return False\n",
    "\n",
    "# 作者：AC_OIer\n",
    "# 链接：https://leetcode-cn.com/problems/contains-duplicate-iii/solution/gong-shui-san-xie-yi-ti-shuang-jie-hua-d-dlnv/"
   ]
  },
  {
   "cell_type": "code",
   "execution_count": null,
   "metadata": {},
   "outputs": [],
   "source": []
  },
  {
   "cell_type": "markdown",
   "metadata": {},
   "source": [
    "### [Leetcode 383](https://leetcode-cn.com/problems/ransom-note/)"
   ]
  },
  {
   "cell_type": "code",
   "execution_count": 267,
   "metadata": {},
   "outputs": [],
   "source": [
    "class Solution:\n",
    "    def canConstruct(self, ransomNote: str, magazine: str) -> bool:\n",
    "        for i in ransomNote:\n",
    "            if i not in magazine:\n",
    "                return False\n",
    "            magazine = ''.join(magazine.split(i,1))\n",
    "        return True\n",
    "     "
   ]
  },
  {
   "cell_type": "code",
   "execution_count": 268,
   "metadata": {},
   "outputs": [
    {
     "data": {
      "text/plain": [
       "'abcdcii'"
      ]
     },
     "execution_count": 268,
     "metadata": {},
     "output_type": "execute_result"
    }
   ],
   "source": [
    "magazine = 'abicdcii'\n",
    "''.join(magazine.split('i',1))"
   ]
  },
  {
   "cell_type": "code",
   "execution_count": null,
   "metadata": {},
   "outputs": [],
   "source": []
  },
  {
   "cell_type": "code",
   "execution_count": null,
   "metadata": {},
   "outputs": [],
   "source": []
  },
  {
   "cell_type": "markdown",
   "metadata": {},
   "source": [
    "### [Leetcode 349](https://leetcode-cn.com/problems/intersection-of-two-arrays/submissions/)"
   ]
  },
  {
   "cell_type": "code",
   "execution_count": 271,
   "metadata": {},
   "outputs": [
    {
     "data": {
      "text/plain": [
       "{4, 9}"
      ]
     },
     "execution_count": 271,
     "metadata": {},
     "output_type": "execute_result"
    }
   ],
   "source": [
    "nums1 = [4,9,5]\n",
    "nums2 = [9,4,9,8,4]\n",
    "set(nums1) & set(nums2)"
   ]
  },
  {
   "cell_type": "code",
   "execution_count": 272,
   "metadata": {},
   "outputs": [],
   "source": [
    "class Solution:\n",
    "    def intersection(self, nums1: List[int], nums2: List[int]) -> List[int]:\n",
    "        return list(set(nums1) & set(nums2))"
   ]
  },
  {
   "cell_type": "code",
   "execution_count": null,
   "metadata": {},
   "outputs": [],
   "source": []
  },
  {
   "cell_type": "markdown",
   "metadata": {},
   "source": [
    "### [Leetcode 599](https://leetcode-cn.com/problems/minimum-index-sum-of-two-lists/)"
   ]
  },
  {
   "cell_type": "code",
   "execution_count": 273,
   "metadata": {},
   "outputs": [],
   "source": [
    "class Solution:\n",
    "    def findRestaurant(self, list1: List[str], list2: List[str]) -> List[str]:\n",
    "        minindex = len(list1)+ len(list2)\n",
    "        res = []\n",
    "        for i,v in enumerate(list1):\n",
    "            if v in list2:\n",
    "                index = i + list2.index(v)\n",
    "                if index < minindex:\n",
    "                    res = [v]\n",
    "                    minindex = index\n",
    "                elif index == minindex:\n",
    "                    res.append(v)\n",
    "        return res                "
   ]
  },
  {
   "cell_type": "code",
   "execution_count": null,
   "metadata": {},
   "outputs": [],
   "source": []
  },
  {
   "cell_type": "markdown",
   "metadata": {},
   "source": [
    "### [Leetcode 387](https://leetcode-cn.com/problems/first-unique-character-in-a-string/)"
   ]
  },
  {
   "cell_type": "code",
   "execution_count": 279,
   "metadata": {},
   "outputs": [],
   "source": [
    "class Solution:\n",
    "    def firstUniqChar(self, s: str) -> int:\n",
    "        new_s = list(s)\n",
    "        s_dict = {}\n",
    "        for v in new_s:\n",
    "            if v in s_dict:\n",
    "                s_dict[v] += 1\n",
    "            else:\n",
    "                s_dict[v] = 1\n",
    "        for i,v in enumerate(new_s):\n",
    "            if s_dict[v] ==1:\n",
    "                return i\n",
    "        return -1"
   ]
  },
  {
   "cell_type": "code",
   "execution_count": 280,
   "metadata": {},
   "outputs": [
    {
     "data": {
      "text/plain": [
       "2"
      ]
     },
     "execution_count": 280,
     "metadata": {},
     "output_type": "execute_result"
    }
   ],
   "source": [
    "Solution().firstUniqChar(\"loveleetcode\")"
   ]
  },
  {
   "cell_type": "code",
   "execution_count": 278,
   "metadata": {},
   "outputs": [
    {
     "data": {
      "text/plain": [
       "['l', 'o', 'v', 'e', 'l', 'e', 'e', 't', 'c', 'o', 'd', 'e']"
      ]
     },
     "execution_count": 278,
     "metadata": {},
     "output_type": "execute_result"
    }
   ],
   "source": [
    "list(\"loveleetcode\")"
   ]
  },
  {
   "cell_type": "code",
   "execution_count": null,
   "metadata": {},
   "outputs": [],
   "source": []
  },
  {
   "cell_type": "markdown",
   "metadata": {},
   "source": [
    "### [Leetcode 204](https://leetcode-cn.com/problems/count-primes/)"
   ]
  },
  {
   "cell_type": "code",
   "execution_count": null,
   "metadata": {},
   "outputs": [],
   "source": []
  },
  {
   "cell_type": "code",
   "execution_count": null,
   "metadata": {},
   "outputs": [],
   "source": []
  },
  {
   "cell_type": "code",
   "execution_count": null,
   "metadata": {},
   "outputs": [],
   "source": []
  },
  {
   "cell_type": "markdown",
   "metadata": {},
   "source": [
    "### [Leetcode 155](https://leetcode-cn.com/problems/min-stack/)"
   ]
  },
  {
   "cell_type": "code",
   "execution_count": 290,
   "metadata": {},
   "outputs": [],
   "source": [
    "class MinStack:\n",
    "\n",
    "    def __init__(self):\n",
    "        self.stack = []\n",
    "        self.min_v = float(\"inf\")\n",
    "\n",
    "\n",
    "    def push(self, val: int) -> None:\n",
    "        self.stack.append(val)\n",
    "        if val < self.min_v:\n",
    "            self.min_v = val\n",
    "\n",
    "\n",
    "    def pop(self) -> None:\n",
    "        self.stack.pop()\n",
    "        if self.stack:\n",
    "            self.min_v = min(self.stack)\n",
    "        else:\n",
    "            self.min_v = float(\"inf\")\n",
    "\n",
    "\n",
    "\n",
    "    def top(self) -> int:\n",
    "        return self.stack[-1]\n",
    "\n",
    "\n",
    "    def getMin(self) -> int:\n",
    "        return self.min_v\n",
    "\n",
    "\n",
    "\n",
    "\n",
    "# Your MinStack object will be instantiated and called as such:\n",
    "# obj = MinStack()\n",
    "# obj.push(val)\n",
    "# obj.pop()\n",
    "# param_3 = obj.top()\n",
    "# param_4 = obj.getMin()"
   ]
  },
  {
   "cell_type": "code",
   "execution_count": null,
   "metadata": {},
   "outputs": [],
   "source": []
  },
  {
   "cell_type": "code",
   "execution_count": null,
   "metadata": {},
   "outputs": [],
   "source": []
  },
  {
   "cell_type": "code",
   "execution_count": null,
   "metadata": {},
   "outputs": [],
   "source": []
  },
  {
   "cell_type": "markdown",
   "metadata": {},
   "source": [
    "### [Leetcode 227](https://leetcode-cn.com/problems/basic-calculator-ii/)"
   ]
  },
  {
   "cell_type": "code",
   "execution_count": null,
   "metadata": {},
   "outputs": [],
   "source": []
  },
  {
   "cell_type": "code",
   "execution_count": null,
   "metadata": {},
   "outputs": [],
   "source": []
  },
  {
   "cell_type": "markdown",
   "metadata": {},
   "source": [
    "### [Offer 24](https://leetcode-cn.com/problems/fan-zhuan-lian-biao-lcof/)"
   ]
  },
  {
   "cell_type": "code",
   "execution_count": 293,
   "metadata": {},
   "outputs": [],
   "source": [
    "# Definition for singly-linked list.\n",
    "class ListNode:\n",
    "    def __init__(self, x):\n",
    "        self.val = x\n",
    "        self.next = None\n",
    "\n",
    "class Solution:\n",
    "    def reverseList(self, head: ListNode) -> ListNode:\n",
    "        prenode = None\n",
    "        curnode = head\n",
    "        while curnode:\n",
    "            nextnode = curnode.next\n",
    "            curnode.next = prenode\n",
    "            prenode = curnode\n",
    "            curnode = nextnode\n",
    "        return prenode"
   ]
  },
  {
   "cell_type": "markdown",
   "metadata": {},
   "source": [
    "递归解题思路:"
   ]
  },
  {
   "cell_type": "code",
   "execution_count": 296,
   "metadata": {},
   "outputs": [],
   "source": [
    "class Solution:\n",
    "    def reverseList(self, head: ListNode) -> ListNode:\n",
    "        if head == None or head.next == None:\n",
    "            return head\n",
    "        cur = self.reverseList(head.next)\n",
    "        head.next.next = head\n",
    "        head.next = None\n",
    "        return cur"
   ]
  },
  {
   "cell_type": "code",
   "execution_count": null,
   "metadata": {},
   "outputs": [],
   "source": []
  },
  {
   "cell_type": "markdown",
   "metadata": {},
   "source": [
    "### [Leetcode book](https://leetcode-cn.com/leetbook/read/top-interview-questions-easy/xnoilh/)\n",
    "\n",
    "[Leetcode 8](https://leetcode-cn.com/problems/string-to-integer-atoi/submissions/)"
   ]
  },
  {
   "cell_type": "code",
   "execution_count": 312,
   "metadata": {},
   "outputs": [],
   "source": [
    "class Solution:\n",
    "    def myAtoi(self, s: str) -> int:\n",
    "        s = s.strip(\" \")\n",
    "        res = 0\n",
    "        sign = 1\n",
    "        if not s:\n",
    "            return 0\n",
    "        if not s[0].isdigit():\n",
    "            if s[0] == \"+\":\n",
    "                sign = 1\n",
    "                s = s[1:]\n",
    "            elif s[0] == \"-\":\n",
    "                sign = -1\n",
    "                s = s[1:]\n",
    "            else:\n",
    "                return res\n",
    "        end = 0\n",
    "        if not s or not s[0].isdigit():\n",
    "            return 0        \n",
    "        for i,v in enumerate(s):\n",
    "            if not v.isdigit():\n",
    "                end = i \n",
    "                break\n",
    "            else:\n",
    "                end += 1\n",
    "        res = sign *int(s[:end])\n",
    "        if res < - 2 **31:\n",
    "            return - 2 **31\n",
    "        if res > 2 **31 -1:\n",
    "            return 2 **31 -1\n",
    "        return res"
   ]
  },
  {
   "cell_type": "code",
   "execution_count": 313,
   "metadata": {},
   "outputs": [
    {
     "data": {
      "text/plain": [
       "-42"
      ]
     },
     "execution_count": 313,
     "metadata": {},
     "output_type": "execute_result"
    }
   ],
   "source": [
    "Solution().myAtoi(\"-42\")"
   ]
  },
  {
   "cell_type": "code",
   "execution_count": null,
   "metadata": {},
   "outputs": [],
   "source": []
  },
  {
   "cell_type": "markdown",
   "metadata": {},
   "source": [
    "### [Leetcode book](https://leetcode-cn.com/leetbook/read/top-interview-questions-easy/xnpvdm/)"
   ]
  },
  {
   "cell_type": "code",
   "execution_count": 324,
   "metadata": {},
   "outputs": [],
   "source": [
    "class Solution:\n",
    "    def countAndSay(self, n: int) -> str:\n",
    "        if n == 1 :\n",
    "            return '1'\n",
    "        if n == 2:\n",
    "            return '11'\n",
    "        tmp = self.countAndSay(n-1)\n",
    "        res = \"\"\n",
    "        count = 1 \n",
    "        head = tmp[0]\n",
    "        for i in tmp[1:]:\n",
    "            if i == head:\n",
    "                count += 1\n",
    "            else:\n",
    "                res += str(count) + head\n",
    "                head = i\n",
    "                count = 1\n",
    "        res += str(count) + head\n",
    "        return res"
   ]
  },
  {
   "cell_type": "code",
   "execution_count": 325,
   "metadata": {},
   "outputs": [],
   "source": [
    "assert Solution().countAndSay(6) == \"312211\""
   ]
  },
  {
   "cell_type": "code",
   "execution_count": 326,
   "metadata": {},
   "outputs": [
    {
     "data": {
      "text/plain": [
       "'312211'"
      ]
     },
     "execution_count": 326,
     "metadata": {},
     "output_type": "execute_result"
    }
   ],
   "source": [
    "Solution().countAndSay(6)"
   ]
  },
  {
   "cell_type": "code",
   "execution_count": 327,
   "metadata": {},
   "outputs": [
    {
     "data": {
      "text/plain": [
       "'111221'"
      ]
     },
     "execution_count": 327,
     "metadata": {},
     "output_type": "execute_result"
    }
   ],
   "source": [
    "Solution().countAndSay(5)"
   ]
  },
  {
   "cell_type": "code",
   "execution_count": null,
   "metadata": {},
   "outputs": [],
   "source": []
  },
  {
   "cell_type": "markdown",
   "metadata": {},
   "source": [
    "### [Leetcode book](https://leetcode-cn.com/leetbook/read/top-interview-questions-easy/xnarn7/)"
   ]
  },
  {
   "cell_type": "code",
   "execution_count": 330,
   "metadata": {},
   "outputs": [],
   "source": [
    "# Definition for singly-linked list.\n",
    "# class ListNode:\n",
    "#     def __init__(self, x):\n",
    "#         self.val = x\n",
    "#         self.next = None\n",
    "\n",
    "class Solution:\n",
    "    def deleteNode(self, node):\n",
    "        \"\"\"\n",
    "        :type node: ListNode\n",
    "        :rtype: void Do not return anything, modify node in-place instead.\n",
    "        \"\"\"\n",
    "        node.val = node.next.val\n",
    "        node.next = node.next.next"
   ]
  },
  {
   "cell_type": "code",
   "execution_count": null,
   "metadata": {},
   "outputs": [],
   "source": []
  },
  {
   "cell_type": "code",
   "execution_count": null,
   "metadata": {},
   "outputs": [],
   "source": []
  },
  {
   "cell_type": "markdown",
   "metadata": {},
   "source": [
    "### [Leetcode 1446](https://leetcode-cn.com/problems/consecutive-characters/)"
   ]
  },
  {
   "cell_type": "code",
   "execution_count": 3,
   "metadata": {},
   "outputs": [],
   "source": [
    "class Solution:\n",
    "    def maxPower(self, s: str) -> int:\n",
    "        maxv, startv = 1, 1\n",
    "        if len(s) == 1:\n",
    "            return maxv\n",
    "        for i in range(1,len(s)):\n",
    "            if s[i] == s[i-1]:\n",
    "                startv += 1\n",
    "                maxv = max(maxv, startv)\n",
    "            else:\n",
    "                startv = 1\n",
    "        return maxv\n",
    "                "
   ]
  },
  {
   "cell_type": "code",
   "execution_count": null,
   "metadata": {},
   "outputs": [],
   "source": []
  },
  {
   "cell_type": "markdown",
   "metadata": {},
   "source": [
    "### [Leetcode 384](https://leetcode-cn.com/leetbook/read/top-interview-questions-easy/xn6gq1/)"
   ]
  },
  {
   "cell_type": "code",
   "execution_count": 7,
   "metadata": {},
   "outputs": [],
   "source": [
    "from typing import List\n",
    "class Solution:\n",
    "\n",
    "    def __init__(self, nums: List[int]):\n",
    "        self.nums = nums\n",
    "\n",
    "\n",
    "    def reset(self) -> List[int]:\n",
    "        return self.nums\n",
    "\n",
    "\n",
    "    def shuffle(self) -> List[int]:\n",
    "        old = self.nums.copy()\n",
    "        new = []\n",
    "        while old:\n",
    "            ch = random.choice(old)\n",
    "            index = old.index(ch)\n",
    "            old.pop(index)\n",
    "            new.append(ch)\n",
    "        return new        \n",
    "\n",
    "# Your Solution object will be instantiated and called as such:\n",
    "# obj = Solution(nums)\n",
    "# param_1 = obj.reset()\n",
    "# param_2 = obj.shuffle()"
   ]
  },
  {
   "cell_type": "code",
   "execution_count": null,
   "metadata": {},
   "outputs": [],
   "source": []
  },
  {
   "cell_type": "code",
   "execution_count": null,
   "metadata": {},
   "outputs": [],
   "source": []
  },
  {
   "cell_type": "markdown",
   "metadata": {},
   "source": [
    "### [Leetcode book](https://leetcode-cn.com/leetbook/read/top-interview-questions-easy/xnc5vg/)"
   ]
  },
  {
   "cell_type": "code",
   "execution_count": 17,
   "metadata": {},
   "outputs": [],
   "source": [
    "class Solution:\n",
    "    def reverseBits(self, n: int) -> int:\n",
    "        tmp = 0\n",
    "        for i in range(32):\n",
    "            tmp <<= 1\n",
    "            tmp = tmp | (n&1)\n",
    "            n >>= 1\n",
    "        return tmp\n",
    "    "
   ]
  },
  {
   "cell_type": "markdown",
   "metadata": {},
   "source": [
    "### [字母异位词分组](https://leetcode-cn.com/leetbook/read/hash-table/xxo631/)"
   ]
  },
  {
   "cell_type": "code",
   "execution_count": 19,
   "metadata": {},
   "outputs": [
    {
     "data": {
      "text/plain": [
       "'bcd'"
      ]
     },
     "execution_count": 19,
     "metadata": {},
     "output_type": "execute_result"
    }
   ],
   "source": [
    "\"\".join(sorted(\"bcd\",key = str.lower))"
   ]
  },
  {
   "cell_type": "code",
   "execution_count": 21,
   "metadata": {},
   "outputs": [],
   "source": [
    "class Solution:\n",
    "    def groupAnagrams(self, strs: List[str]) -> List[List[str]]:\n",
    "        res = []\n",
    "        maps = {}\n",
    "        for i in strs:\n",
    "            tmp = \"\".join(sorted(i,key = str.lower))\n",
    "            if tmp not in maps:\n",
    "                maps[tmp] = [i]\n",
    "            else:\n",
    "                maps[tmp].append(i)\n",
    "        for key in maps:\n",
    "            res.append(maps[key])\n",
    "        return res\n",
    "        "
   ]
  },
  {
   "cell_type": "code",
   "execution_count": null,
   "metadata": {},
   "outputs": [],
   "source": []
  },
  {
   "cell_type": "markdown",
   "metadata": {},
   "source": []
  },
  {
   "cell_type": "code",
   "execution_count": null,
   "metadata": {},
   "outputs": [],
   "source": [
    "class Solution:\n",
    "    def groupAnagrams(self, strs: List[str]) -> List[List[str]]:\n",
    "        res = []\n",
    "        maps = {}\n",
    "        for i in strs:\n",
    "            tmp = \"\".join(sorted(i,key = str.lower))\n",
    "            if tmp not in maps:\n",
    "                maps[tmp] = [i]\n",
    "            else:\n",
    "                maps[tmp].append(i)\n",
    "        for key in maps:\n",
    "            res.append(maps[key])\n",
    "        return res\n",
    "        "
   ]
  },
  {
   "cell_type": "code",
   "execution_count": null,
   "metadata": {},
   "outputs": [],
   "source": []
  },
  {
   "cell_type": "markdown",
   "metadata": {},
   "source": [
    "### [Linked List](https://leetcode-cn.com/leetbook/read/linked-list/jy291/)\n",
    "### [Leetcode 707](https://leetcode-cn.com/problems/design-linked-list/solution/)"
   ]
  },
  {
   "cell_type": "code",
   "execution_count": null,
   "metadata": {},
   "outputs": [],
   "source": []
  },
  {
   "cell_type": "code",
   "execution_count": null,
   "metadata": {},
   "outputs": [],
   "source": []
  },
  {
   "cell_type": "markdown",
   "metadata": {},
   "source": [
    "### [Leetcode 203](https://leetcode-cn.com/problems/remove-linked-list-elements/submissions/)"
   ]
  },
  {
   "cell_type": "code",
   "execution_count": 115,
   "metadata": {},
   "outputs": [],
   "source": [
    "# Definition for singly-linked list.\n",
    "class ListNode:\n",
    "    def __init__(self, val=0, next=None):\n",
    "        self.val = val\n",
    "        self.next = next\n",
    "\n",
    "class Solution:\n",
    "    def removeElements(self, head: ListNode, val: int) -> ListNode:\n",
    "        if not head:\n",
    "            return head\n",
    "        pre = head\n",
    "        cur = head.next\n",
    "        while cur:\n",
    "            if cur.val == val:\n",
    "                pre.next = cur.next\n",
    "                cur = cur.next\n",
    "            else:\n",
    "                pre = cur\n",
    "                cur = cur.next\n",
    "        if head.val == val:\n",
    "            if not head.next:\n",
    "                return \n",
    "            else:\n",
    "                return head.next            \n",
    "        return head\n",
    "     "
   ]
  },
  {
   "cell_type": "code",
   "execution_count": null,
   "metadata": {},
   "outputs": [],
   "source": []
  },
  {
   "cell_type": "code",
   "execution_count": null,
   "metadata": {},
   "outputs": [],
   "source": []
  }
 ],
 "metadata": {
  "kernelspec": {
   "display_name": "Python 3",
   "language": "python",
   "name": "python3"
  },
  "language_info": {
   "codemirror_mode": {
    "name": "ipython",
    "version": 3
   },
   "file_extension": ".py",
   "mimetype": "text/x-python",
   "name": "python",
   "nbconvert_exporter": "python",
   "pygments_lexer": "ipython3",
   "version": "3.7.7"
  }
 },
 "nbformat": 4,
 "nbformat_minor": 4
}
