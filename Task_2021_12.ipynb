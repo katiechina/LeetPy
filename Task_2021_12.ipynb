{
 "cells": [
  {
   "cell_type": "markdown",
   "metadata": {},
   "source": [
    "### [Leetcode 485](https://leetcode-cn.com/problems/max-consecutive-ones/) "
   ]
  },
  {
   "cell_type": "code",
   "execution_count": 1,
   "metadata": {},
   "outputs": [],
   "source": [
    "from typing import List"
   ]
  },
  {
   "cell_type": "code",
   "execution_count": 14,
   "metadata": {},
   "outputs": [],
   "source": [
    "class Solution:\n",
    "    def findMaxConsecutiveOnes(self, nums: List[int]) -> int:\n",
    "        res = 0\n",
    "        start = 0        \n",
    "        nums.append(0)\n",
    "        nums.insert(0,0)\n",
    "        for i in range(len(nums)):\n",
    "            if nums[i] == 0:\n",
    "                res = max(res, i - start - 1)\n",
    "                start = i\n",
    "        return res"
   ]
  },
  {
   "cell_type": "code",
   "execution_count": 15,
   "metadata": {},
   "outputs": [],
   "source": [
    "assert Solution().findMaxConsecutiveOnes([1,0,1,1,0,1]) == 2"
   ]
  },
  {
   "cell_type": "code",
   "execution_count": 16,
   "metadata": {},
   "outputs": [],
   "source": [
    "assert Solution().findMaxConsecutiveOnes([1,1,0,1,1,1]) == 3"
   ]
  },
  {
   "cell_type": "code",
   "execution_count": null,
   "metadata": {},
   "outputs": [],
   "source": []
  },
  {
   "cell_type": "markdown",
   "metadata": {},
   "source": [
    "### [Leetcode 238](https://leetcode-cn.com/problems/product-of-array-except-self/)"
   ]
  },
  {
   "cell_type": "code",
   "execution_count": 24,
   "metadata": {},
   "outputs": [],
   "source": [
    "from functools import reduce\n",
    "\n",
    "class Solution:\n",
    "    def productExceptSelf(self, nums: List[int]) -> List[int]:\n",
    "        res = len(nums) * [1]\n",
    "        for i in  range(len(nums)):\n",
    "            if i == 0:\n",
    "                res[i] = reduce(lambda x,y:x*y,nums[i+1:])\n",
    "            elif i == len(nums)-1:\n",
    "                res[i] = reduce(lambda x,y:x*y,nums[:i])\n",
    "            else:\n",
    "                res[i] = reduce(lambda x,y:x*y,\n",
    "                            nums[:i]) * reduce(lambda x,y:x*y,nums[i+1:])\n",
    "        return res                    "
   ]
  },
  {
   "cell_type": "code",
   "execution_count": 41,
   "metadata": {},
   "outputs": [
    {
     "data": {
      "text/plain": [
       "[24, 12, 8, 6]"
      ]
     },
     "execution_count": 41,
     "metadata": {},
     "output_type": "execute_result"
    }
   ],
   "source": [
    "Solution().productExceptSelf([1,2,3,4])"
   ]
  },
  {
   "cell_type": "code",
   "execution_count": 42,
   "metadata": {},
   "outputs": [],
   "source": [
    "assert Solution().productExceptSelf([1,2,3,4]) == [24,12,8,6]"
   ]
  },
  {
   "cell_type": "markdown",
   "metadata": {},
   "source": [
    "18 / 20 个通过测试用例"
   ]
  },
  {
   "cell_type": "code",
   "execution_count": 31,
   "metadata": {},
   "outputs": [],
   "source": [
    "class Solution:\n",
    "    def productExceptSelf(self, nums: List[int]) -> List[int]:\n",
    "        from functools import reduce\n",
    "        n = len(nums)\n",
    "        res = n * [1]\n",
    "        tmp = 0\n",
    "        for i in range(n):\n",
    "            tmp = nums.pop(i)\n",
    "            res[i] = reduce(lambda x,y:x*y, nums)\n",
    "            nums.insert(i,tmp)\n",
    "        return res"
   ]
  },
  {
   "cell_type": "markdown",
   "metadata": {},
   "source": [
    "18 / 20 个通过测试用例"
   ]
  },
  {
   "cell_type": "code",
   "execution_count": 40,
   "metadata": {},
   "outputs": [],
   "source": [
    "class Solution:\n",
    "    def productExceptSelf(self, nums: List[int]) -> List[int]:\n",
    "        n = len(nums)\n",
    "        res = n * [1]\n",
    "        for i in range(1,n):\n",
    "            res[i] = nums[i-1] * res[i-1]\n",
    "        R = 1\n",
    "        for i in range(n-1,-1,-1):\n",
    "            res[i] = res[i] * R\n",
    "            R *= nums[i]\n",
    "        return res        "
   ]
  },
  {
   "cell_type": "markdown",
   "metadata": {},
   "source": [
    "从左向右算一遍，再从右向左算一遍"
   ]
  },
  {
   "cell_type": "code",
   "execution_count": null,
   "metadata": {},
   "outputs": [],
   "source": []
  },
  {
   "cell_type": "markdown",
   "metadata": {},
   "source": [
    "### [Leetcode 73](https://leetcode-cn.com/problems/set-matrix-zeroes/)"
   ]
  },
  {
   "cell_type": "code",
   "execution_count": 50,
   "metadata": {},
   "outputs": [],
   "source": [
    "class Solution:\n",
    "    def setZeroes(self, matrix: List[List[int]]) -> None:\n",
    "        \"\"\"\n",
    "        Do not return anything, modify matrix in-place instead.\n",
    "        \"\"\"\n",
    "        m = len(matrix)\n",
    "        n = len(matrix[0])\n",
    "        row_0 = []\n",
    "        line_0 = []\n",
    "        for i in range(m):\n",
    "            for j in range(n):\n",
    "                if matrix[i][j] == 0:\n",
    "                    row_0.append(i)\n",
    "                    line_0.append(j)\n",
    "        for row in row_0:\n",
    "            matrix[row] = [0]*n\n",
    "        for line in line_0:\n",
    "            for row in matrix:\n",
    "                row[line] = 0"
   ]
  },
  {
   "cell_type": "code",
   "execution_count": 55,
   "metadata": {},
   "outputs": [],
   "source": [
    "matrix = [[0,1,2,0],[3,4,5,2],[1,3,1,5]]\n",
    "Solution().setZeroes(matrix)\n",
    "# matrix\n",
    "assert matrix == [[0,0,0,0],[0,4,5,0],[0,3,1,0]]"
   ]
  },
  {
   "cell_type": "markdown",
   "metadata": {},
   "source": [
    "O(1)空间，可以把第一行和第一列作为标志位"
   ]
  },
  {
   "cell_type": "code",
   "execution_count": 56,
   "metadata": {},
   "outputs": [],
   "source": [
    "class Solution:\n",
    "    def setZeroes(self, matrix: List[List[int]]) -> None:\n",
    "        \"\"\"\n",
    "        Do not return anything, modify matrix in-place instead.\n",
    "        \"\"\"\n",
    "        m = len(matrix)\n",
    "        n = len(matrix[0])\n",
    "        row_flag = False\n",
    "        line_flag = False\n",
    "        for i in matrix[0]:\n",
    "            if i == 0:\n",
    "                row_flag = True\n",
    "                break\n",
    "        for i in range(m):\n",
    "            if matrix[i][0] == 0:\n",
    "                line_flag = True\n",
    "                break\n",
    "        #把第一行和第一列作为标志位\n",
    "        for i in range(1,m):\n",
    "            for j in range(1,n):\n",
    "                if matrix[i][j] == 0:\n",
    "                    matrix[0][j] = matrix[i][0] = 0\n",
    "        #设置0\n",
    "        for i in range(1,m):\n",
    "            for j in range(1,n):\n",
    "                if matrix[i][0] == 0 or matrix[0][j] == 0:\n",
    "                    matrix[i][j] = 0\n",
    "        if row_flag:\n",
    "            matrix[0] = n * [0]\n",
    "        if line_flag:\n",
    "            for i in range(m):\n",
    "                matrix[i][0] = 0"
   ]
  },
  {
   "cell_type": "code",
   "execution_count": null,
   "metadata": {},
   "outputs": [],
   "source": []
  },
  {
   "cell_type": "markdown",
   "metadata": {},
   "source": [
    "### [Leetcode 119](https://leetcode-cn.com/problems/pascals-triangle-ii/)"
   ]
  },
  {
   "cell_type": "code",
   "execution_count": 58,
   "metadata": {},
   "outputs": [],
   "source": [
    "class Solution:\n",
    "    def getRow(self, rowIndex: int) -> List[int]:\n",
    "        if rowIndex == 0:\n",
    "            return [1]\n",
    "        if rowIndex == 1:\n",
    "            return [1,1]\n",
    "        if rowIndex >1 :\n",
    "            res = [1] * (rowIndex+1)\n",
    "            above = self.getRow(rowIndex-1)\n",
    "            for i in  range(1,rowIndex):\n",
    "                res[i] = above[i-1] + above[i]\n",
    "            return res"
   ]
  },
  {
   "cell_type": "code",
   "execution_count": 59,
   "metadata": {},
   "outputs": [],
   "source": [
    "assert Solution().getRow(3)  == [1,3,3,1]"
   ]
  },
  {
   "cell_type": "code",
   "execution_count": null,
   "metadata": {},
   "outputs": [],
   "source": []
  },
  {
   "cell_type": "markdown",
   "metadata": {},
   "source": [
    "### [Leetcode 561](https://leetcode-cn.com/problems/array-partition-i/)"
   ]
  },
  {
   "cell_type": "code",
   "execution_count": 60,
   "metadata": {},
   "outputs": [],
   "source": [
    "class Solution:\n",
    "    def arrayPairSum(self, nums: List[int]) -> int:\n",
    "        nums.sort()\n",
    "        sum = 0\n",
    "        for i,v in enumerate(nums):\n",
    "            if i%2 == 0:\n",
    "                sum += v\n",
    "        return sum"
   ]
  },
  {
   "cell_type": "code",
   "execution_count": null,
   "metadata": {},
   "outputs": [],
   "source": []
  },
  {
   "cell_type": "markdown",
   "metadata": {},
   "source": [
    "### [Leetcode 34](https://leetcode-cn.com/problems/find-first-and-last-position-of-element-in-sorted-array/)"
   ]
  },
  {
   "cell_type": "code",
   "execution_count": 61,
   "metadata": {},
   "outputs": [],
   "source": [
    "class Solution:\n",
    "    def searchRange(self, nums: List[int], target: int) -> List[int]:\n",
    "        n = len(nums)\n",
    "        low = 0\n",
    "        high = n-1\n",
    "        res = [-1 , -1]\n",
    "        while low <= high:\n",
    "            mid = (low+high)//2\n",
    "            if nums[mid] < target:\n",
    "                low = mid +1\n",
    "            elif nums[mid] > target:\n",
    "                high = mid -1\n",
    "            elif nums[mid] == target:\n",
    "                while nums[high] > target:\n",
    "                    high -= 1\n",
    "                while nums[low] < target:\n",
    "                    low += 1\n",
    "                return [low, high]\n",
    "        return [-1, -1]"
   ]
  },
  {
   "cell_type": "code",
   "execution_count": 62,
   "metadata": {},
   "outputs": [],
   "source": [
    "assert Solution().searchRange([5,7,7,8,8,10],8) == [3,4]"
   ]
  },
  {
   "cell_type": "code",
   "execution_count": null,
   "metadata": {},
   "outputs": [],
   "source": []
  },
  {
   "cell_type": "markdown",
   "metadata": {},
   "source": [
    "### [Leetcode 56](https://leetcode-cn.com/problems/merge-intervals/)"
   ]
  },
  {
   "cell_type": "code",
   "execution_count": 138,
   "metadata": {},
   "outputs": [],
   "source": [
    "class Solution:\n",
    "    def merge(self, intervals: List[List[int]]) -> List[List[int]]:\n",
    "        intervals.sort()  \n",
    "        res = []\n",
    "        for interval in intervals:\n",
    "            if not res or res[-1][1] < interval[0] :\n",
    "                res.append(interval)\n",
    "            else:\n",
    "                res[-1][1] = max(interval[1], res[-1][1])\n",
    "        return res"
   ]
  },
  {
   "cell_type": "code",
   "execution_count": 139,
   "metadata": {},
   "outputs": [
    {
     "data": {
      "text/plain": [
       "[[1, 5]]"
      ]
     },
     "execution_count": 139,
     "metadata": {},
     "output_type": "execute_result"
    }
   ],
   "source": [
    "Solution().merge([[1,4],[4,5]])"
   ]
  },
  {
   "cell_type": "code",
   "execution_count": 140,
   "metadata": {},
   "outputs": [
    {
     "data": {
      "text/plain": [
       "[[1, 6], [8, 10], [15, 18], [19, 20]]"
      ]
     },
     "execution_count": 140,
     "metadata": {},
     "output_type": "execute_result"
    }
   ],
   "source": [
    "Solution().merge([[1,3],[2,6],[8,10],[15,18],[19,20]])"
   ]
  },
  {
   "cell_type": "code",
   "execution_count": 141,
   "metadata": {},
   "outputs": [
    {
     "data": {
      "text/plain": [
       "[[0, 4]]"
      ]
     },
     "execution_count": 141,
     "metadata": {},
     "output_type": "execute_result"
    }
   ],
   "source": [
    "Solution().merge([[1,4],[0,4]])"
   ]
  },
  {
   "cell_type": "code",
   "execution_count": 142,
   "metadata": {},
   "outputs": [
    {
     "data": {
      "text/plain": [
       "[[0, 0], [1, 4], [5, 6]]"
      ]
     },
     "execution_count": 142,
     "metadata": {},
     "output_type": "execute_result"
    }
   ],
   "source": [
    "Solution().merge([[5,5],[1,2],[2,4],[2,3],[4,4],[5,5],[2,3],[5,6],[0,0],[5,6]])"
   ]
  },
  {
   "cell_type": "code",
   "execution_count": null,
   "metadata": {},
   "outputs": [],
   "source": []
  },
  {
   "cell_type": "code",
   "execution_count": null,
   "metadata": {},
   "outputs": [],
   "source": []
  },
  {
   "cell_type": "markdown",
   "metadata": {},
   "source": [
    "### [Leetcode 162](https://leetcode-cn.com/problems/find-peak-element/)"
   ]
  },
  {
   "cell_type": "code",
   "execution_count": 143,
   "metadata": {},
   "outputs": [],
   "source": [
    "class Solution:\n",
    "    def findPeakElement(self, nums: List[int]) -> int:\n",
    "        mx = max(nums)\n",
    "        return nums.index(mx)        "
   ]
  },
  {
   "cell_type": "code",
   "execution_count": 166,
   "metadata": {},
   "outputs": [],
   "source": [
    "class Solution:\n",
    "    def findPeakElement(self, nums: List[int]) -> int:\n",
    "        low = 0\n",
    "        high = len(nums)-1\n",
    "        while low < high:\n",
    "            mid = (low+high)//2\n",
    "            if nums[mid] > nums[mid+1]:\n",
    "                high = mid\n",
    "            else: \n",
    "                low = mid + 1\n",
    "        return high\n",
    "                    "
   ]
  },
  {
   "cell_type": "code",
   "execution_count": 167,
   "metadata": {},
   "outputs": [
    {
     "data": {
      "text/plain": [
       "2"
      ]
     },
     "execution_count": 167,
     "metadata": {},
     "output_type": "execute_result"
    }
   ],
   "source": [
    "Solution().findPeakElement([1,2,3,1])"
   ]
  },
  {
   "cell_type": "code",
   "execution_count": 168,
   "metadata": {},
   "outputs": [
    {
     "data": {
      "text/plain": [
       "2"
      ]
     },
     "execution_count": 168,
     "metadata": {},
     "output_type": "execute_result"
    }
   ],
   "source": [
    "Solution().findPeakElement([3,2,3,1])"
   ]
  },
  {
   "cell_type": "code",
   "execution_count": null,
   "metadata": {},
   "outputs": [],
   "source": []
  },
  {
   "cell_type": "markdown",
   "metadata": {},
   "source": [
    "### [Leetcode 852](https://leetcode-cn.com/problems/peak-index-in-a-mountain-array/)"
   ]
  },
  {
   "cell_type": "code",
   "execution_count": 169,
   "metadata": {},
   "outputs": [],
   "source": [
    "class Solution:\n",
    "    def peakIndexInMountainArray(self, arr: List[int]) -> int:\n",
    "        low = 0\n",
    "        high = len(arr)\n",
    "        while low < high:\n",
    "            mid = (low + high)//2\n",
    "            if arr[mid] < arr[mid+1]:\n",
    "                low = mid +1\n",
    "            else:\n",
    "                high = mid\n",
    "        return high"
   ]
  },
  {
   "cell_type": "code",
   "execution_count": null,
   "metadata": {},
   "outputs": [],
   "source": []
  },
  {
   "cell_type": "markdown",
   "metadata": {},
   "source": [
    "### [Leetcode 744](https://leetcode-cn.com/problems/find-smallest-letter-greater-than-target/submissions/)"
   ]
  },
  {
   "cell_type": "code",
   "execution_count": null,
   "metadata": {},
   "outputs": [],
   "source": [
    "# 二分查找"
   ]
  },
  {
   "cell_type": "code",
   "execution_count": 188,
   "metadata": {},
   "outputs": [],
   "source": [
    "class Solution:\n",
    "    def nextGreatestLetter(self, letters: List[str], target: str) -> str:\n",
    "        if target >= letters[-1] or target < letters[0]:\n",
    "            return letters[0]\n",
    "        low = 0\n",
    "        high = len(letters) -1\n",
    "        while low < high:\n",
    "            mid = (low + high)//2\n",
    "            if letters[mid] <= target:\n",
    "                low = mid +1\n",
    "            else:\n",
    "                high = mid \n",
    "        return letters[high]\n"
   ]
  },
  {
   "cell_type": "code",
   "execution_count": 189,
   "metadata": {},
   "outputs": [
    {
     "data": {
      "text/plain": [
       "'c'"
      ]
     },
     "execution_count": 189,
     "metadata": {},
     "output_type": "execute_result"
    }
   ],
   "source": [
    "Solution().nextGreatestLetter([\"c\",\"f\",\"j\"],\"a\")"
   ]
  },
  {
   "cell_type": "code",
   "execution_count": 190,
   "metadata": {},
   "outputs": [
    {
     "data": {
      "text/plain": [
       "'f'"
      ]
     },
     "execution_count": 190,
     "metadata": {},
     "output_type": "execute_result"
    }
   ],
   "source": [
    "Solution().nextGreatestLetter([\"c\",\"f\",\"j\"],\"c\")"
   ]
  },
  {
   "cell_type": "code",
   "execution_count": null,
   "metadata": {},
   "outputs": [],
   "source": []
  },
  {
   "cell_type": "markdown",
   "metadata": {},
   "source": [
    "### [Leetcode 367](https://leetcode-cn.com/problems/valid-perfect-square/)"
   ]
  },
  {
   "cell_type": "code",
   "execution_count": 191,
   "metadata": {},
   "outputs": [],
   "source": [
    "# 二分查找"
   ]
  },
  {
   "cell_type": "code",
   "execution_count": 198,
   "metadata": {},
   "outputs": [],
   "source": [
    "class Solution:\n",
    "    def isPerfectSquare(self, num: int) -> bool:\n",
    "        if num == 1:\n",
    "            return True\n",
    "        low = 1\n",
    "        high = num -1\n",
    "        while low <= high:\n",
    "            mid = (low + high)//2\n",
    "            if mid * mid > num:\n",
    "                high = mid -1\n",
    "            elif mid * mid < num:\n",
    "                low = mid +1\n",
    "            else:\n",
    "                return True\n",
    "        return False    "
   ]
  },
  {
   "cell_type": "code",
   "execution_count": 199,
   "metadata": {},
   "outputs": [
    {
     "data": {
      "text/plain": [
       "True"
      ]
     },
     "execution_count": 199,
     "metadata": {},
     "output_type": "execute_result"
    }
   ],
   "source": [
    "Solution().isPerfectSquare(9)"
   ]
  },
  {
   "cell_type": "code",
   "execution_count": null,
   "metadata": {},
   "outputs": [],
   "source": []
  },
  {
   "cell_type": "code",
   "execution_count": null,
   "metadata": {},
   "outputs": [],
   "source": []
  },
  {
   "cell_type": "markdown",
   "metadata": {},
   "source": [
    "### [Leetcode 925](https://leetcode-cn.com/problems/long-pressed-name/)"
   ]
  },
  {
   "cell_type": "code",
   "execution_count": 201,
   "metadata": {},
   "outputs": [],
   "source": [
    "class Solution:\n",
    "    def isLongPressedName(self, name: str, typed: str) -> bool:\n",
    "        tmp = 0\n",
    "        while name:\n",
    "            if not typed:\n",
    "                return False\n",
    "            if name[0] == typed[0]:\n",
    "                tmp = name[0]\n",
    "                name = name[1:]\n",
    "                typed = typed[1:]\n",
    "            else:\n",
    "                if typed[0] == tmp:\n",
    "                    typed = typed[1:]\n",
    "                else:\n",
    "                    return False\n",
    "        if typed.strip(tmp):\n",
    "            return False\n",
    "        return True"
   ]
  },
  {
   "cell_type": "code",
   "execution_count": null,
   "metadata": {},
   "outputs": [],
   "source": []
  },
  {
   "cell_type": "markdown",
   "metadata": {},
   "source": [
    "### [Leetcode 844](https://leetcode-cn.com/problems/backspace-string-compare/)"
   ]
  },
  {
   "cell_type": "code",
   "execution_count": 213,
   "metadata": {},
   "outputs": [],
   "source": [
    "class Solution(object):\n",
    "    def backspaceCompare(self, S, T):\n",
    "        \"\"\"\n",
    "        :type S: str\n",
    "        :type T: str\n",
    "        :rtype: bool\n",
    "        \"\"\"\n",
    "        if self.backsapce(S) == self.backsapce(T):\n",
    "            return True\n",
    "        return False\n",
    "    def backsapce(self,s):\n",
    "        if \"#\" not in s:\n",
    "            return s\n",
    "        new_s = ''\n",
    "        for i in s:\n",
    "            if new_s == \"\" and i==\"#\":\n",
    "                continue\n",
    "            elif new_s != \"\" and i ==\"#\":\n",
    "                new_s = new_s[:-1]\n",
    "            elif i!=\"#\":\n",
    "                new_s = new_s + i\n",
    "        return new_s"
   ]
  },
  {
   "cell_type": "code",
   "execution_count": 214,
   "metadata": {},
   "outputs": [
    {
     "data": {
      "text/plain": [
       "False"
      ]
     },
     "execution_count": 214,
     "metadata": {},
     "output_type": "execute_result"
    }
   ],
   "source": [
    "Solution().backspaceCompare(\"xywrrmp\", \"xywrrm#p\")"
   ]
  },
  {
   "cell_type": "code",
   "execution_count": null,
   "metadata": {},
   "outputs": [],
   "source": []
  },
  {
   "cell_type": "code",
   "execution_count": null,
   "metadata": {},
   "outputs": [],
   "source": []
  },
  {
   "cell_type": "markdown",
   "metadata": {},
   "source": [
    "### [Leetcode 705](https://leetcode-cn.com/problems/design-hashset/)"
   ]
  },
  {
   "cell_type": "code",
   "execution_count": 215,
   "metadata": {},
   "outputs": [],
   "source": [
    "class MyHashSet:\n",
    "\n",
    "    def __init__(self):\n",
    "        self.hashset = []\n",
    "\n",
    "\n",
    "    def add(self, key: int) -> None:\n",
    "        if key not in self.hashset:\n",
    "            self.hashset.append(key)\n",
    "        return self.hashset\n",
    "\n",
    "\n",
    "    def remove(self, key: int) -> None:\n",
    "        if key in self.hashset:\n",
    "            self.hashset.pop(self.hashset.index(key))\n",
    "            return self.hashset\n",
    "\n",
    "\n",
    "    def contains(self, key: int) -> bool:\n",
    "        if key in self.hashset:\n",
    "            return True\n",
    "        return False\n",
    "\n",
    "\n",
    "\n",
    "# Your MyHashSet object will be instantiated and called as such:\n",
    "# obj = MyHashSet()\n",
    "# obj.add(key)\n",
    "# obj.remove(key)\n",
    "# param_3 = obj.contains(key)"
   ]
  },
  {
   "cell_type": "code",
   "execution_count": null,
   "metadata": {},
   "outputs": [],
   "source": []
  },
  {
   "cell_type": "code",
   "execution_count": null,
   "metadata": {},
   "outputs": [],
   "source": []
  },
  {
   "cell_type": "markdown",
   "metadata": {},
   "source": [
    "### [Leetcode 706](https://leetcode-cn.com/problems/design-hashmap/)"
   ]
  },
  {
   "cell_type": "code",
   "execution_count": 217,
   "metadata": {},
   "outputs": [],
   "source": [
    "class MyHashMap:\n",
    "\n",
    "    def __init__(self):\n",
    "        self.hashmap = []\n",
    "\n",
    "\n",
    "    def put(self, key: int, value: int) -> None:\n",
    "        if key not in [i[0] for i in self.hashmap]:\n",
    "            self.hashmap.append([key,value])\n",
    "        else:\n",
    "            index = [i[0] for i in self.hashmap].index(key)\n",
    "            self.hashmap[index] = [key,value]\n",
    "\n",
    "\n",
    "    def get(self, key: int) -> int:\n",
    "        if key in [i[0] for i in self.hashmap]:\n",
    "            index = [i[0] for i in self.hashmap].index(key)\n",
    "            return  self.hashmap[index][1]\n",
    "        return -1\n",
    "\n",
    "    def remove(self, key: int) -> None:\n",
    "        if key in [i[0] for i in self.hashmap]:\n",
    "            index = [i[0] for i in self.hashmap].index(key)\n",
    "            self.hashmap.pop(index)\n",
    "\n",
    "\n",
    "\n",
    "# Your MyHashMap object will be instantiated and called as such:\n",
    "# obj = MyHashMap()\n",
    "# obj.put(key,value)\n",
    "# param_2 = obj.get(key)\n",
    "# obj.remove(key)"
   ]
  },
  {
   "cell_type": "code",
   "execution_count": null,
   "metadata": {},
   "outputs": [],
   "source": []
  },
  {
   "cell_type": "code",
   "execution_count": null,
   "metadata": {},
   "outputs": [],
   "source": []
  },
  {
   "cell_type": "markdown",
   "metadata": {},
   "source": [
    "### [Leetcode 219](https://leetcode-cn.com/problems/contains-duplicate-ii/)"
   ]
  },
  {
   "cell_type": "code",
   "execution_count": 218,
   "metadata": {},
   "outputs": [],
   "source": [
    "class Solution:\n",
    "    def containsNearbyDuplicate(self, nums: List[int], k: int) -> bool:\n",
    "        n = len(nums)\n",
    "        for i in range(n):\n",
    "            for j in range(1,k+1):\n",
    "                if i+j < n:\n",
    "                    if nums[i] ==nums[i+j]:\n",
    "                        return True\n",
    "        return False"
   ]
  },
  {
   "cell_type": "markdown",
   "metadata": {},
   "source": [
    "以上超时，看了评论考虑用hashset+滑动窗口解题"
   ]
  },
  {
   "cell_type": "code",
   "execution_count": 220,
   "metadata": {},
   "outputs": [],
   "source": [
    "class Solution:\n",
    "    def containsNearbyDuplicate(self, nums: List[int], k: int) -> bool:\n",
    "        n = len(nums)\n",
    "        hashset = set()\n",
    "        for i in range(n):\n",
    "            if nums[i] in hashset:\n",
    "                return True\n",
    "            hashset.add(nums[i])\n",
    "            if i - k >= 0:\n",
    "                hashset.remove(nums[i-k])\n",
    "        return False"
   ]
  },
  {
   "cell_type": "code",
   "execution_count": null,
   "metadata": {},
   "outputs": [],
   "source": []
  },
  {
   "cell_type": "markdown",
   "metadata": {},
   "source": [
    "### [Leetcode 220](https://leetcode-cn.com/problems/contains-duplicate-iii/)"
   ]
  },
  {
   "cell_type": "code",
   "execution_count": 237,
   "metadata": {},
   "outputs": [],
   "source": [
    "class Solution:\n",
    "    def containsNearbyAlmostDuplicate(self, nums: List[int], k: int, t: int) -> bool:\n",
    "        n = len(nums)\n",
    "        window = set()\n",
    "        for i in range(n):\n",
    "            for j in range(nums[i]-t, nums[i]+t+1):\n",
    "                if j in window:\n",
    "                    return True\n",
    "            window.add(nums[i])\n",
    "            if i-k >= 0:\n",
    "                window.remove(nums[i-k])\n",
    "        return False            "
   ]
  },
  {
   "cell_type": "code",
   "execution_count": 238,
   "metadata": {},
   "outputs": [
    {
     "data": {
      "text/plain": [
       "True"
      ]
     },
     "execution_count": 238,
     "metadata": {},
     "output_type": "execute_result"
    }
   ],
   "source": [
    "Solution().containsNearbyAlmostDuplicate(nums=[1,2,3,1], k = 3, t = 0)"
   ]
  },
  {
   "cell_type": "markdown",
   "metadata": {},
   "source": [
    "超出时间限制"
   ]
  },
  {
   "cell_type": "code",
   "execution_count": 249,
   "metadata": {},
   "outputs": [],
   "source": [
    "class Solution:\n",
    "    def containsNearbyAlmostDuplicate(self, nums: List[int], k: int, t: int) -> bool:\n",
    "        n = len(nums)\n",
    "        window = set()\n",
    "        for i in range(n):\n",
    "            for v in window:\n",
    "                if nums[i] - v <= t and nums[i]-v >= -t:\n",
    "                    return True\n",
    "\n",
    "            window.add(nums[i])\n",
    "            if i-k >= 0:\n",
    "                window.remove(nums[i-k])\n",
    "        return False   "
   ]
  },
  {
   "cell_type": "code",
   "execution_count": 250,
   "metadata": {},
   "outputs": [
    {
     "data": {
      "text/plain": [
       "True"
      ]
     },
     "execution_count": 250,
     "metadata": {},
     "output_type": "execute_result"
    }
   ],
   "source": [
    "Solution().containsNearbyAlmostDuplicate(nums=[1,2,3,1], k = 3, t = 0)"
   ]
  },
  {
   "cell_type": "code",
   "execution_count": 251,
   "metadata": {},
   "outputs": [],
   "source": [
    "assert Solution().containsNearbyAlmostDuplicate(nums=[1,5,9,1,5,9], k = 2, t = 3) == False"
   ]
  },
  {
   "cell_type": "markdown",
   "metadata": {},
   "source": [
    "50 / 53 个通过测试用例,超出时间限制"
   ]
  },
  {
   "cell_type": "code",
   "execution_count": null,
   "metadata": {},
   "outputs": [],
   "source": [
    "class Solution:\n",
    "    def containsNearbyAlmostDuplicate(self, nums: List[int], k: int, t: int) -> bool:\n",
    "        def getIdx(u):\n",
    "            return ((u + 1) // size) - 1 if u < 0 else u // size\n",
    "        \n",
    "        map = {}\n",
    "        size = t + 1\n",
    "        for i,u in enumerate(nums):\n",
    "            idx = getIdx(u)\n",
    "            # 目标桶已存在（桶不为空），说明前面已有 [u - t, u + t] 范围的数字\n",
    "            if idx in map:\n",
    "                return True\n",
    "            # 检查相邻的桶\n",
    "            l, r = idx - 1, idx + 1\n",
    "            if l in map and abs(u - map[l]) <= t:\n",
    "                return True\n",
    "            if r in map and abs(u - map[r]) <= t:\n",
    "                return True\n",
    "            # 建立目标桶\n",
    "            map[idx] = u\n",
    "            # 维护个数为k\n",
    "            if i >= k:\n",
    "                map.pop(getIdx(nums[i-k]))\n",
    "\n",
    "        return False\n",
    "\n",
    "# 作者：AC_OIer\n",
    "# 链接：https://leetcode-cn.com/problems/contains-duplicate-iii/solution/gong-shui-san-xie-yi-ti-shuang-jie-hua-d-dlnv/"
   ]
  },
  {
   "cell_type": "code",
   "execution_count": null,
   "metadata": {},
   "outputs": [],
   "source": []
  },
  {
   "cell_type": "markdown",
   "metadata": {},
   "source": [
    "### [Leetcode 383](https://leetcode-cn.com/problems/ransom-note/)"
   ]
  },
  {
   "cell_type": "code",
   "execution_count": 267,
   "metadata": {},
   "outputs": [],
   "source": [
    "class Solution:\n",
    "    def canConstruct(self, ransomNote: str, magazine: str) -> bool:\n",
    "        for i in ransomNote:\n",
    "            if i not in magazine:\n",
    "                return False\n",
    "            magazine = ''.join(magazine.split(i,1))\n",
    "        return True\n",
    "     "
   ]
  },
  {
   "cell_type": "code",
   "execution_count": 268,
   "metadata": {},
   "outputs": [
    {
     "data": {
      "text/plain": [
       "'abcdcii'"
      ]
     },
     "execution_count": 268,
     "metadata": {},
     "output_type": "execute_result"
    }
   ],
   "source": [
    "magazine = 'abicdcii'\n",
    "''.join(magazine.split('i',1))"
   ]
  },
  {
   "cell_type": "code",
   "execution_count": null,
   "metadata": {},
   "outputs": [],
   "source": []
  },
  {
   "cell_type": "code",
   "execution_count": null,
   "metadata": {},
   "outputs": [],
   "source": []
  },
  {
   "cell_type": "markdown",
   "metadata": {},
   "source": [
    "### [Leetcode 349](https://leetcode-cn.com/problems/intersection-of-two-arrays/submissions/)"
   ]
  },
  {
   "cell_type": "code",
   "execution_count": 271,
   "metadata": {},
   "outputs": [
    {
     "data": {
      "text/plain": [
       "{4, 9}"
      ]
     },
     "execution_count": 271,
     "metadata": {},
     "output_type": "execute_result"
    }
   ],
   "source": [
    "nums1 = [4,9,5]\n",
    "nums2 = [9,4,9,8,4]\n",
    "set(nums1) & set(nums2)"
   ]
  },
  {
   "cell_type": "code",
   "execution_count": 272,
   "metadata": {},
   "outputs": [],
   "source": [
    "class Solution:\n",
    "    def intersection(self, nums1: List[int], nums2: List[int]) -> List[int]:\n",
    "        return list(set(nums1) & set(nums2))"
   ]
  },
  {
   "cell_type": "code",
   "execution_count": null,
   "metadata": {},
   "outputs": [],
   "source": []
  },
  {
   "cell_type": "markdown",
   "metadata": {},
   "source": [
    "### [Leetcode 599](https://leetcode-cn.com/problems/minimum-index-sum-of-two-lists/)"
   ]
  },
  {
   "cell_type": "code",
   "execution_count": 273,
   "metadata": {},
   "outputs": [],
   "source": [
    "class Solution:\n",
    "    def findRestaurant(self, list1: List[str], list2: List[str]) -> List[str]:\n",
    "        minindex = len(list1)+ len(list2)\n",
    "        res = []\n",
    "        for i,v in enumerate(list1):\n",
    "            if v in list2:\n",
    "                index = i + list2.index(v)\n",
    "                if index < minindex:\n",
    "                    res = [v]\n",
    "                    minindex = index\n",
    "                elif index == minindex:\n",
    "                    res.append(v)\n",
    "        return res                "
   ]
  },
  {
   "cell_type": "code",
   "execution_count": null,
   "metadata": {},
   "outputs": [],
   "source": []
  },
  {
   "cell_type": "markdown",
   "metadata": {},
   "source": [
    "### [Leetcode 387](https://leetcode-cn.com/problems/first-unique-character-in-a-string/)"
   ]
  },
  {
   "cell_type": "code",
   "execution_count": 279,
   "metadata": {},
   "outputs": [],
   "source": [
    "class Solution:\n",
    "    def firstUniqChar(self, s: str) -> int:\n",
    "        new_s = list(s)\n",
    "        s_dict = {}\n",
    "        for v in new_s:\n",
    "            if v in s_dict:\n",
    "                s_dict[v] += 1\n",
    "            else:\n",
    "                s_dict[v] = 1\n",
    "        for i,v in enumerate(new_s):\n",
    "            if s_dict[v] ==1:\n",
    "                return i\n",
    "        return -1"
   ]
  },
  {
   "cell_type": "code",
   "execution_count": 280,
   "metadata": {},
   "outputs": [
    {
     "data": {
      "text/plain": [
       "2"
      ]
     },
     "execution_count": 280,
     "metadata": {},
     "output_type": "execute_result"
    }
   ],
   "source": [
    "Solution().firstUniqChar(\"loveleetcode\")"
   ]
  },
  {
   "cell_type": "code",
   "execution_count": 278,
   "metadata": {},
   "outputs": [
    {
     "data": {
      "text/plain": [
       "['l', 'o', 'v', 'e', 'l', 'e', 'e', 't', 'c', 'o', 'd', 'e']"
      ]
     },
     "execution_count": 278,
     "metadata": {},
     "output_type": "execute_result"
    }
   ],
   "source": [
    "list(\"loveleetcode\")"
   ]
  },
  {
   "cell_type": "code",
   "execution_count": null,
   "metadata": {},
   "outputs": [],
   "source": []
  },
  {
   "cell_type": "markdown",
   "metadata": {},
   "source": [
    "### [Leetcode 204](https://leetcode-cn.com/problems/count-primes/)"
   ]
  },
  {
   "cell_type": "code",
   "execution_count": null,
   "metadata": {},
   "outputs": [],
   "source": []
  },
  {
   "cell_type": "code",
   "execution_count": null,
   "metadata": {},
   "outputs": [],
   "source": []
  },
  {
   "cell_type": "code",
   "execution_count": null,
   "metadata": {},
   "outputs": [],
   "source": []
  },
  {
   "cell_type": "markdown",
   "metadata": {},
   "source": [
    "### [Leetcode 155](https://leetcode-cn.com/problems/min-stack/)"
   ]
  },
  {
   "cell_type": "code",
   "execution_count": 290,
   "metadata": {},
   "outputs": [],
   "source": [
    "class MinStack:\n",
    "\n",
    "    def __init__(self):\n",
    "        self.stack = []\n",
    "        self.min_v = float(\"inf\")\n",
    "\n",
    "\n",
    "    def push(self, val: int) -> None:\n",
    "        self.stack.append(val)\n",
    "        if val < self.min_v:\n",
    "            self.min_v = val\n",
    "\n",
    "\n",
    "    def pop(self) -> None:\n",
    "        self.stack.pop()\n",
    "        if self.stack:\n",
    "            self.min_v = min(self.stack)\n",
    "        else:\n",
    "            self.min_v = float(\"inf\")\n",
    "\n",
    "\n",
    "\n",
    "    def top(self) -> int:\n",
    "        return self.stack[-1]\n",
    "\n",
    "\n",
    "    def getMin(self) -> int:\n",
    "        return self.min_v\n",
    "\n",
    "\n",
    "\n",
    "\n",
    "# Your MinStack object will be instantiated and called as such:\n",
    "# obj = MinStack()\n",
    "# obj.push(val)\n",
    "# obj.pop()\n",
    "# param_3 = obj.top()\n",
    "# param_4 = obj.getMin()"
   ]
  },
  {
   "cell_type": "code",
   "execution_count": null,
   "metadata": {},
   "outputs": [],
   "source": []
  },
  {
   "cell_type": "code",
   "execution_count": null,
   "metadata": {},
   "outputs": [],
   "source": []
  },
  {
   "cell_type": "code",
   "execution_count": null,
   "metadata": {},
   "outputs": [],
   "source": []
  },
  {
   "cell_type": "markdown",
   "metadata": {},
   "source": [
    "### [Leetcode 227](https://leetcode-cn.com/problems/basic-calculator-ii/)"
   ]
  },
  {
   "cell_type": "code",
   "execution_count": null,
   "metadata": {},
   "outputs": [],
   "source": []
  },
  {
   "cell_type": "code",
   "execution_count": null,
   "metadata": {},
   "outputs": [],
   "source": []
  },
  {
   "cell_type": "markdown",
   "metadata": {},
   "source": [
    "### [Offer 24](https://leetcode-cn.com/problems/fan-zhuan-lian-biao-lcof/)"
   ]
  },
  {
   "cell_type": "code",
   "execution_count": 293,
   "metadata": {},
   "outputs": [],
   "source": [
    "# Definition for singly-linked list.\n",
    "class ListNode:\n",
    "    def __init__(self, x):\n",
    "        self.val = x\n",
    "        self.next = None\n",
    "\n",
    "class Solution:\n",
    "    def reverseList(self, head: ListNode) -> ListNode:\n",
    "        prenode = None\n",
    "        curnode = head\n",
    "        while curnode:\n",
    "            nextnode = curnode.next\n",
    "            curnode.next = prenode\n",
    "            prenode = curnode\n",
    "            curnode = nextnode\n",
    "        return prenode"
   ]
  },
  {
   "cell_type": "markdown",
   "metadata": {},
   "source": [
    "递归解题思路:"
   ]
  },
  {
   "cell_type": "code",
   "execution_count": 296,
   "metadata": {},
   "outputs": [],
   "source": [
    "class Solution:\n",
    "    def reverseList(self, head: ListNode) -> ListNode:\n",
    "        if head == None or head.next == None:\n",
    "            return head\n",
    "        cur = self.reverseList(head.next)\n",
    "        head.next.next = head\n",
    "        head.next = None\n",
    "        return cur"
   ]
  },
  {
   "cell_type": "code",
   "execution_count": null,
   "metadata": {},
   "outputs": [],
   "source": []
  },
  {
   "cell_type": "markdown",
   "metadata": {},
   "source": [
    "### [Leetcode book](https://leetcode-cn.com/leetbook/read/top-interview-questions-easy/xnoilh/)\n",
    "\n",
    "[Leetcode 8](https://leetcode-cn.com/problems/string-to-integer-atoi/submissions/)"
   ]
  },
  {
   "cell_type": "code",
   "execution_count": 312,
   "metadata": {},
   "outputs": [],
   "source": [
    "class Solution:\n",
    "    def myAtoi(self, s: str) -> int:\n",
    "        s = s.strip(\" \")\n",
    "        res = 0\n",
    "        sign = 1\n",
    "        if not s:\n",
    "            return 0\n",
    "        if not s[0].isdigit():\n",
    "            if s[0] == \"+\":\n",
    "                sign = 1\n",
    "                s = s[1:]\n",
    "            elif s[0] == \"-\":\n",
    "                sign = -1\n",
    "                s = s[1:]\n",
    "            else:\n",
    "                return res\n",
    "        end = 0\n",
    "        if not s or not s[0].isdigit():\n",
    "            return 0        \n",
    "        for i,v in enumerate(s):\n",
    "            if not v.isdigit():\n",
    "                end = i \n",
    "                break\n",
    "            else:\n",
    "                end += 1\n",
    "        res = sign *int(s[:end])\n",
    "        if res < - 2 **31:\n",
    "            return - 2 **31\n",
    "        if res > 2 **31 -1:\n",
    "            return 2 **31 -1\n",
    "        return res"
   ]
  },
  {
   "cell_type": "code",
   "execution_count": 313,
   "metadata": {},
   "outputs": [
    {
     "data": {
      "text/plain": [
       "-42"
      ]
     },
     "execution_count": 313,
     "metadata": {},
     "output_type": "execute_result"
    }
   ],
   "source": [
    "Solution().myAtoi(\"-42\")"
   ]
  },
  {
   "cell_type": "code",
   "execution_count": null,
   "metadata": {},
   "outputs": [],
   "source": []
  },
  {
   "cell_type": "markdown",
   "metadata": {},
   "source": [
    "### [Leetcode book](https://leetcode-cn.com/leetbook/read/top-interview-questions-easy/xnpvdm/)"
   ]
  },
  {
   "cell_type": "code",
   "execution_count": 324,
   "metadata": {},
   "outputs": [],
   "source": [
    "class Solution:\n",
    "    def countAndSay(self, n: int) -> str:\n",
    "        if n == 1 :\n",
    "            return '1'\n",
    "        if n == 2:\n",
    "            return '11'\n",
    "        tmp = self.countAndSay(n-1)\n",
    "        res = \"\"\n",
    "        count = 1 \n",
    "        head = tmp[0]\n",
    "        for i in tmp[1:]:\n",
    "            if i == head:\n",
    "                count += 1\n",
    "            else:\n",
    "                res += str(count) + head\n",
    "                head = i\n",
    "                count = 1\n",
    "        res += str(count) + head\n",
    "        return res"
   ]
  },
  {
   "cell_type": "code",
   "execution_count": 325,
   "metadata": {},
   "outputs": [],
   "source": [
    "assert Solution().countAndSay(6) == \"312211\""
   ]
  },
  {
   "cell_type": "code",
   "execution_count": 326,
   "metadata": {},
   "outputs": [
    {
     "data": {
      "text/plain": [
       "'312211'"
      ]
     },
     "execution_count": 326,
     "metadata": {},
     "output_type": "execute_result"
    }
   ],
   "source": [
    "Solution().countAndSay(6)"
   ]
  },
  {
   "cell_type": "code",
   "execution_count": 327,
   "metadata": {},
   "outputs": [
    {
     "data": {
      "text/plain": [
       "'111221'"
      ]
     },
     "execution_count": 327,
     "metadata": {},
     "output_type": "execute_result"
    }
   ],
   "source": [
    "Solution().countAndSay(5)"
   ]
  },
  {
   "cell_type": "code",
   "execution_count": null,
   "metadata": {},
   "outputs": [],
   "source": []
  },
  {
   "cell_type": "markdown",
   "metadata": {},
   "source": [
    "### [Leetcode book](https://leetcode-cn.com/leetbook/read/top-interview-questions-easy/xnarn7/)"
   ]
  },
  {
   "cell_type": "code",
   "execution_count": 330,
   "metadata": {},
   "outputs": [],
   "source": [
    "# Definition for singly-linked list.\n",
    "# class ListNode:\n",
    "#     def __init__(self, x):\n",
    "#         self.val = x\n",
    "#         self.next = None\n",
    "\n",
    "class Solution:\n",
    "    def deleteNode(self, node):\n",
    "        \"\"\"\n",
    "        :type node: ListNode\n",
    "        :rtype: void Do not return anything, modify node in-place instead.\n",
    "        \"\"\"\n",
    "        node.val = node.next.val\n",
    "        node.next = node.next.next"
   ]
  },
  {
   "cell_type": "code",
   "execution_count": null,
   "metadata": {},
   "outputs": [],
   "source": []
  },
  {
   "cell_type": "code",
   "execution_count": null,
   "metadata": {},
   "outputs": [],
   "source": []
  },
  {
   "cell_type": "markdown",
   "metadata": {},
   "source": [
    "### [Leetcode 1446](https://leetcode-cn.com/problems/consecutive-characters/)"
   ]
  },
  {
   "cell_type": "code",
   "execution_count": 3,
   "metadata": {},
   "outputs": [],
   "source": [
    "class Solution:\n",
    "    def maxPower(self, s: str) -> int:\n",
    "        maxv, startv = 1, 1\n",
    "        if len(s) == 1:\n",
    "            return maxv\n",
    "        for i in range(1,len(s)):\n",
    "            if s[i] == s[i-1]:\n",
    "                startv += 1\n",
    "                maxv = max(maxv, startv)\n",
    "            else:\n",
    "                startv = 1\n",
    "        return maxv\n",
    "                "
   ]
  },
  {
   "cell_type": "code",
   "execution_count": null,
   "metadata": {},
   "outputs": [],
   "source": []
  },
  {
   "cell_type": "markdown",
   "metadata": {},
   "source": [
    "### [Leetcode 384](https://leetcode-cn.com/leetbook/read/top-interview-questions-easy/xn6gq1/)"
   ]
  },
  {
   "cell_type": "code",
   "execution_count": 7,
   "metadata": {},
   "outputs": [],
   "source": [
    "from typing import List\n",
    "class Solution:\n",
    "\n",
    "    def __init__(self, nums: List[int]):\n",
    "        self.nums = nums\n",
    "\n",
    "\n",
    "    def reset(self) -> List[int]:\n",
    "        return self.nums\n",
    "\n",
    "\n",
    "    def shuffle(self) -> List[int]:\n",
    "        old = self.nums.copy()\n",
    "        new = []\n",
    "        while old:\n",
    "            ch = random.choice(old)\n",
    "            index = old.index(ch)\n",
    "            old.pop(index)\n",
    "            new.append(ch)\n",
    "        return new        \n",
    "\n",
    "# Your Solution object will be instantiated and called as such:\n",
    "# obj = Solution(nums)\n",
    "# param_1 = obj.reset()\n",
    "# param_2 = obj.shuffle()"
   ]
  },
  {
   "cell_type": "code",
   "execution_count": null,
   "metadata": {},
   "outputs": [],
   "source": []
  },
  {
   "cell_type": "code",
   "execution_count": null,
   "metadata": {},
   "outputs": [],
   "source": []
  },
  {
   "cell_type": "markdown",
   "metadata": {},
   "source": [
    "### [Leetcode book](https://leetcode-cn.com/leetbook/read/top-interview-questions-easy/xnc5vg/)"
   ]
  },
  {
   "cell_type": "code",
   "execution_count": 17,
   "metadata": {},
   "outputs": [],
   "source": [
    "class Solution:\n",
    "    def reverseBits(self, n: int) -> int:\n",
    "        tmp = 0\n",
    "        for i in range(32):\n",
    "            tmp <<= 1\n",
    "            tmp = tmp | (n&1)\n",
    "            n >>= 1\n",
    "        return tmp\n",
    "    "
   ]
  },
  {
   "cell_type": "markdown",
   "metadata": {},
   "source": [
    "### [字母异位词分组](https://leetcode-cn.com/leetbook/read/hash-table/xxo631/)"
   ]
  },
  {
   "cell_type": "code",
   "execution_count": 19,
   "metadata": {},
   "outputs": [
    {
     "data": {
      "text/plain": [
       "'bcd'"
      ]
     },
     "execution_count": 19,
     "metadata": {},
     "output_type": "execute_result"
    }
   ],
   "source": [
    "\"\".join(sorted(\"bcd\",key = str.lower))"
   ]
  },
  {
   "cell_type": "code",
   "execution_count": 21,
   "metadata": {},
   "outputs": [],
   "source": [
    "class Solution:\n",
    "    def groupAnagrams(self, strs: List[str]) -> List[List[str]]:\n",
    "        res = []\n",
    "        maps = {}\n",
    "        for i in strs:\n",
    "            tmp = \"\".join(sorted(i,key = str.lower))\n",
    "            if tmp not in maps:\n",
    "                maps[tmp] = [i]\n",
    "            else:\n",
    "                maps[tmp].append(i)\n",
    "        for key in maps:\n",
    "            res.append(maps[key])\n",
    "        return res\n",
    "        "
   ]
  },
  {
   "cell_type": "code",
   "execution_count": null,
   "metadata": {},
   "outputs": [],
   "source": []
  },
  {
   "cell_type": "markdown",
   "metadata": {},
   "source": []
  },
  {
   "cell_type": "code",
   "execution_count": null,
   "metadata": {},
   "outputs": [],
   "source": [
    "class Solution:\n",
    "    def groupAnagrams(self, strs: List[str]) -> List[List[str]]:\n",
    "        res = []\n",
    "        maps = {}\n",
    "        for i in strs:\n",
    "            tmp = \"\".join(sorted(i,key = str.lower))\n",
    "            if tmp not in maps:\n",
    "                maps[tmp] = [i]\n",
    "            else:\n",
    "                maps[tmp].append(i)\n",
    "        for key in maps:\n",
    "            res.append(maps[key])\n",
    "        return res\n",
    "        "
   ]
  },
  {
   "cell_type": "code",
   "execution_count": null,
   "metadata": {},
   "outputs": [],
   "source": []
  },
  {
   "cell_type": "markdown",
   "metadata": {},
   "source": [
    "### [Linked List](https://leetcode-cn.com/leetbook/read/linked-list/jy291/)\n",
    "### [Leetcode 707](https://leetcode-cn.com/problems/design-linked-list/solution/)"
   ]
  },
  {
   "cell_type": "code",
   "execution_count": null,
   "metadata": {},
   "outputs": [],
   "source": []
  },
  {
   "cell_type": "code",
   "execution_count": null,
   "metadata": {},
   "outputs": [],
   "source": []
  },
  {
   "cell_type": "markdown",
   "metadata": {},
   "source": [
    "### [Leetcode 203](https://leetcode-cn.com/problems/remove-linked-list-elements/submissions/)"
   ]
  },
  {
   "cell_type": "code",
   "execution_count": 115,
   "metadata": {},
   "outputs": [],
   "source": [
    "# Definition for singly-linked list.\n",
    "class ListNode:\n",
    "    def __init__(self, val=0, next=None):\n",
    "        self.val = val\n",
    "        self.next = next\n",
    "\n",
    "class Solution:\n",
    "    def removeElements(self, head: ListNode, val: int) -> ListNode:\n",
    "        if not head:\n",
    "            return head\n",
    "        pre = head\n",
    "        cur = head.next\n",
    "        while cur:\n",
    "            if cur.val == val:\n",
    "                pre.next = cur.next\n",
    "                cur = cur.next\n",
    "            else:\n",
    "                pre = cur\n",
    "                cur = cur.next\n",
    "        if head.val == val:\n",
    "            if not head.next:\n",
    "                return \n",
    "            else:\n",
    "                return head.next            \n",
    "        return head\n",
    "     "
   ]
  },
  {
   "cell_type": "code",
   "execution_count": null,
   "metadata": {},
   "outputs": [],
   "source": []
  },
  {
   "cell_type": "code",
   "execution_count": null,
   "metadata": {},
   "outputs": [],
   "source": []
  },
  {
   "cell_type": "markdown",
   "metadata": {},
   "source": [
    "### [Leetcode 1290](https://leetcode-cn.com/problems/convert-binary-number-in-a-linked-list-to-integer/)"
   ]
  },
  {
   "cell_type": "code",
   "execution_count": 116,
   "metadata": {},
   "outputs": [],
   "source": [
    "# class ListNode:\n",
    "#     def __init__(self, val=0, next=None):\n",
    "#         self.val = val\n",
    "#         self.next = next\n",
    "class Solution:\n",
    "    def getDecimalValue(self, head: ListNode) -> int:\n",
    "        if not head:\n",
    "            return 0\n",
    "        res = \"\"\n",
    "        while head.next:\n",
    "            res += str(head.val)\n",
    "            head = head.next\n",
    "        res += str(head.val)        \n",
    "        return int(res ,2)"
   ]
  },
  {
   "cell_type": "code",
   "execution_count": null,
   "metadata": {},
   "outputs": [],
   "source": []
  },
  {
   "cell_type": "markdown",
   "metadata": {},
   "source": [
    "### [Leetcode 876](https://leetcode-cn.com/problems/middle-of-the-linked-list/)"
   ]
  },
  {
   "cell_type": "code",
   "execution_count": 117,
   "metadata": {},
   "outputs": [],
   "source": [
    "# Definition for singly-linked list.\n",
    "# class ListNode:\n",
    "#     def __init__(self, val=0, next=None):\n",
    "#         self.val = val\n",
    "#         self.next = next\n",
    "class Solution:\n",
    "    def middleNode(self, head: ListNode) -> ListNode:\n",
    "        slow = head\n",
    "        fast = head\n",
    "        if not head.next:\n",
    "            return head\n",
    "        if not head.next.next:\n",
    "            return head.next\n",
    "        while fast.next.next:\n",
    "            slow = slow.next\n",
    "            fast = fast.next.next\n",
    "            if not fast.next:\n",
    "                return slow\n",
    "        return slow.next"
   ]
  },
  {
   "cell_type": "code",
   "execution_count": null,
   "metadata": {},
   "outputs": [],
   "source": []
  },
  {
   "cell_type": "code",
   "execution_count": null,
   "metadata": {},
   "outputs": [],
   "source": []
  },
  {
   "cell_type": "markdown",
   "metadata": {},
   "source": [
    "### [Leetcode 500](https://leetcode-cn.com/problems/keyboard-row/)"
   ]
  },
  {
   "cell_type": "code",
   "execution_count": 138,
   "metadata": {},
   "outputs": [],
   "source": [
    "class Solution:\n",
    "    def findWords(self, words: List[str]) -> List[str]:\n",
    "        s1 = set(list(\"qwertyuiop\"))\n",
    "        s2 = set(list(\"asdfghjkl\"))\n",
    "        s3 = set(list(\"zxcvbnm\"))\n",
    "        res = []\n",
    "        for i in words:\n",
    "            if set(list(i.lower())).issubset(s1) or \\\n",
    "            set(list(i.lower())).issubset(s2) or \\\n",
    "            set(list(i.lower())).issubset(s3):\n",
    "                res.append(i)\n",
    "        return res\n",
    "            \n",
    "        "
   ]
  },
  {
   "cell_type": "code",
   "execution_count": 139,
   "metadata": {},
   "outputs": [
    {
     "data": {
      "text/plain": [
       "['Alaska', 'Dad']"
      ]
     },
     "execution_count": 139,
     "metadata": {},
     "output_type": "execute_result"
    }
   ],
   "source": [
    "Solution().findWords([\"Hello\",\"Alaska\",\"Dad\",\"Peace\"])"
   ]
  },
  {
   "cell_type": "code",
   "execution_count": null,
   "metadata": {},
   "outputs": [],
   "source": []
  },
  {
   "cell_type": "code",
   "execution_count": null,
   "metadata": {},
   "outputs": [],
   "source": []
  },
  {
   "cell_type": "markdown",
   "metadata": {},
   "source": [
    "### [Leetcode 1863](https://leetcode-cn.com/problems/sum-of-all-subset-xor-totals/)"
   ]
  },
  {
   "cell_type": "code",
   "execution_count": 184,
   "metadata": {},
   "outputs": [],
   "source": [
    "class Solution:\n",
    "    def subsetXORSum(self, nums: List[int]) -> int:\n",
    "        candidates = [0]\n",
    "        for x in nums:\n",
    "            candidates += [x^y for y in candidates]  \n",
    "        return sum(candidates)"
   ]
  },
  {
   "cell_type": "code",
   "execution_count": 185,
   "metadata": {},
   "outputs": [
    {
     "data": {
      "text/plain": [
       "2016"
      ]
     },
     "execution_count": 185,
     "metadata": {},
     "output_type": "execute_result"
    }
   ],
   "source": [
    "Solution().subsetXORSum([3,4,5,6,7,8])"
   ]
  },
  {
   "cell_type": "code",
   "execution_count": 186,
   "metadata": {},
   "outputs": [
    {
     "data": {
      "text/plain": [
       "62"
      ]
     },
     "execution_count": 186,
     "metadata": {},
     "output_type": "execute_result"
    }
   ],
   "source": [
    "2012//32"
   ]
  },
  {
   "cell_type": "code",
   "execution_count": 187,
   "metadata": {},
   "outputs": [
    {
     "data": {
      "text/plain": [
       "64"
      ]
     },
     "execution_count": 187,
     "metadata": {},
     "output_type": "execute_result"
    }
   ],
   "source": [
    "2**6"
   ]
  },
  {
   "cell_type": "code",
   "execution_count": null,
   "metadata": {},
   "outputs": [],
   "source": []
  },
  {
   "cell_type": "markdown",
   "metadata": {},
   "source": [
    "### [Leetcode 566](https://leetcode-cn.com/problems/reshape-the-matrix/submissions/)"
   ]
  },
  {
   "cell_type": "code",
   "execution_count": 216,
   "metadata": {},
   "outputs": [],
   "source": [
    "class Solution:\n",
    "    def matrixReshape(self, mat: List[List[int]], r: int, c: int) -> List[List[int]]:\n",
    "        row = len(mat)\n",
    "        col = len(mat[0])\n",
    "        total = row * col\n",
    "        if r * c != total:\n",
    "            return mat\n",
    "        new_row = []\n",
    "        new_mat = []\n",
    "        for i in range(row):\n",
    "            for j in range(col):\n",
    "                if len(new_row) < c:\n",
    "                    new_row.append(mat[i][j])\n",
    "#                     print(new_row)\n",
    "                    if len(new_row) ==c:\n",
    "                        new_mat.append(new_row.copy())                        \n",
    "                        new_row = []\n",
    "\n",
    "        return new_mat"
   ]
  },
  {
   "cell_type": "code",
   "execution_count": 215,
   "metadata": {},
   "outputs": [
    {
     "name": "stdout",
     "output_type": "stream",
     "text": [
      "[1]\n",
      "[1, 2]\n",
      "[3]\n",
      "[3, 4]\n"
     ]
    },
    {
     "data": {
      "text/plain": [
       "[[1, 2], [3, 4]]"
      ]
     },
     "execution_count": 215,
     "metadata": {},
     "output_type": "execute_result"
    }
   ],
   "source": [
    "Solution().matrixReshape(mat = [[1,2],[3,4]], r = 2, c = 2)"
   ]
  },
  {
   "cell_type": "code",
   "execution_count": null,
   "metadata": {},
   "outputs": [],
   "source": []
  },
  {
   "cell_type": "code",
   "execution_count": null,
   "metadata": {},
   "outputs": [],
   "source": []
  },
  {
   "cell_type": "markdown",
   "metadata": {},
   "source": [
    "### [Leetcode 118](https://leetcode-cn.com/problems/pascals-triangle/submissions/) "
   ]
  },
  {
   "cell_type": "code",
   "execution_count": 221,
   "metadata": {},
   "outputs": [],
   "source": [
    "class Solution:\n",
    "    def generate(self, numRows: int) -> List[List[int]]:\n",
    "        if numRows == 1:\n",
    "            return [self.get_row(1)]\n",
    "        if numRows == 2:\n",
    "            return [self.get_row(1), self.get_row(2)]\n",
    "        if numRows > 2:\n",
    "            return self.generate(numRows-1)+ [self.get_row(numRows)]\n",
    "    def get_row(self, n):\n",
    "        if n == 1:\n",
    "            return [1]\n",
    "        if n == 2:\n",
    "            return [1,1]\n",
    "        res = []\n",
    "        row_p = self.get_row(n-1)\n",
    "        i, j = 0, 1\n",
    "        while j < len(row_p):\n",
    "            res.append(row_p[i]+ row_p[j])\n",
    "            i += 1\n",
    "            j += 1\n",
    "        return [1] + res +[1]"
   ]
  },
  {
   "cell_type": "code",
   "execution_count": null,
   "metadata": {},
   "outputs": [],
   "source": []
  },
  {
   "cell_type": "code",
   "execution_count": null,
   "metadata": {},
   "outputs": [],
   "source": []
  },
  {
   "cell_type": "markdown",
   "metadata": {},
   "source": [
    "### Leetcode book 无重复字符的最长子串"
   ]
  },
  {
   "cell_type": "code",
   "execution_count": 226,
   "metadata": {},
   "outputs": [],
   "source": [
    "class Solution:\n",
    "    def lengthOfLongestSubstring(self, s: str) -> int:\n",
    "        if not s :\n",
    "            return 0\n",
    "        res = 0\n",
    "        maxset = []\n",
    "        for i in s:\n",
    "            if i in maxset:\n",
    "                index = maxset.index(i)\n",
    "                maxset = maxset[index+1:]\n",
    "                maxset.append(i)\n",
    "            else:\n",
    "                maxset.append(i)\n",
    "            res = max(res, len(maxset))\n",
    "        return res"
   ]
  },
  {
   "cell_type": "code",
   "execution_count": 227,
   "metadata": {},
   "outputs": [
    {
     "data": {
      "text/plain": [
       "3"
      ]
     },
     "execution_count": 227,
     "metadata": {},
     "output_type": "execute_result"
    }
   ],
   "source": [
    "Solution().lengthOfLongestSubstring(\"pwwkew\")"
   ]
  },
  {
   "cell_type": "code",
   "execution_count": null,
   "metadata": {},
   "outputs": [],
   "source": []
  },
  {
   "cell_type": "markdown",
   "metadata": {},
   "source": [
    "### Leetcode book 最长回文子串"
   ]
  },
  {
   "cell_type": "code",
   "execution_count": 289,
   "metadata": {},
   "outputs": [],
   "source": [
    "class Solution:\n",
    "    def longestPalindrome(self, s: str) -> str:\n",
    "        n = len(s)\n",
    "        res = \"\"\n",
    "        if s == s[::-1]:\n",
    "            return s\n",
    "        for i in range(n):\n",
    "            for j in range(n, i, -1):\n",
    "                if i == 0:\n",
    "                    if s[i:j] == s[j-1::-1]:\n",
    "                        res = s[i:j]\n",
    "                        break\n",
    "                elif s[i:j] == s[j-1:i-1:-1]:\n",
    "                    if len(s[i:j]) > len(res):\n",
    "                        res = s[i:j]\n",
    "                continue\n",
    "        return res                "
   ]
  },
  {
   "cell_type": "code",
   "execution_count": 288,
   "metadata": {},
   "outputs": [
    {
     "name": "stdout",
     "output_type": "stream",
     "text": [
      "abba\n"
     ]
    },
    {
     "data": {
      "text/plain": [
       "'abba'"
      ]
     },
     "execution_count": 288,
     "metadata": {},
     "output_type": "execute_result"
    }
   ],
   "source": [
    "Solution().longestPalindrome(\"abbac\")"
   ]
  },
  {
   "cell_type": "code",
   "execution_count": 281,
   "metadata": {},
   "outputs": [
    {
     "data": {
      "text/plain": [
       "'abba'"
      ]
     },
     "execution_count": 281,
     "metadata": {},
     "output_type": "execute_result"
    }
   ],
   "source": [
    "s  = \"abba\"\n",
    "# s[0:4] == \n",
    "s[3::-1]"
   ]
  },
  {
   "cell_type": "code",
   "execution_count": 261,
   "metadata": {},
   "outputs": [
    {
     "data": {
      "text/plain": [
       "'dc'"
      ]
     },
     "execution_count": 261,
     "metadata": {},
     "output_type": "execute_result"
    }
   ],
   "source": [
    "s[3:1:-1]"
   ]
  },
  {
   "cell_type": "code",
   "execution_count": null,
   "metadata": {},
   "outputs": [],
   "source": []
  },
  {
   "cell_type": "code",
   "execution_count": 297,
   "metadata": {},
   "outputs": [],
   "source": [
    "class Solution:\n",
    "    def increasingTriplet(self, nums: List[int]) -> bool:\n",
    "        if len(nums) < 3:\n",
    "            return False\n",
    "        slow = float('inf')\n",
    "        middle = float('inf')\n",
    "        for i in range(len(nums)):\n",
    "            if nums[i] <= slow:\n",
    "                slow = nums[i]\n",
    "            elif nums[i] <= middle:\n",
    "                middle = nums[i]\n",
    "            else:\n",
    "                return True\n",
    "        return False"
   ]
  },
  {
   "cell_type": "code",
   "execution_count": 298,
   "metadata": {},
   "outputs": [
    {
     "data": {
      "text/plain": [
       "True"
      ]
     },
     "execution_count": 298,
     "metadata": {},
     "output_type": "execute_result"
    }
   ],
   "source": [
    "Solution().increasingTriplet([20,100,10,12,5,13])"
   ]
  },
  {
   "cell_type": "code",
   "execution_count": 299,
   "metadata": {},
   "outputs": [
    {
     "data": {
      "text/plain": [
       "False"
      ]
     },
     "execution_count": 299,
     "metadata": {},
     "output_type": "execute_result"
    }
   ],
   "source": [
    "Solution().increasingTriplet([2,4,-2,-3])"
   ]
  },
  {
   "cell_type": "code",
   "execution_count": null,
   "metadata": {},
   "outputs": [],
   "source": []
  },
  {
   "cell_type": "code",
   "execution_count": null,
   "metadata": {},
   "outputs": [],
   "source": []
  },
  {
   "cell_type": "markdown",
   "metadata": {},
   "source": [
    "### [Leetcode 2](https://leetcode-cn.com/problems/add-two-numbers/)"
   ]
  },
  {
   "cell_type": "code",
   "execution_count": 304,
   "metadata": {},
   "outputs": [],
   "source": [
    "# Definition for singly-linked list.\n",
    "# class ListNode:\n",
    "#     def __init__(self, val=0, next=None):\n",
    "#         self.val = val\n",
    "#         self.next = next\n",
    "class Solution:\n",
    "    def addTwoNumbers(self, l1: ListNode, l2: ListNode) -> ListNode:\n",
    "        up = 0\n",
    "        result = ListNode(0)\n",
    "        point = result\n",
    "        while True:\n",
    "            cur_val = (l1.val + l2.val + up) % 10\n",
    "            up = (l1.val + l2.val + up) // 10\n",
    "            point.next = ListNode(cur_val)\n",
    "            point = point.next\n",
    "            l1 = l1.next or ListNode(0)\n",
    "            l2 = l2.next or ListNode(0)\n",
    "            if (not l1.next and not l2.next and not up and l1.val ==0 and l2.val==0):\n",
    "                break\n",
    "        return result.next"
   ]
  },
  {
   "cell_type": "code",
   "execution_count": null,
   "metadata": {},
   "outputs": [],
   "source": []
  },
  {
   "cell_type": "code",
   "execution_count": null,
   "metadata": {},
   "outputs": [],
   "source": []
  },
  {
   "cell_type": "code",
   "execution_count": 305,
   "metadata": {},
   "outputs": [],
   "source": [
    "# Definition for singly-linked list.\n",
    "class ListNode:\n",
    "    def __init__(self, val=0, next=None):\n",
    "        self.val = val\n",
    "        self.next = next\n",
    "class Solution:\n",
    "    def oddEvenList(self, head: ListNode) -> ListNode:\n",
    "        oddhead = head\n",
    "        evenhead = head.next\n",
    "        oddcur = oddheaad\n",
    "        evencur = evenhead\n",
    "        tmp1 = head\n",
    "        tmp2 = head.next\n",
    "        while tmp1.next.next:\n",
    "            oddcur.next = tmp1.next.next\n",
    "            tmp1 = tmp1.next.next\n",
    "        while tmp2.next.next:\n",
    "            evencur.next  = tmp2.next.next\n",
    "            tmp2 = tmp2.next.next\n",
    "        oddcur.next = evenhead\n",
    "        return oddhead\n",
    "\n",
    "        \n",
    "        "
   ]
  },
  {
   "cell_type": "code",
   "execution_count": 307,
   "metadata": {},
   "outputs": [],
   "source": [
    "class Solution:\n",
    "    def oddEvenList(self, head: ListNode) -> ListNode:\n",
    "        oddhead = head\n",
    "        evenhead = head.next\n",
    "        oddcur = oddhead\n",
    "        evencur = evenhead\n",
    "        tmp1 = head\n",
    "        tmp2 = head.next\n",
    "        while True:\n",
    "            if not tmp1.next :\n",
    "                oddcur.next = tmp1.next.next\n",
    "                tmp1 = tmp1.next.next\n",
    "            if not tmp2.next:\n",
    "                evencur.next  = tmp2.next.next\n",
    "                tmp2 = tmp2.next.next\n",
    "            if (not tmp1) or (not tmp1.next) or (not tmp2) or (not tmp2.next):\n",
    "                break\n",
    "        oddcur.next = evenhead\n",
    "        return oddhead"
   ]
  },
  {
   "cell_type": "code",
   "execution_count": null,
   "metadata": {},
   "outputs": [],
   "source": []
  },
  {
   "cell_type": "code",
   "execution_count": 316,
   "metadata": {},
   "outputs": [
    {
     "name": "stdout",
     "output_type": "stream",
     "text": [
      "Final List :  [123, 'xyz', 'zara', 'abc', 2009]\n"
     ]
    }
   ],
   "source": [
    " \n",
    "aList = [123, 'xyz', 'zara', 'abc']\n",
    " \n",
    "aList.insert( 4, 2009)\n",
    " \n",
    "print( \"Final List : \", aList)"
   ]
  },
  {
   "cell_type": "code",
   "execution_count": 319,
   "metadata": {},
   "outputs": [
    {
     "data": {
      "text/plain": [
       "{123}"
      ]
     },
     "execution_count": 319,
     "metadata": {},
     "output_type": "execute_result"
    }
   ],
   "source": [
    "res = set()\n",
    "res.add(123)\n",
    "res"
   ]
  },
  {
   "cell_type": "code",
   "execution_count": 338,
   "metadata": {},
   "outputs": [],
   "source": [
    "class Solution:\n",
    "    def permute(self, nums: List[int]) -> List[List[int]]:\n",
    "        res = []\n",
    "        n = len(nums)\n",
    "        for i,v  in enumerate(nums):\n",
    "            nu = nums.copy()\n",
    "            nu.pop(i)\n",
    "            print(nu)\n",
    "            for j in range(n):\n",
    "                n2 = nu.copy()\n",
    "                n2.insert(j,v) \n",
    "                if n2 not in res:\n",
    "                    res.append(n2)\n",
    "        return list(res)"
   ]
  },
  {
   "cell_type": "code",
   "execution_count": 339,
   "metadata": {},
   "outputs": [
    {
     "name": "stdout",
     "output_type": "stream",
     "text": [
      "[2, 3]\n",
      "[1, 3]\n",
      "[1, 2]\n"
     ]
    },
    {
     "data": {
      "text/plain": [
       "[[1, 2, 3], [2, 1, 3], [2, 3, 1], [1, 3, 2], [3, 1, 2]]"
      ]
     },
     "execution_count": 339,
     "metadata": {},
     "output_type": "execute_result"
    }
   ],
   "source": [
    "Solution().permute([1,2,3])"
   ]
  },
  {
   "cell_type": "code",
   "execution_count": 371,
   "metadata": {},
   "outputs": [],
   "source": [
    "class Solution:\n",
    "    def convertToBase7(self, num: int) -> str:\n",
    "        if num == 0:\n",
    "            return \"0\"\n",
    "        res = \"\"\n",
    "        if num < 0:\n",
    "            res += \"-\"\n",
    "            num = (-1) * num\n",
    "        while num // 7 >=1:\n",
    "            if num % 7 == 0:\n",
    "                res += \"10\"\n",
    "                num = num//7\n",
    "            else:\n",
    "                cur = num % 7 \n",
    "                num = num //7\n",
    "                res += str(cur)\n",
    "        res += str(num)         \n",
    "        return res"
   ]
  },
  {
   "cell_type": "code",
   "execution_count": 372,
   "metadata": {},
   "outputs": [
    {
     "data": {
      "text/plain": [
       "'2102'"
      ]
     },
     "execution_count": 372,
     "metadata": {},
     "output_type": "execute_result"
    }
   ],
   "source": [
    "Solution().convertToBase7(100)"
   ]
  },
  {
   "cell_type": "code",
   "execution_count": 378,
   "metadata": {},
   "outputs": [],
   "source": [
    "import typing"
   ]
  },
  {
   "cell_type": "code",
   "execution_count": 413,
   "metadata": {},
   "outputs": [],
   "source": [
    "# Definition for a binary tree node.\n",
    "class TreeNode:\n",
    "    def __init__(self, val=0, left=None, right=None):\n",
    "        self.val = val\n",
    "        self.left = left\n",
    "        self.right = right\n",
    "class Solution:\n",
    "    def isEvenOddTree(self, root: TreeNode) -> bool:\n",
    "        if root.val % 2 == 0:\n",
    "            print(root.val)\n",
    "            return False\n",
    "        queue = [root]\n",
    "        level = 1\n",
    "        while queue:\n",
    "            child = []\n",
    "            for node in queue:\n",
    "                if node.left:\n",
    "                    child.append(node.left)\n",
    "                if node.right:\n",
    "                    child.append(node.right)\n",
    "            if not child:\n",
    "                break\n",
    "            queue = child\n",
    "            if level % 2 == 0:\n",
    "                tmp = 0\n",
    "                for v in child: \n",
    "                    if v.val% 2 == 0 :\n",
    "                        return False\n",
    "                    if v.val <= tmp:\n",
    "                        return False\n",
    "                    tmp = v.val        \n",
    "            if level % 2 != 0:\n",
    "                tmp = 10 ** 5 + 1\n",
    "                for v in child: \n",
    "                    if v.val% 2 != 0 :\n",
    "                        return False\n",
    "                    if v.val >= tmp:\n",
    "                        return False\n",
    "                    tmp = v.val \n",
    "            level += 1\n",
    "        return True        "
   ]
  },
  {
   "cell_type": "code",
   "execution_count": 414,
   "metadata": {},
   "outputs": [
    {
     "data": {
      "text/plain": [
       "<__main__.TreeNode at 0x10a01f7d0>"
      ]
     },
     "execution_count": 414,
     "metadata": {},
     "output_type": "execute_result"
    }
   ],
   "source": [
    "root = TreeNode(1, TreeNode(10), TreeNode(4))\n",
    "root"
   ]
  },
  {
   "cell_type": "code",
   "execution_count": 415,
   "metadata": {},
   "outputs": [
    {
     "name": "stdout",
     "output_type": "stream",
     "text": [
      "1 odd\n"
     ]
    },
    {
     "data": {
      "text/plain": [
       "True"
      ]
     },
     "execution_count": 415,
     "metadata": {},
     "output_type": "execute_result"
    }
   ],
   "source": [
    "Solution().isEvenOddTree(root)"
   ]
  },
  {
   "cell_type": "code",
   "execution_count": null,
   "metadata": {},
   "outputs": [],
   "source": []
  },
  {
   "cell_type": "code",
   "execution_count": null,
   "metadata": {},
   "outputs": [],
   "source": []
  },
  {
   "cell_type": "code",
   "execution_count": 417,
   "metadata": {},
   "outputs": [
    {
     "data": {
      "text/plain": [
       "['a', 'b']"
      ]
     },
     "execution_count": 417,
     "metadata": {},
     "output_type": "execute_result"
    }
   ],
   "source": [
    "s1 = 'ab'\n",
    "list(s1)"
   ]
  },
  {
   "cell_type": "code",
   "execution_count": 436,
   "metadata": {},
   "outputs": [],
   "source": [
    "res = [[1,4],[2,5],[3,6]]"
   ]
  },
  {
   "cell_type": "code",
   "execution_count": 421,
   "metadata": {},
   "outputs": [
    {
     "data": {
      "text/plain": [
       "1"
      ]
     },
     "execution_count": 421,
     "metadata": {},
     "output_type": "execute_result"
    }
   ],
   "source": [
    "res[0][0]"
   ]
  },
  {
   "cell_type": "code",
   "execution_count": 437,
   "metadata": {},
   "outputs": [],
   "source": [
    "class Solution:\n",
    "    def isNStraightHand(self, hand: List[int], groupSize: int) -> bool:\n",
    "        # bucket num = groupSize \n",
    "        hand = sorted(hand)\n",
    "        n = len(hand)\n",
    "        if n% groupSize != 0:\n",
    "            return False\n",
    "        res = [[] for i in range(groupSize)]\n",
    "        for i in hand:\n",
    "            rad = i % groupSize\n",
    "            res[rad].append(i)\n",
    "        if len(set([len(i) for i in res]) ) != 1:\n",
    "            return False\n",
    "        tmp = []\n",
    "        depth = len(res[0])\n",
    "        for j in range(depth):\n",
    "            tmp = sorted([i[j] for i in res])\n",
    "            if not self.sh(tmp):\n",
    "                return False\n",
    "            else:\n",
    "                tmp = []\n",
    "        return True\n",
    "    \n",
    "    def sh(self, li):\n",
    "        len1 = len(li)\n",
    "        for i in range(1,len1):\n",
    "            if li[i] - li[i-1] !=1:\n",
    "                return False\n",
    "        return True\n",
    "        \n",
    "        "
   ]
  },
  {
   "cell_type": "code",
   "execution_count": 439,
   "metadata": {},
   "outputs": [
    {
     "data": {
      "text/plain": [
       "False"
      ]
     },
     "execution_count": 439,
     "metadata": {},
     "output_type": "execute_result"
    }
   ],
   "source": [
    "Solution().isNStraightHand([1,2,3,6,2,3,4,7,9],3)"
   ]
  },
  {
   "cell_type": "code",
   "execution_count": null,
   "metadata": {},
   "outputs": [],
   "source": []
  },
  {
   "cell_type": "code",
   "execution_count": null,
   "metadata": {},
   "outputs": [],
   "source": []
  },
  {
   "cell_type": "code",
   "execution_count": 450,
   "metadata": {},
   "outputs": [],
   "source": [
    "class Solution:\n",
    "    def checkPerfectNumber(self, num: int) -> bool:\n",
    "        if num == 1 or num ==2:\n",
    "            return False\n",
    "        res = set()\n",
    "        start, end = 1, num//2\n",
    "        while start <= end:\n",
    "            if num % start == 0:\n",
    "                res.add(start)\n",
    "                end = min(end, num // start)\n",
    "            start += 1\n",
    "            if num % end == 0:\n",
    "                res.add(end)\n",
    "                start = max(start,num // end)\n",
    "            end -= 1\n",
    "        if sum(res) == num:\n",
    "            return True\n",
    "        return False"
   ]
  },
  {
   "cell_type": "code",
   "execution_count": 451,
   "metadata": {},
   "outputs": [
    {
     "data": {
      "text/plain": [
       "False"
      ]
     },
     "execution_count": 451,
     "metadata": {},
     "output_type": "execute_result"
    }
   ],
   "source": [
    "Solution().checkPerfectNumber(99999993)"
   ]
  },
  {
   "cell_type": "code",
   "execution_count": 445,
   "metadata": {},
   "outputs": [
    {
     "data": {
      "text/plain": [
       "True"
      ]
     },
     "execution_count": 445,
     "metadata": {},
     "output_type": "execute_result"
    }
   ],
   "source": [
    "Solution().checkPerfectNumber(8128)"
   ]
  },
  {
   "cell_type": "code",
   "execution_count": 452,
   "metadata": {},
   "outputs": [],
   "source": [
    "res = [0, 1,2,0, 3,4]\n",
    "res.remove(0)"
   ]
  },
  {
   "cell_type": "code",
   "execution_count": 456,
   "metadata": {},
   "outputs": [],
   "source": [
    "res.remove(0)"
   ]
  },
  {
   "cell_type": "code",
   "execution_count": 457,
   "metadata": {},
   "outputs": [
    {
     "data": {
      "text/plain": [
       "[1, 3, 4]"
      ]
     },
     "execution_count": 457,
     "metadata": {},
     "output_type": "execute_result"
    }
   ],
   "source": [
    "res"
   ]
  },
  {
   "cell_type": "code",
   "execution_count": null,
   "metadata": {},
   "outputs": [],
   "source": [
    "\n",
    "# Definition for a binary tree node.\n",
    "# class TreeNode:\n",
    "#     def __init__(self, val=0, left=None, right=None):\n",
    "#         self.val = val\n",
    "#         self.left = left\n",
    "#         self.right = right\n",
    "class Solution:\n",
    "    def countNodes(self, root: TreeNode) -> int:\n",
    "        if not root:\n",
    "            return 0\n",
    "        return 1 + self.countNodes(root.left) + self.countNodes(root.right)\n",
    "\n"
   ]
  },
  {
   "cell_type": "code",
   "execution_count": null,
   "metadata": {},
   "outputs": [],
   "source": [
    "完全二叉树：\n",
    "除了最后一层，所有左右节点均存在\n",
    "最后一层从左端开始是连续的\n",
    "如果高度为h\n",
    "则数量为2**(h-1) -1 < n_node <= 2**h -1\n",
    "\n",
    "完美二叉树：\n",
    "所有层左右节点均存在\n",
    "如果高度为h\n",
    "n_node = 2**h -1"
   ]
  },
  {
   "cell_type": "code",
   "execution_count": null,
   "metadata": {},
   "outputs": [],
   "source": [
    "class Solution {\n",
    "    static int N = 55;\n",
    "    static int[][][] f = new int[2 * N * N][N][N];\n",
    "    int[][] g;\n",
    "    int n;\n",
    "    public int catMouseGame(int[][] graph) {\n",
    "        g = graph;\n",
    "        n = g.length;\n",
    "        for (int k = 0; k < 2 * n * n; k++) {\n",
    "            for (int i = 0; i < n; i++) {\n",
    "                for (int j = 0; j < n; j++) {\n",
    "                    f[k][i][j] = -1;\n",
    "                }\n",
    "            }\n",
    "        }\n",
    "        return dfs(0, 1, 2);\n",
    "    }\n",
    "    // 0:draw / 1:mouse / 2:cat\n",
    "    int dfs(int k, int a, int b) {\n",
    "        int ans = f[k][a][b];\n",
    "        if (a == 0) ans = 1;\n",
    "        else if (a == b) ans = 2;\n",
    "        else if (k >= 2 * n * n) ans = 0;\n",
    "        else if (ans == -1) {\n",
    "            if (k % 2 == 0) { // mouse\n",
    "                boolean win = false, draw = false;\n",
    "                for (int ne : g[a]) {\n",
    "                    int t = dfs(k + 1, ne, b);\n",
    "                    if (t == 1) win = true;\n",
    "                    else if (t == 0) draw = true;\n",
    "                    if (win) break;\n",
    "                }\n",
    "                if (win) ans = 1;\n",
    "                else if (draw) ans = 0;\n",
    "                else ans = 2;\n",
    "            } else { // cat\n",
    "                boolean win = false, draw = false;\n",
    "                for (int ne : g[b]) {\n",
    "                    if (ne == 0) continue;\n",
    "                    int t = dfs(k + 1, a, ne);\n",
    "                    if (t == 2) win = true;\n",
    "                    else if (t == 0) draw = true;\n",
    "                    if (win) break;\n",
    "                }\n",
    "                if (win) ans = 2;\n",
    "                else if (draw) ans = 0;\n",
    "                else ans = 1;\n",
    "            }\n",
    "        }\n",
    "        f[k][a][b] = ans;\n",
    "        return ans;\n",
    "    }\n",
    "}"
   ]
  },
  {
   "cell_type": "code",
   "execution_count": 472,
   "metadata": {},
   "outputs": [
    {
     "data": {
      "text/plain": [
       "[]"
      ]
     },
     "execution_count": 472,
     "metadata": {},
     "output_type": "execute_result"
    }
   ],
   "source": [
    "f[3][4]"
   ]
  },
  {
   "cell_type": "code",
   "execution_count": null,
   "metadata": {},
   "outputs": [],
   "source": [
    "class Solution:\n",
    "    def catMouseGame(self, graph: List[List[int]]) -> int:\n",
    "        self.N = 55\n",
    "        self.g = graph\n",
    "        self.n = len(self.g)\n",
    "        self.f = [[[-1]* self.N for i in range(self.N)] for j in range(2*self.N*self.N)]\n",
    "        #当前进行了 k 步，老鼠所在位置为 i，猫所在的位置为 j\n",
    "        #最终的获胜情况（0 为平局，1 和 2 分别代表老鼠和猫获胜）\n",
    "        #起始所有的 f[k][i][j]=−1（为无效值） \n",
    "        return self.dfs(0,1,2)  \n",
    "        # start state 起始\n",
    "        # 当前进行了 0 步，老鼠所在位置为 1，猫所在的位置为 2 \n",
    "\n",
    "    def dfs(self,k,a,b): #  0:draw / 1:mouse / 2:cat\n",
    "        ans = self.f[k][a][b]\n",
    "        if a == 0: \n",
    "            ans = 1\n",
    "        elif a == b: \n",
    "            ans = 2\n",
    "        elif k >= 2 * self.n * self.n: \n",
    "            ans = 0\n",
    "        elif ans == -1:\n",
    "            if k%2 == 0: # mouse move 当前 k 为偶数（该回合老鼠移动）\n",
    "                win, draw = False, False\n",
    "                for ne in self.g[a]: #ne 为 i 所能到达的点\n",
    "                    t = self.dfs(k + 1, ne, b)\n",
    "                    if t == 1:  \n",
    "                        win = True\n",
    "                        break\n",
    "                    elif t == 0: \n",
    "                        draw = True\n",
    "                    # if win: break\n",
    "                if win: ans = 1\n",
    "                elif draw: ans = 0\n",
    "                else: ans = 2\n",
    "            else: # cat move 当前 k 为奇数（该回合猫移动）\n",
    "                win, draw = False, False\n",
    "                for ne in self.g[b]: #ne 为 j 所能到达的点\n",
    "                    if ne == 0: continue #猫无法移动到洞中（节点 0）\n",
    "                    t = self.dfs(k + 1, a, ne)\n",
    "                    if t == 2:  \n",
    "                        win = True\n",
    "                        break\n",
    "                    elif t == 0: draw = True\n",
    "                    # if win: break\n",
    "                if win: ans = 2\n",
    "                elif draw: ans = 0\n",
    "                else: ans = 1\n",
    "        self.f[k][a][b] = ans\n",
    "        return ans\n",
    "                "
   ]
  },
  {
   "cell_type": "code",
   "execution_count": null,
   "metadata": {},
   "outputs": [],
   "source": [
    "# 21 / 52 个通过测试用例\n",
    "# 超出时间限制"
   ]
  },
  {
   "cell_type": "code",
   "execution_count": null,
   "metadata": {},
   "outputs": [],
   "source": [
    "from typing import List\n",
    "from functools import lru_cache\n",
    "class Solution:\n",
    "    def catMouseGame(self, graph: List[List[int]]) -> int:\n",
    "        n = len(graph)\n",
    "\n",
    "        # t时刻老鼠在i位置, 猫在j位置局势下最终的结果\n",
    "        @lru_cache(typed=False, maxsize=128000000)\n",
    "        def dp(t, i, j):\n",
    "            if t > 2*n:\n",
    "                return 0\n",
    "\n",
    "            if i == 0:\n",
    "                return 1\n",
    "\n",
    "            if i == j:\n",
    "                return 2\n",
    "\n",
    "            if t % 2 == 0:\n",
    "                # 当前老鼠走步\n",
    "                flag = False\n",
    "                for next in graph[i]:\n",
    "                    if dp(t+1, next, j) == 1:\n",
    "                        return 1\n",
    "                    if dp(t+1, next, j) == 0:\n",
    "                        flag = True\n",
    "\n",
    "                return 0 if flag else 2\n",
    "\n",
    "            else:\n",
    "                # 当前猫走步\n",
    "                flag = False\n",
    "                for next in graph[j]:\n",
    "                    if next == 0:\n",
    "                        continue\n",
    "\n",
    "                    if dp(t+1, i, next) == 2:\n",
    "                        return 2\n",
    "                    if dp(t+1, i, next) == 0:\n",
    "                        flag = True\n",
    "\n",
    "                return 0 if flag else 1\n",
    "\n",
    "        return dp(0, 1, 2)"
   ]
  },
  {
   "cell_type": "code",
   "execution_count": null,
   "metadata": {},
   "outputs": [],
   "source": []
  },
  {
   "cell_type": "code",
   "execution_count": null,
   "metadata": {},
   "outputs": [],
   "source": []
  }
 ],
 "metadata": {
  "kernelspec": {
   "display_name": "Python 3",
   "language": "python",
   "name": "python3"
  },
  "language_info": {
   "codemirror_mode": {
    "name": "ipython",
    "version": 3
   },
   "file_extension": ".py",
   "mimetype": "text/x-python",
   "name": "python",
   "nbconvert_exporter": "python",
   "pygments_lexer": "ipython3",
   "version": "3.7.7"
  }
 },
 "nbformat": 4,
 "nbformat_minor": 4
}
