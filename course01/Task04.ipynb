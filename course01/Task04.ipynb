{
 "cells": [
  {
   "cell_type": "markdown",
   "metadata": {},
   "source": [
    "# Task 04 数组二分查找（3 天）"
   ]
  },
  {
   "cell_type": "markdown",
   "metadata": {},
   "source": [
    "### 第 08 天课程题目：\n",
    "  "
   ]
  },
  {
   "cell_type": "markdown",
   "metadata": {},
   "source": [
    "#### [0704. 二分查找](https://leetcode-cn.com/problems/binary-search/)\n",
    "  "
   ]
  },
  {
   "cell_type": "code",
   "execution_count": 9,
   "metadata": {},
   "outputs": [],
   "source": [
    "from typing import List\n",
    "\n",
    "class Solution:\n",
    "    def search(self, nums: List[int], target: int) -> int:\n",
    "        left = 0\n",
    "        right = len(nums) -1\n",
    "        while left <= right:\n",
    "            if  target == nums[(right+left)//2]:\n",
    "                return (right+left)//2\n",
    "            if target < nums[(right+left)//2]:\n",
    "                right = (right+left)//2 -1\n",
    "            else :\n",
    "                left = (right+left)//2 +1\n",
    "        return -1"
   ]
  },
  {
   "cell_type": "code",
   "execution_count": 10,
   "metadata": {},
   "outputs": [
    {
     "data": {
      "text/plain": [
       "4"
      ]
     },
     "execution_count": 10,
     "metadata": {},
     "output_type": "execute_result"
    }
   ],
   "source": [
    "Solution().search([-1,0,3,5,9,12],9)"
   ]
  },
  {
   "cell_type": "markdown",
   "metadata": {},
   "source": [
    "#### [0035. 搜索插入位置](https://leetcode-cn.com/problems/search-insert-position/)"
   ]
  },
  {
   "cell_type": "code",
   "execution_count": 12,
   "metadata": {
    "tags": []
   },
   "outputs": [],
   "source": [
    "# 与上面一题只是表述方式不同\n",
    "class Solution:\n",
    "    def searchInsert(self, nums: List[int], target: int) -> int:\n",
    "        if not nums: return 0 \n",
    "        low = 0\n",
    "        hi = len(nums) -1\n",
    "        while low <= hi:\n",
    "            mid = (low + hi)//2 \n",
    "            if nums[mid] == target:\n",
    "                return mid\n",
    "            if nums[mid] < target:\n",
    "                low = mid +1\n",
    "            else :\n",
    "                hi = mid -1\n",
    "        return low"
   ]
  },
  {
   "cell_type": "code",
   "execution_count": 13,
   "metadata": {},
   "outputs": [
    {
     "data": {
      "text/plain": [
       "4"
      ]
     },
     "execution_count": 13,
     "metadata": {},
     "output_type": "execute_result"
    }
   ],
   "source": [
    "Solution().searchInsert([-1,0,3,5,9,12],9)"
   ]
  },
  {
   "cell_type": "markdown",
   "metadata": {},
   "source": [
    "#### [0374. 猜数字大小](https://leetcode-cn.com/problems/guess-number-higher-or-lower/)"
   ]
  },
  {
   "cell_type": "markdown",
   "metadata": {},
   "source": [
    "解题方法与上面完全类似，唯一的不同是上面直接比较，下面比较时调用了guess函数"
   ]
  },
  {
   "cell_type": "code",
   "execution_count": null,
   "metadata": {},
   "outputs": [],
   "source": [
    "# The guess API is already defined for you.\n",
    "# @param num, your guess\n",
    "# @return -1 if my number is lower, 1 if my number is higher, otherwise return 0\n",
    "# def guess(num: int) -> int:\n",
    "\n",
    "class Solution:\n",
    "    def guessNumber(self, n: int) -> int:\n",
    "        low = 1\n",
    "        high = n\n",
    "        while low <= high:\n",
    "            mid = (low + high)//2\n",
    "            if guess(mid) == 0:\n",
    "                return mid\n",
    "            if guess(mid) == -1:\n",
    "                high = mid - 1\n",
    "            else:\n",
    "                low = mid + 1\n"
   ]
  },
  {
   "cell_type": "markdown",
   "metadata": {},
   "source": [
    "### 第 09 天课程题目：\n",
    "  "
   ]
  },
  {
   "cell_type": "markdown",
   "metadata": {},
   "source": [
    "#### [0069. Sqrt(x)](https://leetcode-cn.com/problems/sqrtx/)"
   ]
  },
  {
   "cell_type": "code",
   "execution_count": 15,
   "metadata": {},
   "outputs": [],
   "source": [
    "class Solution:\n",
    "    def mySqrt(self, x: int) -> int:\n",
    "        if not x: return 0\n",
    "        low = 1\n",
    "        high = x\n",
    "        while low <=high:\n",
    "            mid = (low+high)//2\n",
    "            if mid*mid == x:\n",
    "                return mid\n",
    "            if mid**2 < x and (mid+1)**2 >x:\n",
    "                return mid\n",
    "            elif mid**2 <x:\n",
    "                low = mid+1\n",
    "            elif mid**2 >x:\n",
    "                high = mid -1"
   ]
  },
  {
   "cell_type": "code",
   "execution_count": 18,
   "metadata": {},
   "outputs": [
    {
     "data": {
      "text/plain": [
       "2"
      ]
     },
     "execution_count": 18,
     "metadata": {},
     "output_type": "execute_result"
    }
   ],
   "source": [
    "Solution().mySqrt(4)"
   ]
  },
  {
   "cell_type": "code",
   "execution_count": 17,
   "metadata": {},
   "outputs": [],
   "source": [
    "class Solution(object):\n",
    "    def mySqrt(self, x):\n",
    "        \"\"\"\n",
    "        :type x: int\n",
    "        :rtype: int\n",
    "        \"\"\"\n",
    "        # 用二分查找\n",
    "        if x == 0 or x == 1:\n",
    "            return x\n",
    "        left, right = 0, x\n",
    "        res = 0\n",
    "\n",
    "        while left <= right:\n",
    "            mid = (left + right)//2\n",
    "            y = mid * mid\n",
    "            if y == x:\n",
    "                return int(mid)\n",
    "            if y > x:\n",
    "                right = mid -1\n",
    "            if y < x:\n",
    "                left = mid +1\n",
    "                res = mid\n",
    "        return res"
   ]
  },
  {
   "cell_type": "markdown",
   "metadata": {},
   "source": [
    "#### [0167. 两数之和 II - 输入有序数组](https://leetcode-cn.com/problems/two-sum-ii-input-array-is-sorted/) "
   ]
  },
  {
   "cell_type": "code",
   "execution_count": 19,
   "metadata": {},
   "outputs": [],
   "source": [
    "class Solution:\n",
    "    def twoSum(self, numbers: List[int], target: int) -> List[int]:\n",
    "        #双指针解法，从头尾向中间逼近\n",
    "        low = 0\n",
    "        high = len(numbers)-1\n",
    "        while low < high:\n",
    "            two = numbers[low] + numbers[high]\n",
    "            if two == target:\n",
    "                return [low+1, high+1]\n",
    "            if two > target:\n",
    "                high = high-1\n",
    "            elif two < target:\n",
    "                low = low +1\n",
    "        "
   ]
  },
  {
   "cell_type": "code",
   "execution_count": 20,
   "metadata": {},
   "outputs": [
    {
     "data": {
      "text/plain": [
       "[1, 2]"
      ]
     },
     "execution_count": 20,
     "metadata": {},
     "output_type": "execute_result"
    }
   ],
   "source": [
    "Solution().twoSum([2,7,11,15],9)"
   ]
  },
  {
   "cell_type": "markdown",
   "metadata": {},
   "source": [
    "#### [1011. 在 D 天内送达包裹的能力](https://leetcode-cn.com/problems/capacity-to-ship-packages-within-d-days/)"
   ]
  },
  {
   "cell_type": "code",
   "execution_count": 26,
   "metadata": {},
   "outputs": [],
   "source": [
    "## 参考其他人代码\n",
    "class Solution:\n",
    "    def shipWithinDays(self, weights: List[int], D: int) -> int:\n",
    "        # 最小值得是任何一个货物都可以运走, 不可以分割货物\n",
    "        start = max(weights)\n",
    "        # 最大值是一趟就全部运走, 所以是所有货物之和\n",
    "        end = sum(weights)\n",
    "        # 二分法模板\n",
    "        while start < end:\n",
    "            # 先求中间值\n",
    "            mid = (start + end)//2\n",
    "\n",
    "            # 计算这个中间值需要计算需要多少天运完\n",
    "            days = self.countDays(mid, weights)\n",
    "            # 如果天数超了, 说明运载能力有待提升, start改大一点, 继续二分搜索\n",
    "            if days > D:\n",
    "                start = mid + 1\n",
    "            # 否则运载能力改小一点继续搜索\n",
    "            else:\n",
    "                end = mid\n",
    "        return start\n",
    "\n",
    "    def countDays(self, targetWeight, weights):\n",
    "        days = 1\n",
    "        current = 0\n",
    "        for weight in weights:\n",
    "            current += weight\n",
    "            if current > targetWeight:\n",
    "                days += 1\n",
    "                current = weight\n",
    "        return days"
   ]
  },
  {
   "cell_type": "code",
   "execution_count": null,
   "metadata": {},
   "outputs": [],
   "source": []
  },
  {
   "cell_type": "markdown",
   "metadata": {
    "tags": []
   },
   "source": [
    "### 第 10 天课程题目："
   ]
  },
  {
   "cell_type": "markdown",
   "metadata": {},
   "source": [
    "#### [0278. 第一个错误的版本](https://leetcode-cn.com/problems/first-bad-version/) "
   ]
  },
  {
   "cell_type": "code",
   "execution_count": 24,
   "metadata": {},
   "outputs": [],
   "source": [
    "# The isBadVersion API is already defined for you.\n",
    "# @param version, an integer\n",
    "# @return an integer\n",
    "# def isBadVersion(version):\n",
    "\n",
    "class Solution:\n",
    "    def firstBadVersion(self, n):\n",
    "        \"\"\"\n",
    "        :type n: int\n",
    "        :rtype: int\n",
    "        \"\"\"\n",
    "        low = 1\n",
    "        high = n\n",
    "        if n ==1: return 1\n",
    "        while low < high:\n",
    "            mid = (high-low)//2 + low  #防止内存溢出\n",
    "            if isBadVersion(mid) == True:\n",
    "                high = mid\n",
    "            else:\n",
    "                low = mid + 1\n",
    "        return high"
   ]
  },
  {
   "cell_type": "markdown",
   "metadata": {},
   "source": [
    "#### [0033. 搜索旋转排序数组](https://leetcode-cn.com/problems/search-in-rotated-sorted-array/)"
   ]
  },
  {
   "cell_type": "code",
   "execution_count": 22,
   "metadata": {},
   "outputs": [],
   "source": [
    "class Solution:\n",
    "    def search(self, nums: List[int], target: int) -> int:\n",
    "        min_val = min(nums)\n",
    "        min_index = nums.index(min_val)\n",
    "        k = min_index\n",
    "        nums = nums[k:] + nums[:k]\n",
    "        low = 0\n",
    "        hi = len(nums) -1\n",
    "        while low <= hi:\n",
    "            mid = (low + hi)//2 \n",
    "            if nums[mid] == target:\n",
    "                if mid + k >= len(nums):\n",
    "                    return mid +k -len(nums)\n",
    "                return mid + k\n",
    "            if nums[mid] < target:\n",
    "                low = mid +1\n",
    "            else :\n",
    "                hi = mid -1\n",
    "        return -1   "
   ]
  },
  {
   "cell_type": "code",
   "execution_count": 23,
   "metadata": {},
   "outputs": [
    {
     "data": {
      "text/plain": [
       "4"
      ]
     },
     "execution_count": 23,
     "metadata": {},
     "output_type": "execute_result"
    }
   ],
   "source": [
    "Solution().search([4,5,6,7,0,1,2],0)"
   ]
  },
  {
   "cell_type": "markdown",
   "metadata": {},
   "source": [
    "#### [0153. 寻找旋转排序数组中的最小值](https://leetcode-cn.com/problems/find-minimum-in-rotated-sorted-array/)"
   ]
  },
  {
   "cell_type": "code",
   "execution_count": 25,
   "metadata": {},
   "outputs": [],
   "source": [
    "class Solution:\n",
    "    def findMin(self, nums: List[int]) -> int:\n",
    "        low = 0\n",
    "        high = len(nums)-1\n",
    "        while low < high:\n",
    "            mid = (high-low)//2 +low\n",
    "            if nums[high] <= nums[mid]:\n",
    "                low = mid +1\n",
    "            else :\n",
    "                high = mid \n",
    "        return nums[low]"
   ]
  },
  {
   "cell_type": "code",
   "execution_count": null,
   "metadata": {},
   "outputs": [],
   "source": []
  }
 ],
 "metadata": {
  "kernelspec": {
   "display_name": "Python 3",
   "language": "python",
   "name": "python3"
  },
  "language_info": {
   "codemirror_mode": {
    "name": "ipython",
    "version": 3
   },
   "file_extension": ".py",
   "mimetype": "text/x-python",
   "name": "python",
   "nbconvert_exporter": "python",
   "pygments_lexer": "ipython3",
   "version": "3.7.7"
  }
 },
 "nbformat": 4,
 "nbformat_minor": 4
}
